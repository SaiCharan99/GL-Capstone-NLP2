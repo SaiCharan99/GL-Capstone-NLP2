{
  "cells": [
    {
      "cell_type": "code",
      "execution_count": null,
      "metadata": {
        "id": "8_7bh9VVlW5L"
      },
      "outputs": [],
      "source": [
        ""
      ]
    },
    {
      "cell_type": "markdown",
      "source": [
        "GitHub Link:https://github.com/SaiCharan99/GL-Capstone-NLP2/tree/main"
      ],
      "metadata": {
        "id": "DPN4qblsGGGA"
      }
    },
    {
      "cell_type": "code",
      "source": [
        "import numpy as np # linear algebra\n",
        "import pandas as pd # data processing, CSV file I/O (e.g. pd.read_csv)\n",
        "from tqdm import tqdm\n",
        "from sklearn.model_selection import train_test_split\n",
        "import tensorflow as tf\n",
        "from keras.models import Sequential\n",
        "from keras.layers.recurrent import LSTM, GRU,SimpleRNN\n",
        "from keras.layers.core import Dense, Activation, Dropout\n",
        "from keras.layers.embeddings import Embedding\n",
        "#from keras.layers.normalization import BatchNormalization\n",
        "from keras.utils import np_utils\n",
        "\n",
        "from sklearn import preprocessing, decomposition, model_selection, metrics, pipeline\n",
        "from keras.layers import GlobalMaxPooling1D, Conv1D, MaxPooling1D, Flatten, Bidirectional, SpatialDropout1D\n",
        "from keras.preprocessing import sequence, text\n",
        "from keras.callbacks import EarlyStopping\n",
        "\n",
        "\n",
        "import matplotlib.pyplot as plt\n",
        "import seaborn as sns\n",
        "%matplotlib inline\n",
        "from plotly import graph_objs as go\n",
        "import plotly.express as px\n",
        "import plotly.figure_factory as ff"
      ],
      "metadata": {
        "id": "GaOI0AfKGB8d"
      },
      "execution_count": null,
      "outputs": []
    },
    {
      "cell_type": "code",
      "execution_count": null,
      "metadata": {
        "colab": {
          "base_uri": "https://localhost:8080/",
          "height": 35
        },
        "id": "uck2r_JhiUV2",
        "outputId": "33be7741-7d53-41b6-9535-241026b1c976"
      },
      "outputs": [
        {
          "output_type": "execute_result",
          "data": {
            "application/vnd.google.colaboratory.intrinsic+json": {
              "type": "string"
            },
            "text/plain": [
              "'/content/drive/MyDrive'"
            ]
          },
          "metadata": {},
          "execution_count": 211
        }
      ],
      "source": [
        "pwd"
      ]
    },
    {
      "cell_type": "code",
      "execution_count": null,
      "metadata": {
        "colab": {
          "base_uri": "https://localhost:8080/"
        },
        "id": "rgvFId1kolQ0",
        "outputId": "a081757e-2867-4e4b-a1ee-eccaaf1c41d4"
      },
      "outputs": [
        {
          "output_type": "stream",
          "name": "stdout",
          "text": [
            "Drive already mounted at /content/drive; to attempt to forcibly remount, call drive.mount(\"/content/drive\", force_remount=True).\n"
          ]
        }
      ],
      "source": [
        "from google.colab import drive\n",
        "drive.mount(\"/content/drive\")"
      ]
    },
    {
      "cell_type": "code",
      "execution_count": null,
      "metadata": {
        "colab": {
          "base_uri": "https://localhost:8080/"
        },
        "id": "ijDxz2-hkR-z",
        "outputId": "c51d4200-0d49-4d13-a269-bc84e687fb1c"
      },
      "outputs": [
        {
          "output_type": "stream",
          "name": "stdout",
          "text": [
            "/content/drive/MyDrive\n"
          ]
        }
      ],
      "source": [
        "cd /content/drive/MyDrive"
      ]
    },
    {
      "cell_type": "code",
      "execution_count": null,
      "metadata": {
        "id": "ARoGgcKzrCNR"
      },
      "outputs": [],
      "source": [
        "import pandas as pd\n",
        "df=pd.read_csv(\"Data Set - industrial_safety_and_health_database_with_accidents_description.csv\")"
      ]
    },
    {
      "cell_type": "code",
      "execution_count": null,
      "metadata": {
        "id": "pn-C4Z5uiNBf"
      },
      "outputs": [],
      "source": [
        ""
      ]
    },
    {
      "cell_type": "code",
      "execution_count": null,
      "metadata": {
        "colab": {
          "base_uri": "https://localhost:8080/",
          "height": 354
        },
        "id": "gytP3wl_trzD",
        "outputId": "1ad4efef-bc4a-4fb5-d8ba-3d17ebe1d884"
      },
      "outputs": [
        {
          "output_type": "execute_result",
          "data": {
            "text/html": [
              "\n",
              "  <div id=\"df-c8d14a94-df95-4381-8df9-3f5d9918a3fc\">\n",
              "    <div class=\"colab-df-container\">\n",
              "      <div>\n",
              "<style scoped>\n",
              "    .dataframe tbody tr th:only-of-type {\n",
              "        vertical-align: middle;\n",
              "    }\n",
              "\n",
              "    .dataframe tbody tr th {\n",
              "        vertical-align: top;\n",
              "    }\n",
              "\n",
              "    .dataframe thead th {\n",
              "        text-align: right;\n",
              "    }\n",
              "</style>\n",
              "<table border=\"1\" class=\"dataframe\">\n",
              "  <thead>\n",
              "    <tr style=\"text-align: right;\">\n",
              "      <th></th>\n",
              "      <th>Unnamed: 0</th>\n",
              "      <th>Data</th>\n",
              "      <th>Countries</th>\n",
              "      <th>Local</th>\n",
              "      <th>Industry Sector</th>\n",
              "      <th>Accident Level</th>\n",
              "      <th>Potential Accident Level</th>\n",
              "      <th>Genre</th>\n",
              "      <th>Employee or Third Party</th>\n",
              "      <th>Critical Risk</th>\n",
              "      <th>Description</th>\n",
              "    </tr>\n",
              "  </thead>\n",
              "  <tbody>\n",
              "    <tr>\n",
              "      <th>0</th>\n",
              "      <td>0</td>\n",
              "      <td>2016-01-01 00:00:00</td>\n",
              "      <td>Country_01</td>\n",
              "      <td>Local_01</td>\n",
              "      <td>Mining</td>\n",
              "      <td>I</td>\n",
              "      <td>IV</td>\n",
              "      <td>Male</td>\n",
              "      <td>Third Party</td>\n",
              "      <td>Pressed</td>\n",
              "      <td>While removing the drill rod of the Jumbo 08 f...</td>\n",
              "    </tr>\n",
              "    <tr>\n",
              "      <th>1</th>\n",
              "      <td>1</td>\n",
              "      <td>2016-01-02 00:00:00</td>\n",
              "      <td>Country_02</td>\n",
              "      <td>Local_02</td>\n",
              "      <td>Mining</td>\n",
              "      <td>I</td>\n",
              "      <td>IV</td>\n",
              "      <td>Male</td>\n",
              "      <td>Employee</td>\n",
              "      <td>Pressurized Systems</td>\n",
              "      <td>During the activation of a sodium sulphide pum...</td>\n",
              "    </tr>\n",
              "    <tr>\n",
              "      <th>2</th>\n",
              "      <td>2</td>\n",
              "      <td>2016-01-06 00:00:00</td>\n",
              "      <td>Country_01</td>\n",
              "      <td>Local_03</td>\n",
              "      <td>Mining</td>\n",
              "      <td>I</td>\n",
              "      <td>III</td>\n",
              "      <td>Male</td>\n",
              "      <td>Third Party (Remote)</td>\n",
              "      <td>Manual Tools</td>\n",
              "      <td>In the sub-station MILPO located at level +170...</td>\n",
              "    </tr>\n",
              "    <tr>\n",
              "      <th>3</th>\n",
              "      <td>3</td>\n",
              "      <td>2016-01-08 00:00:00</td>\n",
              "      <td>Country_01</td>\n",
              "      <td>Local_04</td>\n",
              "      <td>Mining</td>\n",
              "      <td>I</td>\n",
              "      <td>I</td>\n",
              "      <td>Male</td>\n",
              "      <td>Third Party</td>\n",
              "      <td>Others</td>\n",
              "      <td>Being 9:45 am. approximately in the Nv. 1880 C...</td>\n",
              "    </tr>\n",
              "    <tr>\n",
              "      <th>4</th>\n",
              "      <td>4</td>\n",
              "      <td>2016-01-10 00:00:00</td>\n",
              "      <td>Country_01</td>\n",
              "      <td>Local_04</td>\n",
              "      <td>Mining</td>\n",
              "      <td>IV</td>\n",
              "      <td>IV</td>\n",
              "      <td>Male</td>\n",
              "      <td>Third Party</td>\n",
              "      <td>Others</td>\n",
              "      <td>Approximately at 11:45 a.m. in circumstances t...</td>\n",
              "    </tr>\n",
              "  </tbody>\n",
              "</table>\n",
              "</div>\n",
              "      <button class=\"colab-df-convert\" onclick=\"convertToInteractive('df-c8d14a94-df95-4381-8df9-3f5d9918a3fc')\"\n",
              "              title=\"Convert this dataframe to an interactive table.\"\n",
              "              style=\"display:none;\">\n",
              "        \n",
              "  <svg xmlns=\"http://www.w3.org/2000/svg\" height=\"24px\"viewBox=\"0 0 24 24\"\n",
              "       width=\"24px\">\n",
              "    <path d=\"M0 0h24v24H0V0z\" fill=\"none\"/>\n",
              "    <path d=\"M18.56 5.44l.94 2.06.94-2.06 2.06-.94-2.06-.94-.94-2.06-.94 2.06-2.06.94zm-11 1L8.5 8.5l.94-2.06 2.06-.94-2.06-.94L8.5 2.5l-.94 2.06-2.06.94zm10 10l.94 2.06.94-2.06 2.06-.94-2.06-.94-.94-2.06-.94 2.06-2.06.94z\"/><path d=\"M17.41 7.96l-1.37-1.37c-.4-.4-.92-.59-1.43-.59-.52 0-1.04.2-1.43.59L10.3 9.45l-7.72 7.72c-.78.78-.78 2.05 0 2.83L4 21.41c.39.39.9.59 1.41.59.51 0 1.02-.2 1.41-.59l7.78-7.78 2.81-2.81c.8-.78.8-2.07 0-2.86zM5.41 20L4 18.59l7.72-7.72 1.47 1.35L5.41 20z\"/>\n",
              "  </svg>\n",
              "      </button>\n",
              "      \n",
              "  <style>\n",
              "    .colab-df-container {\n",
              "      display:flex;\n",
              "      flex-wrap:wrap;\n",
              "      gap: 12px;\n",
              "    }\n",
              "\n",
              "    .colab-df-convert {\n",
              "      background-color: #E8F0FE;\n",
              "      border: none;\n",
              "      border-radius: 50%;\n",
              "      cursor: pointer;\n",
              "      display: none;\n",
              "      fill: #1967D2;\n",
              "      height: 32px;\n",
              "      padding: 0 0 0 0;\n",
              "      width: 32px;\n",
              "    }\n",
              "\n",
              "    .colab-df-convert:hover {\n",
              "      background-color: #E2EBFA;\n",
              "      box-shadow: 0px 1px 2px rgba(60, 64, 67, 0.3), 0px 1px 3px 1px rgba(60, 64, 67, 0.15);\n",
              "      fill: #174EA6;\n",
              "    }\n",
              "\n",
              "    [theme=dark] .colab-df-convert {\n",
              "      background-color: #3B4455;\n",
              "      fill: #D2E3FC;\n",
              "    }\n",
              "\n",
              "    [theme=dark] .colab-df-convert:hover {\n",
              "      background-color: #434B5C;\n",
              "      box-shadow: 0px 1px 3px 1px rgba(0, 0, 0, 0.15);\n",
              "      filter: drop-shadow(0px 1px 2px rgba(0, 0, 0, 0.3));\n",
              "      fill: #FFFFFF;\n",
              "    }\n",
              "  </style>\n",
              "\n",
              "      <script>\n",
              "        const buttonEl =\n",
              "          document.querySelector('#df-c8d14a94-df95-4381-8df9-3f5d9918a3fc button.colab-df-convert');\n",
              "        buttonEl.style.display =\n",
              "          google.colab.kernel.accessAllowed ? 'block' : 'none';\n",
              "\n",
              "        async function convertToInteractive(key) {\n",
              "          const element = document.querySelector('#df-c8d14a94-df95-4381-8df9-3f5d9918a3fc');\n",
              "          const dataTable =\n",
              "            await google.colab.kernel.invokeFunction('convertToInteractive',\n",
              "                                                     [key], {});\n",
              "          if (!dataTable) return;\n",
              "\n",
              "          const docLinkHtml = 'Like what you see? Visit the ' +\n",
              "            '<a target=\"_blank\" href=https://colab.research.google.com/notebooks/data_table.ipynb>data table notebook</a>'\n",
              "            + ' to learn more about interactive tables.';\n",
              "          element.innerHTML = '';\n",
              "          dataTable['output_type'] = 'display_data';\n",
              "          await google.colab.output.renderOutput(dataTable, element);\n",
              "          const docLink = document.createElement('div');\n",
              "          docLink.innerHTML = docLinkHtml;\n",
              "          element.appendChild(docLink);\n",
              "        }\n",
              "      </script>\n",
              "    </div>\n",
              "  </div>\n",
              "  "
            ],
            "text/plain": [
              "   Unnamed: 0  ...                                        Description\n",
              "0           0  ...  While removing the drill rod of the Jumbo 08 f...\n",
              "1           1  ...  During the activation of a sodium sulphide pum...\n",
              "2           2  ...  In the sub-station MILPO located at level +170...\n",
              "3           3  ...  Being 9:45 am. approximately in the Nv. 1880 C...\n",
              "4           4  ...  Approximately at 11:45 a.m. in circumstances t...\n",
              "\n",
              "[5 rows x 11 columns]"
            ]
          },
          "metadata": {},
          "execution_count": 215
        }
      ],
      "source": [
        "df.head()"
      ]
    },
    {
      "cell_type": "code",
      "execution_count": null,
      "metadata": {
        "colab": {
          "base_uri": "https://localhost:8080/"
        },
        "id": "6gsRPprSt0wS",
        "outputId": "7dbe24fc-736b-4242-a6b6-f90e8b55814a"
      },
      "outputs": [
        {
          "output_type": "execute_result",
          "data": {
            "text/plain": [
              "Unnamed: 0                  0\n",
              "Data                        0\n",
              "Countries                   0\n",
              "Local                       0\n",
              "Industry Sector             0\n",
              "Accident Level              0\n",
              "Potential Accident Level    0\n",
              "Genre                       0\n",
              "Employee or Third Party     0\n",
              "Critical Risk               0\n",
              "Description                 0\n",
              "dtype: int64"
            ]
          },
          "metadata": {},
          "execution_count": 216
        }
      ],
      "source": [
        "df.isnull().sum()\n",
        "#no null values"
      ]
    },
    {
      "cell_type": "code",
      "execution_count": null,
      "metadata": {
        "colab": {
          "base_uri": "https://localhost:8080/"
        },
        "id": "_UsLy12wuYD-",
        "outputId": "24254eb5-b8b1-4caa-8572-03b8e74c60a1"
      },
      "outputs": [
        {
          "output_type": "execute_result",
          "data": {
            "text/plain": [
              "0"
            ]
          },
          "metadata": {},
          "execution_count": 217
        }
      ],
      "source": [
        "df.duplicated().sum()\n",
        "#no duplicates"
      ]
    },
    {
      "cell_type": "code",
      "execution_count": null,
      "metadata": {
        "colab": {
          "base_uri": "https://localhost:8080/"
        },
        "id": "wPRL__0Yum4D",
        "outputId": "952086b6-13e0-4e5f-e22c-774b31a046eb"
      },
      "outputs": [
        {
          "output_type": "stream",
          "name": "stdout",
          "text": [
            "<class 'pandas.core.frame.DataFrame'>\n",
            "RangeIndex: 425 entries, 0 to 424\n",
            "Data columns (total 11 columns):\n",
            " #   Column                    Non-Null Count  Dtype \n",
            "---  ------                    --------------  ----- \n",
            " 0   Unnamed: 0                425 non-null    int64 \n",
            " 1   Data                      425 non-null    object\n",
            " 2   Countries                 425 non-null    object\n",
            " 3   Local                     425 non-null    object\n",
            " 4   Industry Sector           425 non-null    object\n",
            " 5   Accident Level            425 non-null    object\n",
            " 6   Potential Accident Level  425 non-null    object\n",
            " 7   Genre                     425 non-null    object\n",
            " 8   Employee or Third Party   425 non-null    object\n",
            " 9   Critical Risk             425 non-null    object\n",
            " 10  Description               425 non-null    object\n",
            "dtypes: int64(1), object(10)\n",
            "memory usage: 36.6+ KB\n"
          ]
        }
      ],
      "source": [
        "df.info()"
      ]
    },
    {
      "cell_type": "code",
      "execution_count": null,
      "metadata": {
        "id": "_Om91y2_heN5"
      },
      "outputs": [],
      "source": [
        "x=df.copy()"
      ]
    },
    {
      "cell_type": "code",
      "execution_count": null,
      "metadata": {
        "id": "d3wermj5k5d1"
      },
      "outputs": [],
      "source": [
        "# extracting year,moth and date from timestamp column\n",
        "year=[]\n",
        "month=[]\n",
        "date=[]\n",
        "for x in range(df.shape[0]):\n",
        "  h=df['Data'][x].split()\n",
        "  k=h[0].split('-')\n",
        "  year.append(int(k[0]))\n",
        "  month.append(int(k[1]))\n",
        "  date.append(int(k[2]))"
      ]
    },
    {
      "cell_type": "code",
      "execution_count": null,
      "metadata": {
        "colab": {
          "base_uri": "https://localhost:8080/",
          "height": 206
        },
        "id": "YJxMnIU9lXET",
        "outputId": "86d5ab5c-d024-4284-d6e0-2e98380ed82c"
      },
      "outputs": [
        {
          "output_type": "execute_result",
          "data": {
            "text/html": [
              "\n",
              "  <div id=\"df-06b4c06d-4e1c-47f3-9889-a32d939b0d61\">\n",
              "    <div class=\"colab-df-container\">\n",
              "      <div>\n",
              "<style scoped>\n",
              "    .dataframe tbody tr th:only-of-type {\n",
              "        vertical-align: middle;\n",
              "    }\n",
              "\n",
              "    .dataframe tbody tr th {\n",
              "        vertical-align: top;\n",
              "    }\n",
              "\n",
              "    .dataframe thead th {\n",
              "        text-align: right;\n",
              "    }\n",
              "</style>\n",
              "<table border=\"1\" class=\"dataframe\">\n",
              "  <thead>\n",
              "    <tr style=\"text-align: right;\">\n",
              "      <th></th>\n",
              "      <th>Year</th>\n",
              "      <th>Month</th>\n",
              "      <th>Date</th>\n",
              "    </tr>\n",
              "  </thead>\n",
              "  <tbody>\n",
              "    <tr>\n",
              "      <th>0</th>\n",
              "      <td>2016</td>\n",
              "      <td>1</td>\n",
              "      <td>1</td>\n",
              "    </tr>\n",
              "    <tr>\n",
              "      <th>1</th>\n",
              "      <td>2016</td>\n",
              "      <td>1</td>\n",
              "      <td>2</td>\n",
              "    </tr>\n",
              "    <tr>\n",
              "      <th>2</th>\n",
              "      <td>2016</td>\n",
              "      <td>1</td>\n",
              "      <td>6</td>\n",
              "    </tr>\n",
              "    <tr>\n",
              "      <th>3</th>\n",
              "      <td>2016</td>\n",
              "      <td>1</td>\n",
              "      <td>8</td>\n",
              "    </tr>\n",
              "    <tr>\n",
              "      <th>4</th>\n",
              "      <td>2016</td>\n",
              "      <td>1</td>\n",
              "      <td>10</td>\n",
              "    </tr>\n",
              "  </tbody>\n",
              "</table>\n",
              "</div>\n",
              "      <button class=\"colab-df-convert\" onclick=\"convertToInteractive('df-06b4c06d-4e1c-47f3-9889-a32d939b0d61')\"\n",
              "              title=\"Convert this dataframe to an interactive table.\"\n",
              "              style=\"display:none;\">\n",
              "        \n",
              "  <svg xmlns=\"http://www.w3.org/2000/svg\" height=\"24px\"viewBox=\"0 0 24 24\"\n",
              "       width=\"24px\">\n",
              "    <path d=\"M0 0h24v24H0V0z\" fill=\"none\"/>\n",
              "    <path d=\"M18.56 5.44l.94 2.06.94-2.06 2.06-.94-2.06-.94-.94-2.06-.94 2.06-2.06.94zm-11 1L8.5 8.5l.94-2.06 2.06-.94-2.06-.94L8.5 2.5l-.94 2.06-2.06.94zm10 10l.94 2.06.94-2.06 2.06-.94-2.06-.94-.94-2.06-.94 2.06-2.06.94z\"/><path d=\"M17.41 7.96l-1.37-1.37c-.4-.4-.92-.59-1.43-.59-.52 0-1.04.2-1.43.59L10.3 9.45l-7.72 7.72c-.78.78-.78 2.05 0 2.83L4 21.41c.39.39.9.59 1.41.59.51 0 1.02-.2 1.41-.59l7.78-7.78 2.81-2.81c.8-.78.8-2.07 0-2.86zM5.41 20L4 18.59l7.72-7.72 1.47 1.35L5.41 20z\"/>\n",
              "  </svg>\n",
              "      </button>\n",
              "      \n",
              "  <style>\n",
              "    .colab-df-container {\n",
              "      display:flex;\n",
              "      flex-wrap:wrap;\n",
              "      gap: 12px;\n",
              "    }\n",
              "\n",
              "    .colab-df-convert {\n",
              "      background-color: #E8F0FE;\n",
              "      border: none;\n",
              "      border-radius: 50%;\n",
              "      cursor: pointer;\n",
              "      display: none;\n",
              "      fill: #1967D2;\n",
              "      height: 32px;\n",
              "      padding: 0 0 0 0;\n",
              "      width: 32px;\n",
              "    }\n",
              "\n",
              "    .colab-df-convert:hover {\n",
              "      background-color: #E2EBFA;\n",
              "      box-shadow: 0px 1px 2px rgba(60, 64, 67, 0.3), 0px 1px 3px 1px rgba(60, 64, 67, 0.15);\n",
              "      fill: #174EA6;\n",
              "    }\n",
              "\n",
              "    [theme=dark] .colab-df-convert {\n",
              "      background-color: #3B4455;\n",
              "      fill: #D2E3FC;\n",
              "    }\n",
              "\n",
              "    [theme=dark] .colab-df-convert:hover {\n",
              "      background-color: #434B5C;\n",
              "      box-shadow: 0px 1px 3px 1px rgba(0, 0, 0, 0.15);\n",
              "      filter: drop-shadow(0px 1px 2px rgba(0, 0, 0, 0.3));\n",
              "      fill: #FFFFFF;\n",
              "    }\n",
              "  </style>\n",
              "\n",
              "      <script>\n",
              "        const buttonEl =\n",
              "          document.querySelector('#df-06b4c06d-4e1c-47f3-9889-a32d939b0d61 button.colab-df-convert');\n",
              "        buttonEl.style.display =\n",
              "          google.colab.kernel.accessAllowed ? 'block' : 'none';\n",
              "\n",
              "        async function convertToInteractive(key) {\n",
              "          const element = document.querySelector('#df-06b4c06d-4e1c-47f3-9889-a32d939b0d61');\n",
              "          const dataTable =\n",
              "            await google.colab.kernel.invokeFunction('convertToInteractive',\n",
              "                                                     [key], {});\n",
              "          if (!dataTable) return;\n",
              "\n",
              "          const docLinkHtml = 'Like what you see? Visit the ' +\n",
              "            '<a target=\"_blank\" href=https://colab.research.google.com/notebooks/data_table.ipynb>data table notebook</a>'\n",
              "            + ' to learn more about interactive tables.';\n",
              "          element.innerHTML = '';\n",
              "          dataTable['output_type'] = 'display_data';\n",
              "          await google.colab.output.renderOutput(dataTable, element);\n",
              "          const docLink = document.createElement('div');\n",
              "          docLink.innerHTML = docLinkHtml;\n",
              "          element.appendChild(docLink);\n",
              "        }\n",
              "      </script>\n",
              "    </div>\n",
              "  </div>\n",
              "  "
            ],
            "text/plain": [
              "   Year  Month  Date\n",
              "0  2016      1     1\n",
              "1  2016      1     2\n",
              "2  2016      1     6\n",
              "3  2016      1     8\n",
              "4  2016      1    10"
            ]
          },
          "metadata": {},
          "execution_count": 221
        }
      ],
      "source": [
        "dates=list(zip(year,month,date))\n",
        "df_date=pd.DataFrame(dates,columns=['Year','Month','Date'])\n",
        "df_date.head()"
      ]
    },
    {
      "cell_type": "code",
      "execution_count": null,
      "metadata": {
        "id": "9Zub0XG1nLHf"
      },
      "outputs": [],
      "source": [
        "df_new=pd.concat([df,df_date],axis=1)"
      ]
    },
    {
      "cell_type": "code",
      "execution_count": null,
      "metadata": {
        "colab": {
          "base_uri": "https://localhost:8080/"
        },
        "id": "OHVAQ7XsnUxP",
        "outputId": "99301637-569e-411a-d02e-5ae8d615c917"
      },
      "outputs": [
        {
          "output_type": "execute_result",
          "data": {
            "text/plain": [
              "['Unnamed: 0',\n",
              " 'Data',\n",
              " 'Countries',\n",
              " 'Local',\n",
              " 'Industry Sector',\n",
              " 'Accident Level',\n",
              " 'Potential Accident Level',\n",
              " 'Genre',\n",
              " 'Employee or Third Party',\n",
              " 'Critical Risk',\n",
              " 'Description',\n",
              " 'Year',\n",
              " 'Month',\n",
              " 'Date']"
            ]
          },
          "metadata": {},
          "execution_count": 223
        }
      ],
      "source": [
        "col=df_new.columns.to_list()\n",
        "col"
      ]
    },
    {
      "cell_type": "code",
      "execution_count": null,
      "metadata": {
        "colab": {
          "base_uri": "https://localhost:8080/"
        },
        "id": "7BlwSvrBnn8g",
        "outputId": "8b676966-1315-4f69-e12e-511cd2a7c177"
      },
      "outputs": [
        {
          "output_type": "execute_result",
          "data": {
            "text/plain": [
              "['Unnamed: 0',\n",
              " 'Data',\n",
              " 'Year',\n",
              " 'Month',\n",
              " 'Date',\n",
              " 'Countries',\n",
              " 'Local',\n",
              " 'Industry Sector',\n",
              " 'Accident Level',\n",
              " 'Potential Accident Level',\n",
              " 'Genre',\n",
              " 'Employee or Third Party',\n",
              " 'Critical Risk',\n",
              " 'Description']"
            ]
          },
          "metadata": {},
          "execution_count": 224
        }
      ],
      "source": [
        "#concatenating the columns in one dataframe\n",
        "col1 =col[:2]+col[-3:]+col[2:-3]\n",
        "col1"
      ]
    },
    {
      "cell_type": "code",
      "execution_count": null,
      "metadata": {
        "id": "7Oopzk_VnrJg"
      },
      "outputs": [],
      "source": [
        "df_latest = df_new[col1]"
      ]
    },
    {
      "cell_type": "code",
      "execution_count": null,
      "metadata": {
        "id": "ofEuWmPnn8-h"
      },
      "outputs": [],
      "source": [
        "# Make a copy of the dataframe\n",
        "df_latest_copy = df_latest.copy()"
      ]
    },
    {
      "cell_type": "code",
      "execution_count": null,
      "metadata": {
        "colab": {
          "base_uri": "https://localhost:8080/",
          "height": 257
        },
        "id": "KgowjY6MoYci",
        "outputId": "f6fc7bee-f767-4291-de84-39377f35460b"
      },
      "outputs": [
        {
          "output_type": "execute_result",
          "data": {
            "text/html": [
              "\n",
              "  <div id=\"df-3a8ab524-b532-478a-82f4-de6548b88cab\">\n",
              "    <div class=\"colab-df-container\">\n",
              "      <div>\n",
              "<style scoped>\n",
              "    .dataframe tbody tr th:only-of-type {\n",
              "        vertical-align: middle;\n",
              "    }\n",
              "\n",
              "    .dataframe tbody tr th {\n",
              "        vertical-align: top;\n",
              "    }\n",
              "\n",
              "    .dataframe thead th {\n",
              "        text-align: right;\n",
              "    }\n",
              "</style>\n",
              "<table border=\"1\" class=\"dataframe\">\n",
              "  <thead>\n",
              "    <tr style=\"text-align: right;\">\n",
              "      <th></th>\n",
              "      <th>Year</th>\n",
              "      <th>Month</th>\n",
              "      <th>Date</th>\n",
              "      <th>Countries</th>\n",
              "      <th>Local</th>\n",
              "      <th>Industry Sector</th>\n",
              "      <th>Accident Level</th>\n",
              "      <th>Potential Accident Level</th>\n",
              "      <th>Genre</th>\n",
              "      <th>Employee or Third Party</th>\n",
              "      <th>Critical Risk</th>\n",
              "      <th>Description</th>\n",
              "    </tr>\n",
              "  </thead>\n",
              "  <tbody>\n",
              "    <tr>\n",
              "      <th>0</th>\n",
              "      <td>2016</td>\n",
              "      <td>1</td>\n",
              "      <td>1</td>\n",
              "      <td>Country_01</td>\n",
              "      <td>Local_01</td>\n",
              "      <td>Mining</td>\n",
              "      <td>I</td>\n",
              "      <td>IV</td>\n",
              "      <td>Male</td>\n",
              "      <td>Third Party</td>\n",
              "      <td>Pressed</td>\n",
              "      <td>While removing the drill rod of the Jumbo 08 f...</td>\n",
              "    </tr>\n",
              "    <tr>\n",
              "      <th>1</th>\n",
              "      <td>2016</td>\n",
              "      <td>1</td>\n",
              "      <td>2</td>\n",
              "      <td>Country_02</td>\n",
              "      <td>Local_02</td>\n",
              "      <td>Mining</td>\n",
              "      <td>I</td>\n",
              "      <td>IV</td>\n",
              "      <td>Male</td>\n",
              "      <td>Employee</td>\n",
              "      <td>Pressurized Systems</td>\n",
              "      <td>During the activation of a sodium sulphide pum...</td>\n",
              "    </tr>\n",
              "    <tr>\n",
              "      <th>2</th>\n",
              "      <td>2016</td>\n",
              "      <td>1</td>\n",
              "      <td>6</td>\n",
              "      <td>Country_01</td>\n",
              "      <td>Local_03</td>\n",
              "      <td>Mining</td>\n",
              "      <td>I</td>\n",
              "      <td>III</td>\n",
              "      <td>Male</td>\n",
              "      <td>Third Party (Remote)</td>\n",
              "      <td>Manual Tools</td>\n",
              "      <td>In the sub-station MILPO located at level +170...</td>\n",
              "    </tr>\n",
              "  </tbody>\n",
              "</table>\n",
              "</div>\n",
              "      <button class=\"colab-df-convert\" onclick=\"convertToInteractive('df-3a8ab524-b532-478a-82f4-de6548b88cab')\"\n",
              "              title=\"Convert this dataframe to an interactive table.\"\n",
              "              style=\"display:none;\">\n",
              "        \n",
              "  <svg xmlns=\"http://www.w3.org/2000/svg\" height=\"24px\"viewBox=\"0 0 24 24\"\n",
              "       width=\"24px\">\n",
              "    <path d=\"M0 0h24v24H0V0z\" fill=\"none\"/>\n",
              "    <path d=\"M18.56 5.44l.94 2.06.94-2.06 2.06-.94-2.06-.94-.94-2.06-.94 2.06-2.06.94zm-11 1L8.5 8.5l.94-2.06 2.06-.94-2.06-.94L8.5 2.5l-.94 2.06-2.06.94zm10 10l.94 2.06.94-2.06 2.06-.94-2.06-.94-.94-2.06-.94 2.06-2.06.94z\"/><path d=\"M17.41 7.96l-1.37-1.37c-.4-.4-.92-.59-1.43-.59-.52 0-1.04.2-1.43.59L10.3 9.45l-7.72 7.72c-.78.78-.78 2.05 0 2.83L4 21.41c.39.39.9.59 1.41.59.51 0 1.02-.2 1.41-.59l7.78-7.78 2.81-2.81c.8-.78.8-2.07 0-2.86zM5.41 20L4 18.59l7.72-7.72 1.47 1.35L5.41 20z\"/>\n",
              "  </svg>\n",
              "      </button>\n",
              "      \n",
              "  <style>\n",
              "    .colab-df-container {\n",
              "      display:flex;\n",
              "      flex-wrap:wrap;\n",
              "      gap: 12px;\n",
              "    }\n",
              "\n",
              "    .colab-df-convert {\n",
              "      background-color: #E8F0FE;\n",
              "      border: none;\n",
              "      border-radius: 50%;\n",
              "      cursor: pointer;\n",
              "      display: none;\n",
              "      fill: #1967D2;\n",
              "      height: 32px;\n",
              "      padding: 0 0 0 0;\n",
              "      width: 32px;\n",
              "    }\n",
              "\n",
              "    .colab-df-convert:hover {\n",
              "      background-color: #E2EBFA;\n",
              "      box-shadow: 0px 1px 2px rgba(60, 64, 67, 0.3), 0px 1px 3px 1px rgba(60, 64, 67, 0.15);\n",
              "      fill: #174EA6;\n",
              "    }\n",
              "\n",
              "    [theme=dark] .colab-df-convert {\n",
              "      background-color: #3B4455;\n",
              "      fill: #D2E3FC;\n",
              "    }\n",
              "\n",
              "    [theme=dark] .colab-df-convert:hover {\n",
              "      background-color: #434B5C;\n",
              "      box-shadow: 0px 1px 3px 1px rgba(0, 0, 0, 0.15);\n",
              "      filter: drop-shadow(0px 1px 2px rgba(0, 0, 0, 0.3));\n",
              "      fill: #FFFFFF;\n",
              "    }\n",
              "  </style>\n",
              "\n",
              "      <script>\n",
              "        const buttonEl =\n",
              "          document.querySelector('#df-3a8ab524-b532-478a-82f4-de6548b88cab button.colab-df-convert');\n",
              "        buttonEl.style.display =\n",
              "          google.colab.kernel.accessAllowed ? 'block' : 'none';\n",
              "\n",
              "        async function convertToInteractive(key) {\n",
              "          const element = document.querySelector('#df-3a8ab524-b532-478a-82f4-de6548b88cab');\n",
              "          const dataTable =\n",
              "            await google.colab.kernel.invokeFunction('convertToInteractive',\n",
              "                                                     [key], {});\n",
              "          if (!dataTable) return;\n",
              "\n",
              "          const docLinkHtml = 'Like what you see? Visit the ' +\n",
              "            '<a target=\"_blank\" href=https://colab.research.google.com/notebooks/data_table.ipynb>data table notebook</a>'\n",
              "            + ' to learn more about interactive tables.';\n",
              "          element.innerHTML = '';\n",
              "          dataTable['output_type'] = 'display_data';\n",
              "          await google.colab.output.renderOutput(dataTable, element);\n",
              "          const docLink = document.createElement('div');\n",
              "          docLink.innerHTML = docLinkHtml;\n",
              "          element.appendChild(docLink);\n",
              "        }\n",
              "      </script>\n",
              "    </div>\n",
              "  </div>\n",
              "  "
            ],
            "text/plain": [
              "   Year  ...                                        Description\n",
              "0  2016  ...  While removing the drill rod of the Jumbo 08 f...\n",
              "1  2016  ...  During the activation of a sodium sulphide pum...\n",
              "2  2016  ...  In the sub-station MILPO located at level +170...\n",
              "\n",
              "[3 rows x 12 columns]"
            ]
          },
          "metadata": {},
          "execution_count": 227
        }
      ],
      "source": [
        "df_latest.drop(['Unnamed: 0','Data'], axis=1,inplace = True)\n",
        "df_latest.head(3)"
      ]
    },
    {
      "cell_type": "code",
      "execution_count": null,
      "metadata": {
        "colab": {
          "base_uri": "https://localhost:8080/",
          "height": 248
        },
        "id": "BZ4jHYo8Av-x",
        "outputId": "309dd8ec-1afe-4d75-c5c0-66162a7ab92f"
      },
      "outputs": [
        {
          "output_type": "display_data",
          "data": {
            "image/png": "[encoded data removed]",
            "text/plain": [
              "<Figure size 432x288 with 1 Axes>"
            ]
          },
          "metadata": {}
        }
      ],
      "source": [
        "#calculate the percentage of each Country category.\n",
        "df_latest.Countries.value_counts(normalize=True)\n",
        "\n",
        "#plot the pie chart of Country categories\n",
        "df_latest.Countries.value_counts(normalize=True).plot.pie()\n",
        "plt.show()"
      ]
    },
    {
      "cell_type": "code",
      "execution_count": null,
      "metadata": {
        "colab": {
          "base_uri": "https://localhost:8080/",
          "height": 248
        },
        "id": "L6f62lkYBrkW",
        "outputId": "b8d53b50-99b4-404e-a784-475bd33d97e2"
      },
      "outputs": [
        {
          "output_type": "display_data",
          "data": {
            "image/png": "[encoded data removed]",
            "text/plain": [
              "<Figure size 432x288 with 1 Axes>"
            ]
          },
          "metadata": {}
        }
      ],
      "source": [
        "#calculate the percentage of each Local category.\n",
        "df_latest.Local.value_counts(normalize=True)\n",
        "\n",
        "#plot the pie chart of Local categories\n",
        "df_latest.Local.value_counts(normalize=True).plot.pie()\n",
        "plt.show()"
      ]
    },
    {
      "cell_type": "code",
      "execution_count": null,
      "metadata": {
        "colab": {
          "base_uri": "https://localhost:8080/"
        },
        "id": "Whoq5HDOokqh",
        "outputId": "33f70724-da2d-438d-d2e3-ba7ca54e511c"
      },
      "outputs": [
        {
          "output_type": "execute_result",
          "data": {
            "text/plain": [
              "I      316\n",
              "II      40\n",
              "III     31\n",
              "IV      30\n",
              "V        8\n",
              "Name: Accident Level, dtype: int64"
            ]
          },
          "metadata": {},
          "execution_count": 230
        }
      ],
      "source": [
        "df_latest['Accident Level'].value_counts()"
      ]
    },
    {
      "cell_type": "code",
      "execution_count": null,
      "metadata": {
        "id": "yoc4giDyCWjM"
      },
      "outputs": [],
      "source": [
        ""
      ]
    },
    {
      "cell_type": "code",
      "execution_count": null,
      "metadata": {
        "colab": {
          "base_uri": "https://localhost:8080/"
        },
        "id": "8EcjLgVDonuQ",
        "outputId": "38f77efe-f329-4d96-d662-2d9e44be1bae"
      },
      "outputs": [
        {
          "output_type": "execute_result",
          "data": {
            "text/plain": [
              "IV     143\n",
              "III    106\n",
              "II      95\n",
              "I       49\n",
              "V       31\n",
              "VI       1\n",
              "Name: Potential Accident Level, dtype: int64"
            ]
          },
          "metadata": {},
          "execution_count": 231
        }
      ],
      "source": [
        "df_latest['Potential Accident Level'].value_counts()"
      ]
    },
    {
      "cell_type": "code",
      "execution_count": null,
      "metadata": {
        "id": "IBDGAtkSon00"
      },
      "outputs": [],
      "source": [
        "#Encoding Potential_Accident_Level\n",
        "Potential_Accident_Level = {\n",
        "    'I'   :   1,\n",
        "    'II'  :   2,\n",
        "    'III' :   3,\n",
        "    'IV'  :   4,\n",
        "    'V'   :   5,\n",
        "    'VI'   :   6\n",
        "}"
      ]
    },
    {
      "cell_type": "code",
      "execution_count": null,
      "metadata": {
        "id": "mBp67Aazs66z"
      },
      "outputs": [],
      "source": [
        "df_latest['Potential_Accident_Level'] = df_latest['Potential Accident Level'].map(Potential_Accident_Level)"
      ]
    },
    {
      "cell_type": "code",
      "execution_count": null,
      "metadata": {
        "colab": {
          "base_uri": "https://localhost:8080/"
        },
        "id": "Co1U6my3tCQb",
        "outputId": "2ca690c2-d65a-47ff-ca03-adddd0e7eff2"
      },
      "outputs": [
        {
          "output_type": "execute_result",
          "data": {
            "text/plain": [
              "4    143\n",
              "3    106\n",
              "2     95\n",
              "1     49\n",
              "5     31\n",
              "6      1\n",
              "Name: Potential_Accident_Level, dtype: int64"
            ]
          },
          "metadata": {},
          "execution_count": 234
        }
      ],
      "source": [
        "df_latest['Potential_Accident_Level'].value_counts()\n"
      ]
    },
    {
      "cell_type": "code",
      "source": [
        "#Encoding Accident_Level\n",
        "\n",
        "Accident_Level = {\n",
        "    'I'   :   1,\n",
        "    'II'  :   2,\n",
        "    'III' :   3,\n",
        "    'IV'  :   4,\n",
        "    'V'   :   5\n",
        "}"
      ],
      "metadata": {
        "id": "Qq2Dk9ihWTLv"
      },
      "execution_count": null,
      "outputs": []
    },
    {
      "cell_type": "code",
      "source": [
        "df_latest['Accident_Level'] = df_latest['Accident Level'].map(Accident_Level)"
      ],
      "metadata": {
        "id": "zJlPLeGrXDr3"
      },
      "execution_count": null,
      "outputs": []
    },
    {
      "cell_type": "code",
      "source": [
        "df_latest['Accident_Level'].value_counts()"
      ],
      "metadata": {
        "colab": {
          "base_uri": "https://localhost:8080/"
        },
        "id": "LRS2FyD7XLjQ",
        "outputId": "ae5d7089-974c-4146-8b31-1ef76c67c9e9"
      },
      "execution_count": null,
      "outputs": [
        {
          "output_type": "execute_result",
          "data": {
            "text/plain": [
              "1    316\n",
              "2     40\n",
              "3     31\n",
              "4     30\n",
              "5      8\n",
              "Name: Accident_Level, dtype: int64"
            ]
          },
          "metadata": {},
          "execution_count": 237
        }
      ]
    },
    {
      "cell_type": "code",
      "execution_count": null,
      "metadata": {
        "colab": {
          "base_uri": "https://localhost:8080/",
          "height": 265
        },
        "id": "pSOl9eozhcup",
        "outputId": "3750b51e-be34-440a-84ff-ed6fa2c17dd0"
      },
      "outputs": [
        {
          "output_type": "display_data",
          "data": {
            "image/png": "[encoded data removed]",
            "text/plain": [
              "<Figure size 432x288 with 1 Axes>"
            ]
          },
          "metadata": {
            "needs_background": "light"
          }
        }
      ],
      "source": [
        "# Let's calculate the percentage of each Accident level category.\n",
        "df_latest.Potential_Accident_Level.value_counts(normalize=True)\n",
        "\n",
        "#plot the bar graph of percentage job categories\n",
        "df_latest.Potential_Accident_Level.value_counts(normalize=True).plot.barh()\n",
        "plt.show()"
      ]
    },
    {
      "cell_type": "code",
      "execution_count": null,
      "metadata": {
        "id": "lcXSLx2OtXvg"
      },
      "outputs": [],
      "source": [
        "df_latest = pd.get_dummies(df_latest, columns=['Date','Year','Countries','Critical Risk','Local','Industry Sector','Genre','Employee or Third Party'],prefix='Dummy',drop_first=True)"
      ]
    },
    {
      "cell_type": "code",
      "execution_count": null,
      "metadata": {
        "id": "4R-QwXJ4v2ro"
      },
      "outputs": [],
      "source": [
        "df_latest = pd.get_dummies(df_latest, columns=['Month'],prefix='Month',drop_first=True)"
      ]
    },
    {
      "cell_type": "code",
      "execution_count": null,
      "metadata": {
        "id": "VKq8VD4Av9s1"
      },
      "outputs": [],
      "source": [
        "df_latest.drop(['Accident Level','Potential Accident Level'],axis=1,inplace=True)"
      ]
    },
    {
      "cell_type": "code",
      "execution_count": null,
      "metadata": {
        "colab": {
          "base_uri": "https://localhost:8080/"
        },
        "id": "K7vL8tFqwENd",
        "outputId": "4636673a-7d5c-4480-ffe2-a46eaa8d2adc"
      },
      "outputs": [
        {
          "output_type": "stream",
          "name": "stdout",
          "text": [
            "<class 'pandas.core.frame.DataFrame'>\n",
            "RangeIndex: 425 entries, 0 to 424\n",
            "Data columns (total 95 columns):\n",
            " #   Column                                           Non-Null Count  Dtype \n",
            "---  ------                                           --------------  ----- \n",
            " 0   Description                                      425 non-null    object\n",
            " 1   Potential_Accident_Level                         425 non-null    int64 \n",
            " 2   Accident_Level                                   425 non-null    int64 \n",
            " 3   Dummy_2                                          425 non-null    uint8 \n",
            " 4   Dummy_3                                          425 non-null    uint8 \n",
            " 5   Dummy_4                                          425 non-null    uint8 \n",
            " 6   Dummy_5                                          425 non-null    uint8 \n",
            " 7   Dummy_6                                          425 non-null    uint8 \n",
            " 8   Dummy_7                                          425 non-null    uint8 \n",
            " 9   Dummy_8                                          425 non-null    uint8 \n",
            " 10  Dummy_9                                          425 non-null    uint8 \n",
            " 11  Dummy_10                                         425 non-null    uint8 \n",
            " 12  Dummy_11                                         425 non-null    uint8 \n",
            " 13  Dummy_12                                         425 non-null    uint8 \n",
            " 14  Dummy_13                                         425 non-null    uint8 \n",
            " 15  Dummy_14                                         425 non-null    uint8 \n",
            " 16  Dummy_15                                         425 non-null    uint8 \n",
            " 17  Dummy_16                                         425 non-null    uint8 \n",
            " 18  Dummy_17                                         425 non-null    uint8 \n",
            " 19  Dummy_18                                         425 non-null    uint8 \n",
            " 20  Dummy_19                                         425 non-null    uint8 \n",
            " 21  Dummy_20                                         425 non-null    uint8 \n",
            " 22  Dummy_21                                         425 non-null    uint8 \n",
            " 23  Dummy_22                                         425 non-null    uint8 \n",
            " 24  Dummy_23                                         425 non-null    uint8 \n",
            " 25  Dummy_24                                         425 non-null    uint8 \n",
            " 26  Dummy_25                                         425 non-null    uint8 \n",
            " 27  Dummy_26                                         425 non-null    uint8 \n",
            " 28  Dummy_27                                         425 non-null    uint8 \n",
            " 29  Dummy_28                                         425 non-null    uint8 \n",
            " 30  Dummy_29                                         425 non-null    uint8 \n",
            " 31  Dummy_30                                         425 non-null    uint8 \n",
            " 32  Dummy_31                                         425 non-null    uint8 \n",
            " 33  Dummy_2017                                       425 non-null    uint8 \n",
            " 34  Dummy_Country_02                                 425 non-null    uint8 \n",
            " 35  Dummy_Country_03                                 425 non-null    uint8 \n",
            " 36  Dummy_Bees                                       425 non-null    uint8 \n",
            " 37  Dummy_Blocking and isolation of energies         425 non-null    uint8 \n",
            " 38  Dummy_Burn                                       425 non-null    uint8 \n",
            " 39  Dummy_Chemical substances                        425 non-null    uint8 \n",
            " 40  Dummy_Confined space                             425 non-null    uint8 \n",
            " 41  Dummy_Cut                                        425 non-null    uint8 \n",
            " 42  Dummy_Electrical Shock                           425 non-null    uint8 \n",
            " 43  Dummy_Electrical installation                    425 non-null    uint8 \n",
            " 44  Dummy_Fall                                       425 non-null    uint8 \n",
            " 45  Dummy_Fall prevention                            425 non-null    uint8 \n",
            " 46  Dummy_Fall prevention (same level)               425 non-null    uint8 \n",
            " 47  Dummy_Individual protection equipment            425 non-null    uint8 \n",
            " 48  Dummy_Liquid Metal                               425 non-null    uint8 \n",
            " 49  Dummy_Machine Protection                         425 non-null    uint8 \n",
            " 50  Dummy_Manual Tools                               425 non-null    uint8 \n",
            " 51  Dummy_Others                                     425 non-null    uint8 \n",
            " 52  Dummy_Plates                                     425 non-null    uint8 \n",
            " 53  Dummy_Poll                                       425 non-null    uint8 \n",
            " 54  Dummy_Power lock                                 425 non-null    uint8 \n",
            " 55  Dummy_Pressed                                    425 non-null    uint8 \n",
            " 56  Dummy_Pressurized Systems                        425 non-null    uint8 \n",
            " 57  Dummy_Pressurized Systems / Chemical Substances  425 non-null    uint8 \n",
            " 58  Dummy_Projection                                 425 non-null    uint8 \n",
            " 59  Dummy_Projection of fragments                    425 non-null    uint8 \n",
            " 60  Dummy_Projection/Burning                         425 non-null    uint8 \n",
            " 61  Dummy_Projection/Choco                           425 non-null    uint8 \n",
            " 62  Dummy_Projection/Manual Tools                    425 non-null    uint8 \n",
            " 63  Dummy_Suspended Loads                            425 non-null    uint8 \n",
            " 64  Dummy_Traffic                                    425 non-null    uint8 \n",
            " 65  Dummy_Vehicles and Mobile Equipment              425 non-null    uint8 \n",
            " 66  Dummy_Venomous Animals                           425 non-null    uint8 \n",
            " 67  Dummy_remains of choco                           425 non-null    uint8 \n",
            " 68  Dummy_Local_02                                   425 non-null    uint8 \n",
            " 69  Dummy_Local_03                                   425 non-null    uint8 \n",
            " 70  Dummy_Local_04                                   425 non-null    uint8 \n",
            " 71  Dummy_Local_05                                   425 non-null    uint8 \n",
            " 72  Dummy_Local_06                                   425 non-null    uint8 \n",
            " 73  Dummy_Local_07                                   425 non-null    uint8 \n",
            " 74  Dummy_Local_08                                   425 non-null    uint8 \n",
            " 75  Dummy_Local_09                                   425 non-null    uint8 \n",
            " 76  Dummy_Local_10                                   425 non-null    uint8 \n",
            " 77  Dummy_Local_11                                   425 non-null    uint8 \n",
            " 78  Dummy_Local_12                                   425 non-null    uint8 \n",
            " 79  Dummy_Mining                                     425 non-null    uint8 \n",
            " 80  Dummy_Others                                     425 non-null    uint8 \n",
            " 81  Dummy_Male                                       425 non-null    uint8 \n",
            " 82  Dummy_Third Party                                425 non-null    uint8 \n",
            " 83  Dummy_Third Party (Remote)                       425 non-null    uint8 \n",
            " 84  Month_2                                          425 non-null    uint8 \n",
            " 85  Month_3                                          425 non-null    uint8 \n",
            " 86  Month_4                                          425 non-null    uint8 \n",
            " 87  Month_5                                          425 non-null    uint8 \n",
            " 88  Month_6                                          425 non-null    uint8 \n",
            " 89  Month_7                                          425 non-null    uint8 \n",
            " 90  Month_8                                          425 non-null    uint8 \n",
            " 91  Month_9                                          425 non-null    uint8 \n",
            " 92  Month_10                                         425 non-null    uint8 \n",
            " 93  Month_11                                         425 non-null    uint8 \n",
            " 94  Month_12                                         425 non-null    uint8 \n",
            "dtypes: int64(2), object(1), uint8(92)\n",
            "memory usage: 48.3+ KB\n"
          ]
        }
      ],
      "source": [
        "df_latest.info()\n"
      ]
    },
    {
      "cell_type": "code",
      "execution_count": null,
      "metadata": {
        "id": "Sh2KVEu0wGUW"
      },
      "outputs": [],
      "source": [
        ""
      ]
    },
    {
      "cell_type": "code",
      "execution_count": null,
      "metadata": {
        "id": "c5V4f7dVwP0w"
      },
      "outputs": [],
      "source": [
        "#Cleaning up the data,removing stopwords,remove punctuation, converting them into tokens."
      ]
    },
    {
      "cell_type": "code",
      "execution_count": null,
      "metadata": {
        "colab": {
          "base_uri": "https://localhost:8080/"
        },
        "id": "AGnno6c0wSUW",
        "outputId": "69307969-9f62-48c1-b424-dcb966e0a4be"
      },
      "outputs": [
        {
          "output_type": "stream",
          "name": "stdout",
          "text": [
            "[nltk_data] Downloading package stopwords to /root/nltk_data...\n",
            "[nltk_data]   Package stopwords is already up-to-date!\n"
          ]
        }
      ],
      "source": [
        "import string\n",
        "import re\n",
        "import os\n",
        "import nltk\n",
        "nltk.download('stopwords')\n",
        "from nltk.tokenize import TweetTokenizer\n",
        "from nltk.corpus import stopwords, twitter_samples \n",
        "\n",
        "tweet_tokenizer = TweetTokenizer(preserve_case=False, strip_handles=True, reduce_len=True)\n",
        "\n",
        "stopwords_english = stopwords.words('english')\n",
        "\n",
        "\n",
        "def clean_text(text):\n",
        "    \n",
        "    # remove stock market tickers like $GE\n",
        "    text = re.sub(r'\\$\\w*', '', text)\n",
        "    #remove numbers\n",
        "    text = re.sub(r'\\d+', '', text)\n",
        "    # remove old style retweet text \"RT\"\n",
        "    text = re.sub(r'^RT[\\s]+', '', text)\n",
        "    # remove hyperlinks\n",
        "    text = re.sub(r'https?:\\/\\/.*[\\r\\n]*', '', text)\n",
        "    # remove hashtags\n",
        "    # only removing the hash # sign from the word\n",
        "    text = re.sub(r'#', '', text)\n",
        "    # tokenize tweets\n",
        "    tokenizer = TweetTokenizer(preserve_case=False, strip_handles=True, reduce_len=True)\n",
        "    text_tokens = tokenizer.tokenize(text)\n",
        "\n",
        "    text_clean = []\n",
        "    for word in text_tokens:\n",
        "        if (word not in stopwords_english and # remove stopwords\n",
        "            word not in string.punctuation): # remove punctuation\n",
        "            #tweets_clean.append(word)\n",
        "            text_clean.append(word)\n",
        "    ### END CODE HERE ###\n",
        "    return text_clean"
      ]
    },
    {
      "cell_type": "code",
      "execution_count": null,
      "metadata": {
        "colab": {
          "base_uri": "https://localhost:8080/",
          "height": 70
        },
        "id": "5LQ-hhA4xR-i",
        "outputId": "f6beca3c-cf4c-47c6-fc2e-6486671585a4"
      },
      "outputs": [
        {
          "output_type": "execute_result",
          "data": {
            "application/vnd.google.colaboratory.intrinsic+json": {
              "type": "string"
            },
            "text/plain": [
              "'While removing the drill rod of the Jumbo 08 for maintenance, the supervisor proceeds to loosen the support of the intermediate centralizer to facilitate the removal, seeing this the mechanic supports one end on the drill of the equipment to pull with both hands the bar and accelerate the removal from this, at this moment the bar slides from its point of support and tightens the fingers of the mechanic between the drilling bar and the beam of the jumbo.'"
            ]
          },
          "metadata": {},
          "execution_count": 245
        }
      ],
      "source": [
        "df_latest['Description'][0]"
      ]
    },
    {
      "cell_type": "code",
      "execution_count": null,
      "metadata": {
        "colab": {
          "base_uri": "https://localhost:8080/"
        },
        "id": "txANhjAnxpKL",
        "outputId": "4ed3116f-187c-469b-f465-bf7991a706a3"
      },
      "outputs": [
        {
          "output_type": "execute_result",
          "data": {
            "text/plain": [
              "['removing',\n",
              " 'drill',\n",
              " 'rod',\n",
              " 'jumbo',\n",
              " 'maintenance',\n",
              " 'supervisor',\n",
              " 'proceeds',\n",
              " 'loosen',\n",
              " 'support',\n",
              " 'intermediate',\n",
              " 'centralizer',\n",
              " 'facilitate',\n",
              " 'removal',\n",
              " 'seeing',\n",
              " 'mechanic',\n",
              " 'supports',\n",
              " 'one',\n",
              " 'end',\n",
              " 'drill',\n",
              " 'equipment',\n",
              " 'pull',\n",
              " 'hands',\n",
              " 'bar',\n",
              " 'accelerate',\n",
              " 'removal',\n",
              " 'moment',\n",
              " 'bar',\n",
              " 'slides',\n",
              " 'point',\n",
              " 'support',\n",
              " 'tightens',\n",
              " 'fingers',\n",
              " 'mechanic',\n",
              " 'drilling',\n",
              " 'bar',\n",
              " 'beam',\n",
              " 'jumbo']"
            ]
          },
          "metadata": {},
          "execution_count": 246
        }
      ],
      "source": [
        "b = clean_text(df_latest['Description'][0])\n",
        "b"
      ]
    },
    {
      "cell_type": "code",
      "execution_count": null,
      "metadata": {
        "id": "NLzkCrdUxx2i"
      },
      "outputs": [],
      "source": [
        "#creating all word list\n",
        "all_word = []\n",
        "\n",
        "for row in df_latest['Description']:\n",
        "    for word in clean_text(row):\n",
        "        all_word.append(word)"
      ]
    },
    {
      "cell_type": "code",
      "execution_count": null,
      "metadata": {
        "colab": {
          "base_uri": "https://localhost:8080/"
        },
        "id": "NWl2iRgDx2bC",
        "outputId": "e3d90afe-5a64-46f2-8406-66b5d330c639"
      },
      "outputs": [
        {
          "output_type": "execute_result",
          "data": {
            "text/plain": [
              "14120"
            ]
          },
          "metadata": {},
          "execution_count": 248
        }
      ],
      "source": [
        "num_words=len(all_word)\n",
        "num_words"
      ]
    },
    {
      "cell_type": "code",
      "execution_count": null,
      "metadata": {
        "colab": {
          "base_uri": "https://localhost:8080/",
          "height": 35
        },
        "id": "khOSQo7v0TyC",
        "outputId": "4e3ff4d5-429b-43d0-821f-1b883ab712bd"
      },
      "outputs": [
        {
          "output_type": "execute_result",
          "data": {
            "application/vnd.google.colaboratory.intrinsic+json": {
              "type": "string"
            },
            "text/plain": [
              "'/content/drive/MyDrive'"
            ]
          },
          "metadata": {},
          "execution_count": 249
        }
      ],
      "source": [
        "import os\n",
        "path = os.getcwd()\n",
        "path\n"
      ]
    },
    {
      "cell_type": "code",
      "execution_count": null,
      "metadata": {
        "colab": {
          "base_uri": "https://localhost:8080/",
          "height": 664
        },
        "id": "MLg0zjOU5DM8",
        "outputId": "9a47de60-18f9-45a2-8c7c-e717e9d35352"
      },
      "outputs": [
        {
          "output_type": "execute_result",
          "data": {
            "text/html": [
              "\n",
              "  <div id=\"df-bd52f176-d970-4f18-8079-e01f120268e8\">\n",
              "    <div class=\"colab-df-container\">\n",
              "      <div>\n",
              "<style scoped>\n",
              "    .dataframe tbody tr th:only-of-type {\n",
              "        vertical-align: middle;\n",
              "    }\n",
              "\n",
              "    .dataframe tbody tr th {\n",
              "        vertical-align: top;\n",
              "    }\n",
              "\n",
              "    .dataframe thead th {\n",
              "        text-align: right;\n",
              "    }\n",
              "</style>\n",
              "<table border=\"1\" class=\"dataframe\">\n",
              "  <thead>\n",
              "    <tr style=\"text-align: right;\">\n",
              "      <th></th>\n",
              "      <th>Description</th>\n",
              "      <th>Potential_Accident_Level</th>\n",
              "      <th>Accident_Level</th>\n",
              "      <th>Dummy_2</th>\n",
              "      <th>Dummy_3</th>\n",
              "      <th>Dummy_4</th>\n",
              "      <th>Dummy_5</th>\n",
              "      <th>Dummy_6</th>\n",
              "      <th>Dummy_7</th>\n",
              "      <th>Dummy_8</th>\n",
              "      <th>Dummy_9</th>\n",
              "      <th>Dummy_10</th>\n",
              "      <th>Dummy_11</th>\n",
              "      <th>Dummy_12</th>\n",
              "      <th>Dummy_13</th>\n",
              "      <th>Dummy_14</th>\n",
              "      <th>Dummy_15</th>\n",
              "      <th>Dummy_16</th>\n",
              "      <th>Dummy_17</th>\n",
              "      <th>Dummy_18</th>\n",
              "      <th>Dummy_19</th>\n",
              "      <th>Dummy_20</th>\n",
              "      <th>Dummy_21</th>\n",
              "      <th>Dummy_22</th>\n",
              "      <th>Dummy_23</th>\n",
              "      <th>Dummy_24</th>\n",
              "      <th>Dummy_25</th>\n",
              "      <th>Dummy_26</th>\n",
              "      <th>Dummy_27</th>\n",
              "      <th>Dummy_28</th>\n",
              "      <th>Dummy_29</th>\n",
              "      <th>Dummy_30</th>\n",
              "      <th>Dummy_31</th>\n",
              "      <th>Dummy_2017</th>\n",
              "      <th>Dummy_Country_02</th>\n",
              "      <th>Dummy_Country_03</th>\n",
              "      <th>Dummy_Bees</th>\n",
              "      <th>Dummy_Blocking and isolation of energies</th>\n",
              "      <th>Dummy_Burn</th>\n",
              "      <th>Dummy_Chemical substances</th>\n",
              "      <th>...</th>\n",
              "      <th>Dummy_Pressed</th>\n",
              "      <th>Dummy_Pressurized Systems</th>\n",
              "      <th>Dummy_Pressurized Systems / Chemical Substances</th>\n",
              "      <th>Dummy_Projection</th>\n",
              "      <th>Dummy_Projection of fragments</th>\n",
              "      <th>Dummy_Projection/Burning</th>\n",
              "      <th>Dummy_Projection/Choco</th>\n",
              "      <th>Dummy_Projection/Manual Tools</th>\n",
              "      <th>Dummy_Suspended Loads</th>\n",
              "      <th>Dummy_Traffic</th>\n",
              "      <th>Dummy_Vehicles and Mobile Equipment</th>\n",
              "      <th>Dummy_Venomous Animals</th>\n",
              "      <th>Dummy_remains of choco</th>\n",
              "      <th>Dummy_Local_02</th>\n",
              "      <th>Dummy_Local_03</th>\n",
              "      <th>Dummy_Local_04</th>\n",
              "      <th>Dummy_Local_05</th>\n",
              "      <th>Dummy_Local_06</th>\n",
              "      <th>Dummy_Local_07</th>\n",
              "      <th>Dummy_Local_08</th>\n",
              "      <th>Dummy_Local_09</th>\n",
              "      <th>Dummy_Local_10</th>\n",
              "      <th>Dummy_Local_11</th>\n",
              "      <th>Dummy_Local_12</th>\n",
              "      <th>Dummy_Mining</th>\n",
              "      <th>Dummy_Others</th>\n",
              "      <th>Dummy_Male</th>\n",
              "      <th>Dummy_Third Party</th>\n",
              "      <th>Dummy_Third Party (Remote)</th>\n",
              "      <th>Month_2</th>\n",
              "      <th>Month_3</th>\n",
              "      <th>Month_4</th>\n",
              "      <th>Month_5</th>\n",
              "      <th>Month_6</th>\n",
              "      <th>Month_7</th>\n",
              "      <th>Month_8</th>\n",
              "      <th>Month_9</th>\n",
              "      <th>Month_10</th>\n",
              "      <th>Month_11</th>\n",
              "      <th>Month_12</th>\n",
              "    </tr>\n",
              "  </thead>\n",
              "  <tbody>\n",
              "    <tr>\n",
              "      <th>0</th>\n",
              "      <td>While removing the drill rod of the Jumbo 08 f...</td>\n",
              "      <td>4</td>\n",
              "      <td>1</td>\n",
              "      <td>0</td>\n",
              "      <td>0</td>\n",
              "      <td>0</td>\n",
              "      <td>0</td>\n",
              "      <td>0</td>\n",
              "      <td>0</td>\n",
              "      <td>0</td>\n",
              "      <td>0</td>\n",
              "      <td>0</td>\n",
              "      <td>0</td>\n",
              "      <td>0</td>\n",
              "      <td>0</td>\n",
              "      <td>0</td>\n",
              "      <td>0</td>\n",
              "      <td>0</td>\n",
              "      <td>0</td>\n",
              "      <td>0</td>\n",
              "      <td>0</td>\n",
              "      <td>0</td>\n",
              "      <td>0</td>\n",
              "      <td>0</td>\n",
              "      <td>0</td>\n",
              "      <td>0</td>\n",
              "      <td>0</td>\n",
              "      <td>0</td>\n",
              "      <td>0</td>\n",
              "      <td>0</td>\n",
              "      <td>0</td>\n",
              "      <td>0</td>\n",
              "      <td>0</td>\n",
              "      <td>0</td>\n",
              "      <td>0</td>\n",
              "      <td>0</td>\n",
              "      <td>0</td>\n",
              "      <td>0</td>\n",
              "      <td>0</td>\n",
              "      <td>0</td>\n",
              "      <td>...</td>\n",
              "      <td>1</td>\n",
              "      <td>0</td>\n",
              "      <td>0</td>\n",
              "      <td>0</td>\n",
              "      <td>0</td>\n",
              "      <td>0</td>\n",
              "      <td>0</td>\n",
              "      <td>0</td>\n",
              "      <td>0</td>\n",
              "      <td>0</td>\n",
              "      <td>0</td>\n",
              "      <td>0</td>\n",
              "      <td>0</td>\n",
              "      <td>0</td>\n",
              "      <td>0</td>\n",
              "      <td>0</td>\n",
              "      <td>0</td>\n",
              "      <td>0</td>\n",
              "      <td>0</td>\n",
              "      <td>0</td>\n",
              "      <td>0</td>\n",
              "      <td>0</td>\n",
              "      <td>0</td>\n",
              "      <td>0</td>\n",
              "      <td>1</td>\n",
              "      <td>0</td>\n",
              "      <td>1</td>\n",
              "      <td>1</td>\n",
              "      <td>0</td>\n",
              "      <td>0</td>\n",
              "      <td>0</td>\n",
              "      <td>0</td>\n",
              "      <td>0</td>\n",
              "      <td>0</td>\n",
              "      <td>0</td>\n",
              "      <td>0</td>\n",
              "      <td>0</td>\n",
              "      <td>0</td>\n",
              "      <td>0</td>\n",
              "      <td>0</td>\n",
              "    </tr>\n",
              "    <tr>\n",
              "      <th>1</th>\n",
              "      <td>During the activation of a sodium sulphide pum...</td>\n",
              "      <td>4</td>\n",
              "      <td>1</td>\n",
              "      <td>1</td>\n",
              "      <td>0</td>\n",
              "      <td>0</td>\n",
              "      <td>0</td>\n",
              "      <td>0</td>\n",
              "      <td>0</td>\n",
              "      <td>0</td>\n",
              "      <td>0</td>\n",
              "      <td>0</td>\n",
              "      <td>0</td>\n",
              "      <td>0</td>\n",
              "      <td>0</td>\n",
              "      <td>0</td>\n",
              "      <td>0</td>\n",
              "      <td>0</td>\n",
              "      <td>0</td>\n",
              "      <td>0</td>\n",
              "      <td>0</td>\n",
              "      <td>0</td>\n",
              "      <td>0</td>\n",
              "      <td>0</td>\n",
              "      <td>0</td>\n",
              "      <td>0</td>\n",
              "      <td>0</td>\n",
              "      <td>0</td>\n",
              "      <td>0</td>\n",
              "      <td>0</td>\n",
              "      <td>0</td>\n",
              "      <td>0</td>\n",
              "      <td>0</td>\n",
              "      <td>0</td>\n",
              "      <td>1</td>\n",
              "      <td>0</td>\n",
              "      <td>0</td>\n",
              "      <td>0</td>\n",
              "      <td>0</td>\n",
              "      <td>0</td>\n",
              "      <td>...</td>\n",
              "      <td>0</td>\n",
              "      <td>1</td>\n",
              "      <td>0</td>\n",
              "      <td>0</td>\n",
              "      <td>0</td>\n",
              "      <td>0</td>\n",
              "      <td>0</td>\n",
              "      <td>0</td>\n",
              "      <td>0</td>\n",
              "      <td>0</td>\n",
              "      <td>0</td>\n",
              "      <td>0</td>\n",
              "      <td>0</td>\n",
              "      <td>1</td>\n",
              "      <td>0</td>\n",
              "      <td>0</td>\n",
              "      <td>0</td>\n",
              "      <td>0</td>\n",
              "      <td>0</td>\n",
              "      <td>0</td>\n",
              "      <td>0</td>\n",
              "      <td>0</td>\n",
              "      <td>0</td>\n",
              "      <td>0</td>\n",
              "      <td>1</td>\n",
              "      <td>0</td>\n",
              "      <td>1</td>\n",
              "      <td>0</td>\n",
              "      <td>0</td>\n",
              "      <td>0</td>\n",
              "      <td>0</td>\n",
              "      <td>0</td>\n",
              "      <td>0</td>\n",
              "      <td>0</td>\n",
              "      <td>0</td>\n",
              "      <td>0</td>\n",
              "      <td>0</td>\n",
              "      <td>0</td>\n",
              "      <td>0</td>\n",
              "      <td>0</td>\n",
              "    </tr>\n",
              "    <tr>\n",
              "      <th>2</th>\n",
              "      <td>In the sub-station MILPO located at level +170...</td>\n",
              "      <td>3</td>\n",
              "      <td>1</td>\n",
              "      <td>0</td>\n",
              "      <td>0</td>\n",
              "      <td>0</td>\n",
              "      <td>0</td>\n",
              "      <td>1</td>\n",
              "      <td>0</td>\n",
              "      <td>0</td>\n",
              "      <td>0</td>\n",
              "      <td>0</td>\n",
              "      <td>0</td>\n",
              "      <td>0</td>\n",
              "      <td>0</td>\n",
              "      <td>0</td>\n",
              "      <td>0</td>\n",
              "      <td>0</td>\n",
              "      <td>0</td>\n",
              "      <td>0</td>\n",
              "      <td>0</td>\n",
              "      <td>0</td>\n",
              "      <td>0</td>\n",
              "      <td>0</td>\n",
              "      <td>0</td>\n",
              "      <td>0</td>\n",
              "      <td>0</td>\n",
              "      <td>0</td>\n",
              "      <td>0</td>\n",
              "      <td>0</td>\n",
              "      <td>0</td>\n",
              "      <td>0</td>\n",
              "      <td>0</td>\n",
              "      <td>0</td>\n",
              "      <td>0</td>\n",
              "      <td>0</td>\n",
              "      <td>0</td>\n",
              "      <td>0</td>\n",
              "      <td>0</td>\n",
              "      <td>0</td>\n",
              "      <td>...</td>\n",
              "      <td>0</td>\n",
              "      <td>0</td>\n",
              "      <td>0</td>\n",
              "      <td>0</td>\n",
              "      <td>0</td>\n",
              "      <td>0</td>\n",
              "      <td>0</td>\n",
              "      <td>0</td>\n",
              "      <td>0</td>\n",
              "      <td>0</td>\n",
              "      <td>0</td>\n",
              "      <td>0</td>\n",
              "      <td>0</td>\n",
              "      <td>0</td>\n",
              "      <td>1</td>\n",
              "      <td>0</td>\n",
              "      <td>0</td>\n",
              "      <td>0</td>\n",
              "      <td>0</td>\n",
              "      <td>0</td>\n",
              "      <td>0</td>\n",
              "      <td>0</td>\n",
              "      <td>0</td>\n",
              "      <td>0</td>\n",
              "      <td>1</td>\n",
              "      <td>0</td>\n",
              "      <td>1</td>\n",
              "      <td>0</td>\n",
              "      <td>1</td>\n",
              "      <td>0</td>\n",
              "      <td>0</td>\n",
              "      <td>0</td>\n",
              "      <td>0</td>\n",
              "      <td>0</td>\n",
              "      <td>0</td>\n",
              "      <td>0</td>\n",
              "      <td>0</td>\n",
              "      <td>0</td>\n",
              "      <td>0</td>\n",
              "      <td>0</td>\n",
              "    </tr>\n",
              "    <tr>\n",
              "      <th>3</th>\n",
              "      <td>Being 9:45 am. approximately in the Nv. 1880 C...</td>\n",
              "      <td>1</td>\n",
              "      <td>1</td>\n",
              "      <td>0</td>\n",
              "      <td>0</td>\n",
              "      <td>0</td>\n",
              "      <td>0</td>\n",
              "      <td>0</td>\n",
              "      <td>0</td>\n",
              "      <td>1</td>\n",
              "      <td>0</td>\n",
              "      <td>0</td>\n",
              "      <td>0</td>\n",
              "      <td>0</td>\n",
              "      <td>0</td>\n",
              "      <td>0</td>\n",
              "      <td>0</td>\n",
              "      <td>0</td>\n",
              "      <td>0</td>\n",
              "      <td>0</td>\n",
              "      <td>0</td>\n",
              "      <td>0</td>\n",
              "      <td>0</td>\n",
              "      <td>0</td>\n",
              "      <td>0</td>\n",
              "      <td>0</td>\n",
              "      <td>0</td>\n",
              "      <td>0</td>\n",
              "      <td>0</td>\n",
              "      <td>0</td>\n",
              "      <td>0</td>\n",
              "      <td>0</td>\n",
              "      <td>0</td>\n",
              "      <td>0</td>\n",
              "      <td>0</td>\n",
              "      <td>0</td>\n",
              "      <td>0</td>\n",
              "      <td>0</td>\n",
              "      <td>0</td>\n",
              "      <td>0</td>\n",
              "      <td>...</td>\n",
              "      <td>0</td>\n",
              "      <td>0</td>\n",
              "      <td>0</td>\n",
              "      <td>0</td>\n",
              "      <td>0</td>\n",
              "      <td>0</td>\n",
              "      <td>0</td>\n",
              "      <td>0</td>\n",
              "      <td>0</td>\n",
              "      <td>0</td>\n",
              "      <td>0</td>\n",
              "      <td>0</td>\n",
              "      <td>0</td>\n",
              "      <td>0</td>\n",
              "      <td>0</td>\n",
              "      <td>1</td>\n",
              "      <td>0</td>\n",
              "      <td>0</td>\n",
              "      <td>0</td>\n",
              "      <td>0</td>\n",
              "      <td>0</td>\n",
              "      <td>0</td>\n",
              "      <td>0</td>\n",
              "      <td>0</td>\n",
              "      <td>1</td>\n",
              "      <td>0</td>\n",
              "      <td>1</td>\n",
              "      <td>1</td>\n",
              "      <td>0</td>\n",
              "      <td>0</td>\n",
              "      <td>0</td>\n",
              "      <td>0</td>\n",
              "      <td>0</td>\n",
              "      <td>0</td>\n",
              "      <td>0</td>\n",
              "      <td>0</td>\n",
              "      <td>0</td>\n",
              "      <td>0</td>\n",
              "      <td>0</td>\n",
              "      <td>0</td>\n",
              "    </tr>\n",
              "    <tr>\n",
              "      <th>4</th>\n",
              "      <td>Approximately at 11:45 a.m. in circumstances t...</td>\n",
              "      <td>4</td>\n",
              "      <td>4</td>\n",
              "      <td>0</td>\n",
              "      <td>0</td>\n",
              "      <td>0</td>\n",
              "      <td>0</td>\n",
              "      <td>0</td>\n",
              "      <td>0</td>\n",
              "      <td>0</td>\n",
              "      <td>0</td>\n",
              "      <td>1</td>\n",
              "      <td>0</td>\n",
              "      <td>0</td>\n",
              "      <td>0</td>\n",
              "      <td>0</td>\n",
              "      <td>0</td>\n",
              "      <td>0</td>\n",
              "      <td>0</td>\n",
              "      <td>0</td>\n",
              "      <td>0</td>\n",
              "      <td>0</td>\n",
              "      <td>0</td>\n",
              "      <td>0</td>\n",
              "      <td>0</td>\n",
              "      <td>0</td>\n",
              "      <td>0</td>\n",
              "      <td>0</td>\n",
              "      <td>0</td>\n",
              "      <td>0</td>\n",
              "      <td>0</td>\n",
              "      <td>0</td>\n",
              "      <td>0</td>\n",
              "      <td>0</td>\n",
              "      <td>0</td>\n",
              "      <td>0</td>\n",
              "      <td>0</td>\n",
              "      <td>0</td>\n",
              "      <td>0</td>\n",
              "      <td>0</td>\n",
              "      <td>...</td>\n",
              "      <td>0</td>\n",
              "      <td>0</td>\n",
              "      <td>0</td>\n",
              "      <td>0</td>\n",
              "      <td>0</td>\n",
              "      <td>0</td>\n",
              "      <td>0</td>\n",
              "      <td>0</td>\n",
              "      <td>0</td>\n",
              "      <td>0</td>\n",
              "      <td>0</td>\n",
              "      <td>0</td>\n",
              "      <td>0</td>\n",
              "      <td>0</td>\n",
              "      <td>0</td>\n",
              "      <td>1</td>\n",
              "      <td>0</td>\n",
              "      <td>0</td>\n",
              "      <td>0</td>\n",
              "      <td>0</td>\n",
              "      <td>0</td>\n",
              "      <td>0</td>\n",
              "      <td>0</td>\n",
              "      <td>0</td>\n",
              "      <td>1</td>\n",
              "      <td>0</td>\n",
              "      <td>1</td>\n",
              "      <td>1</td>\n",
              "      <td>0</td>\n",
              "      <td>0</td>\n",
              "      <td>0</td>\n",
              "      <td>0</td>\n",
              "      <td>0</td>\n",
              "      <td>0</td>\n",
              "      <td>0</td>\n",
              "      <td>0</td>\n",
              "      <td>0</td>\n",
              "      <td>0</td>\n",
              "      <td>0</td>\n",
              "      <td>0</td>\n",
              "    </tr>\n",
              "  </tbody>\n",
              "</table>\n",
              "<p>5 rows × 95 columns</p>\n",
              "</div>\n",
              "      <button class=\"colab-df-convert\" onclick=\"convertToInteractive('df-bd52f176-d970-4f18-8079-e01f120268e8')\"\n",
              "              title=\"Convert this dataframe to an interactive table.\"\n",
              "              style=\"display:none;\">\n",
              "        \n",
              "  <svg xmlns=\"http://www.w3.org/2000/svg\" height=\"24px\"viewBox=\"0 0 24 24\"\n",
              "       width=\"24px\">\n",
              "    <path d=\"M0 0h24v24H0V0z\" fill=\"none\"/>\n",
              "    <path d=\"M18.56 5.44l.94 2.06.94-2.06 2.06-.94-2.06-.94-.94-2.06-.94 2.06-2.06.94zm-11 1L8.5 8.5l.94-2.06 2.06-.94-2.06-.94L8.5 2.5l-.94 2.06-2.06.94zm10 10l.94 2.06.94-2.06 2.06-.94-2.06-.94-.94-2.06-.94 2.06-2.06.94z\"/><path d=\"M17.41 7.96l-1.37-1.37c-.4-.4-.92-.59-1.43-.59-.52 0-1.04.2-1.43.59L10.3 9.45l-7.72 7.72c-.78.78-.78 2.05 0 2.83L4 21.41c.39.39.9.59 1.41.59.51 0 1.02-.2 1.41-.59l7.78-7.78 2.81-2.81c.8-.78.8-2.07 0-2.86zM5.41 20L4 18.59l7.72-7.72 1.47 1.35L5.41 20z\"/>\n",
              "  </svg>\n",
              "      </button>\n",
              "      \n",
              "  <style>\n",
              "    .colab-df-container {\n",
              "      display:flex;\n",
              "      flex-wrap:wrap;\n",
              "      gap: 12px;\n",
              "    }\n",
              "\n",
              "    .colab-df-convert {\n",
              "      background-color: #E8F0FE;\n",
              "      border: none;\n",
              "      border-radius: 50%;\n",
              "      cursor: pointer;\n",
              "      display: none;\n",
              "      fill: #1967D2;\n",
              "      height: 32px;\n",
              "      padding: 0 0 0 0;\n",
              "      width: 32px;\n",
              "    }\n",
              "\n",
              "    .colab-df-convert:hover {\n",
              "      background-color: #E2EBFA;\n",
              "      box-shadow: 0px 1px 2px rgba(60, 64, 67, 0.3), 0px 1px 3px 1px rgba(60, 64, 67, 0.15);\n",
              "      fill: #174EA6;\n",
              "    }\n",
              "\n",
              "    [theme=dark] .colab-df-convert {\n",
              "      background-color: #3B4455;\n",
              "      fill: #D2E3FC;\n",
              "    }\n",
              "\n",
              "    [theme=dark] .colab-df-convert:hover {\n",
              "      background-color: #434B5C;\n",
              "      box-shadow: 0px 1px 3px 1px rgba(0, 0, 0, 0.15);\n",
              "      filter: drop-shadow(0px 1px 2px rgba(0, 0, 0, 0.3));\n",
              "      fill: #FFFFFF;\n",
              "    }\n",
              "  </style>\n",
              "\n",
              "      <script>\n",
              "        const buttonEl =\n",
              "          document.querySelector('#df-bd52f176-d970-4f18-8079-e01f120268e8 button.colab-df-convert');\n",
              "        buttonEl.style.display =\n",
              "          google.colab.kernel.accessAllowed ? 'block' : 'none';\n",
              "\n",
              "        async function convertToInteractive(key) {\n",
              "          const element = document.querySelector('#df-bd52f176-d970-4f18-8079-e01f120268e8');\n",
              "          const dataTable =\n",
              "            await google.colab.kernel.invokeFunction('convertToInteractive',\n",
              "                                                     [key], {});\n",
              "          if (!dataTable) return;\n",
              "\n",
              "          const docLinkHtml = 'Like what you see? Visit the ' +\n",
              "            '<a target=\"_blank\" href=https://colab.research.google.com/notebooks/data_table.ipynb>data table notebook</a>'\n",
              "            + ' to learn more about interactive tables.';\n",
              "          element.innerHTML = '';\n",
              "          dataTable['output_type'] = 'display_data';\n",
              "          await google.colab.output.renderOutput(dataTable, element);\n",
              "          const docLink = document.createElement('div');\n",
              "          docLink.innerHTML = docLinkHtml;\n",
              "          element.appendChild(docLink);\n",
              "        }\n",
              "      </script>\n",
              "    </div>\n",
              "  </div>\n",
              "  "
            ],
            "text/plain": [
              "                                         Description  ...  Month_12\n",
              "0  While removing the drill rod of the Jumbo 08 f...  ...         0\n",
              "1  During the activation of a sodium sulphide pum...  ...         0\n",
              "2  In the sub-station MILPO located at level +170...  ...         0\n",
              "3  Being 9:45 am. approximately in the Nv. 1880 C...  ...         0\n",
              "4  Approximately at 11:45 a.m. in circumstances t...  ...         0\n",
              "\n",
              "[5 rows x 95 columns]"
            ]
          },
          "metadata": {},
          "execution_count": 250
        }
      ],
      "source": [
        "df_latest.head()"
      ]
    },
    {
      "cell_type": "code",
      "execution_count": null,
      "metadata": {
        "id": "-0hqDKA3TECG"
      },
      "outputs": [],
      "source": [
        "#!wget http://nlp.stanford.edu/data/glove.6B.zip"
      ]
    },
    {
      "cell_type": "code",
      "execution_count": null,
      "metadata": {
        "id": "iyl5yOFATE8f"
      },
      "outputs": [],
      "source": [
        "#!unzip glove*.zip"
      ]
    },
    {
      "cell_type": "code",
      "execution_count": null,
      "metadata": {
        "colab": {
          "base_uri": "https://localhost:8080/"
        },
        "id": "KJ4gww6US7xL",
        "outputId": "dff16218-ca96-4f16-ac0f-c1fa38dddab2"
      },
      "outputs": [
        {
          "output_type": "execute_result",
          "data": {
            "text/plain": [
              "(400000, 300)"
            ]
          },
          "metadata": {},
          "execution_count": 253
        }
      ],
      "source": [
        "from gensim.scripts.glove2word2vec import glove2word2vec\n",
        "glove_input_file = 'glove.6B.300d.txt'\n",
        "word2vec_output_file = 'word2vec.txt'\n",
        "# The first step is to convert the GloVe file format to the word2vec file format. \n",
        "# The only difference is the addition of a small header line. This can be done by calling the \n",
        "# glove2word2vec() function.\n",
        "\n",
        "glove2word2vec(glove_input_file, word2vec_output_file)"
      ]
    },
    {
      "cell_type": "code",
      "execution_count": null,
      "metadata": {
        "id": "z7Helh4vTZTd"
      },
      "outputs": [],
      "source": [
        "from gensim.models import KeyedVectors\n",
        "model = KeyedVectors.load_word2vec_format(word2vec_output_file, binary=False)"
      ]
    },
    {
      "cell_type": "code",
      "execution_count": null,
      "metadata": {
        "id": "np02CpOD_GM0"
      },
      "outputs": [],
      "source": [
        "#Converting Description into GloVe embeddings\n",
        "import numpy as np\n",
        "glove_list = list()\n",
        "for row in df_latest['Description']:\n",
        "    sentence = np.zeros(300)\n",
        "    count = 0\n",
        "    for word in clean_text(row):\n",
        "        try:\n",
        "            sentence += model[word]\n",
        "            count += 1\n",
        "        except KeyError:\n",
        "            continue\n",
        "    glove_list.append(sentence / count)"
      ]
    },
    {
      "cell_type": "code",
      "execution_count": null,
      "metadata": {
        "id": "4kBzFjGv_OXE"
      },
      "outputs": [],
      "source": [
        "y = df_latest['Accident_Level']\n"
      ]
    },
    {
      "cell_type": "code",
      "execution_count": null,
      "metadata": {
        "colab": {
          "base_uri": "https://localhost:8080/"
        },
        "id": "6t0AnNvS_SAh",
        "outputId": "4489186a-a646-4a5c-8c03-005adefb27b3"
      },
      "outputs": [
        {
          "output_type": "execute_result",
          "data": {
            "text/plain": [
              "(425,)"
            ]
          },
          "metadata": {},
          "execution_count": 257
        }
      ],
      "source": [
        "y.shape"
      ]
    },
    {
      "cell_type": "code",
      "execution_count": null,
      "metadata": {
        "id": "IF0m5cfQ_VQC"
      },
      "outputs": [],
      "source": [
        "X = np.array(glove_list)"
      ]
    },
    {
      "cell_type": "code",
      "execution_count": null,
      "metadata": {
        "id": "K67BV_fX_al_"
      },
      "outputs": [],
      "source": [
        "from sklearn.model_selection import train_test_split\n",
        "X_tr, X_te, y_tr, y_te = train_test_split(np.array(glove_list), y, test_size=0.20,random_state=42)"
      ]
    },
    {
      "cell_type": "code",
      "execution_count": null,
      "metadata": {
        "id": "icodvj0d_fTk"
      },
      "outputs": [],
      "source": [
        "acc = []\n",
        "mod = []\n",
        "def get_accuracy(y,x):\n",
        "    global t\n",
        "    acc.append(x)\n",
        "    mod.append(y)\n",
        "    temp=pd.DataFrame(mod,columns=['Model'])\n",
        "    temp1 = pd.DataFrame(acc,columns=['accuracy'])\n",
        "    t =temp.join(temp1)\n",
        "    print(t)"
      ]
    },
    {
      "cell_type": "code",
      "execution_count": null,
      "metadata": {
        "id": "SkMrEOZa_jjt"
      },
      "outputs": [],
      "source": [
        "from sklearn.ensemble import  RandomForestClassifier\n",
        "rf =  RandomForestClassifier()"
      ]
    },
    {
      "cell_type": "code",
      "execution_count": null,
      "metadata": {
        "colab": {
          "base_uri": "https://localhost:8080/"
        },
        "id": "MP2V2s0N_mKK",
        "outputId": "34172bee-488f-4970-f274-d644d536372a"
      },
      "outputs": [
        {
          "output_type": "execute_result",
          "data": {
            "text/plain": [
              "RandomForestClassifier()"
            ]
          },
          "metadata": {},
          "execution_count": 262
        }
      ],
      "source": [
        "rf.fit(X_tr,y_tr)"
      ]
    },
    {
      "cell_type": "code",
      "execution_count": null,
      "metadata": {
        "colab": {
          "base_uri": "https://localhost:8080/"
        },
        "id": "3IOaNNzi_oev",
        "outputId": "b29f68d7-4a67-432b-ec5b-adbbfbe44206"
      },
      "outputs": [
        {
          "output_type": "stream",
          "name": "stdout",
          "text": [
            "0.9941176470588236\n",
            "0.8\n"
          ]
        }
      ],
      "source": [
        "print(rf.score(X_tr,y_tr))\n",
        "print(rf.score(X_te,y_te))"
      ]
    },
    {
      "cell_type": "code",
      "execution_count": null,
      "metadata": {
        "colab": {
          "base_uri": "https://localhost:8080/"
        },
        "id": "sFFA-rIP_rkq",
        "outputId": "4deaa2b2-360c-4dce-ab2a-d96aba68a1f9"
      },
      "outputs": [
        {
          "output_type": "stream",
          "name": "stdout",
          "text": [
            "                    Model  accuracy\n",
            "0  RandomForestClassifier       0.8\n"
          ]
        }
      ],
      "source": [
        "get_accuracy('RandomForestClassifier',rf.score(X_te,y_te))"
      ]
    },
    {
      "cell_type": "code",
      "execution_count": null,
      "metadata": {
        "id": "2ay8M7_3_umB"
      },
      "outputs": [],
      "source": [
        "#taking GloVe embeddings\n",
        "b = np.array(glove_list)"
      ]
    },
    {
      "cell_type": "code",
      "execution_count": null,
      "metadata": {
        "colab": {
          "base_uri": "https://localhost:8080/",
          "height": 488
        },
        "id": "lJL0eVtF_wSG",
        "outputId": "ea38cafe-2ad0-4a07-9cc5-3d803865556b"
      },
      "outputs": [
        {
          "output_type": "execute_result",
          "data": {
            "text/html": [
              "\n",
              "  <div id=\"df-0af3d78d-120b-431d-9c28-66b867602aa8\">\n",
              "    <div class=\"colab-df-container\">\n",
              "      <div>\n",
              "<style scoped>\n",
              "    .dataframe tbody tr th:only-of-type {\n",
              "        vertical-align: middle;\n",
              "    }\n",
              "\n",
              "    .dataframe tbody tr th {\n",
              "        vertical-align: top;\n",
              "    }\n",
              "\n",
              "    .dataframe thead th {\n",
              "        text-align: right;\n",
              "    }\n",
              "</style>\n",
              "<table border=\"1\" class=\"dataframe\">\n",
              "  <thead>\n",
              "    <tr style=\"text-align: right;\">\n",
              "      <th></th>\n",
              "      <th>0</th>\n",
              "      <th>1</th>\n",
              "      <th>2</th>\n",
              "      <th>3</th>\n",
              "      <th>4</th>\n",
              "      <th>5</th>\n",
              "      <th>6</th>\n",
              "      <th>7</th>\n",
              "      <th>8</th>\n",
              "      <th>9</th>\n",
              "      <th>10</th>\n",
              "      <th>11</th>\n",
              "      <th>12</th>\n",
              "      <th>13</th>\n",
              "      <th>14</th>\n",
              "      <th>15</th>\n",
              "      <th>16</th>\n",
              "      <th>17</th>\n",
              "      <th>18</th>\n",
              "      <th>19</th>\n",
              "      <th>20</th>\n",
              "      <th>21</th>\n",
              "      <th>22</th>\n",
              "      <th>23</th>\n",
              "      <th>24</th>\n",
              "      <th>25</th>\n",
              "      <th>26</th>\n",
              "      <th>27</th>\n",
              "      <th>28</th>\n",
              "      <th>29</th>\n",
              "      <th>30</th>\n",
              "      <th>31</th>\n",
              "      <th>32</th>\n",
              "      <th>33</th>\n",
              "      <th>34</th>\n",
              "      <th>35</th>\n",
              "      <th>36</th>\n",
              "      <th>37</th>\n",
              "      <th>38</th>\n",
              "      <th>39</th>\n",
              "      <th>...</th>\n",
              "      <th>260</th>\n",
              "      <th>261</th>\n",
              "      <th>262</th>\n",
              "      <th>263</th>\n",
              "      <th>264</th>\n",
              "      <th>265</th>\n",
              "      <th>266</th>\n",
              "      <th>267</th>\n",
              "      <th>268</th>\n",
              "      <th>269</th>\n",
              "      <th>270</th>\n",
              "      <th>271</th>\n",
              "      <th>272</th>\n",
              "      <th>273</th>\n",
              "      <th>274</th>\n",
              "      <th>275</th>\n",
              "      <th>276</th>\n",
              "      <th>277</th>\n",
              "      <th>278</th>\n",
              "      <th>279</th>\n",
              "      <th>280</th>\n",
              "      <th>281</th>\n",
              "      <th>282</th>\n",
              "      <th>283</th>\n",
              "      <th>284</th>\n",
              "      <th>285</th>\n",
              "      <th>286</th>\n",
              "      <th>287</th>\n",
              "      <th>288</th>\n",
              "      <th>289</th>\n",
              "      <th>290</th>\n",
              "      <th>291</th>\n",
              "      <th>292</th>\n",
              "      <th>293</th>\n",
              "      <th>294</th>\n",
              "      <th>295</th>\n",
              "      <th>296</th>\n",
              "      <th>297</th>\n",
              "      <th>298</th>\n",
              "      <th>299</th>\n",
              "    </tr>\n",
              "  </thead>\n",
              "  <tbody>\n",
              "    <tr>\n",
              "      <th>0</th>\n",
              "      <td>0.031929</td>\n",
              "      <td>0.065908</td>\n",
              "      <td>0.000504</td>\n",
              "      <td>-0.266411</td>\n",
              "      <td>-0.157503</td>\n",
              "      <td>-0.071912</td>\n",
              "      <td>0.102450</td>\n",
              "      <td>-0.030347</td>\n",
              "      <td>0.025684</td>\n",
              "      <td>-0.871705</td>\n",
              "      <td>-0.140715</td>\n",
              "      <td>0.120205</td>\n",
              "      <td>0.196227</td>\n",
              "      <td>-0.071967</td>\n",
              "      <td>-0.048902</td>\n",
              "      <td>0.166913</td>\n",
              "      <td>0.012817</td>\n",
              "      <td>-0.132208</td>\n",
              "      <td>-0.095033</td>\n",
              "      <td>0.012931</td>\n",
              "      <td>0.049327</td>\n",
              "      <td>0.100427</td>\n",
              "      <td>0.071991</td>\n",
              "      <td>0.028853</td>\n",
              "      <td>-0.106861</td>\n",
              "      <td>0.042053</td>\n",
              "      <td>-0.014210</td>\n",
              "      <td>0.040193</td>\n",
              "      <td>-0.045428</td>\n",
              "      <td>0.061043</td>\n",
              "      <td>0.076868</td>\n",
              "      <td>0.113543</td>\n",
              "      <td>0.079108</td>\n",
              "      <td>0.046920</td>\n",
              "      <td>-0.384206</td>\n",
              "      <td>0.281747</td>\n",
              "      <td>0.028889</td>\n",
              "      <td>-0.051389</td>\n",
              "      <td>-0.016994</td>\n",
              "      <td>0.143234</td>\n",
              "      <td>...</td>\n",
              "      <td>0.020711</td>\n",
              "      <td>-0.112482</td>\n",
              "      <td>-0.078719</td>\n",
              "      <td>0.112071</td>\n",
              "      <td>0.087575</td>\n",
              "      <td>0.059772</td>\n",
              "      <td>-0.169112</td>\n",
              "      <td>0.164174</td>\n",
              "      <td>-0.222369</td>\n",
              "      <td>0.019496</td>\n",
              "      <td>-0.014590</td>\n",
              "      <td>0.026808</td>\n",
              "      <td>-0.031191</td>\n",
              "      <td>0.058408</td>\n",
              "      <td>-0.006079</td>\n",
              "      <td>-0.100395</td>\n",
              "      <td>-1.276730</td>\n",
              "      <td>-0.017799</td>\n",
              "      <td>0.093760</td>\n",
              "      <td>0.048450</td>\n",
              "      <td>-0.031952</td>\n",
              "      <td>0.004834</td>\n",
              "      <td>-0.052919</td>\n",
              "      <td>-0.091427</td>\n",
              "      <td>0.114238</td>\n",
              "      <td>-0.020639</td>\n",
              "      <td>0.015775</td>\n",
              "      <td>0.030268</td>\n",
              "      <td>-0.068567</td>\n",
              "      <td>0.070028</td>\n",
              "      <td>-0.043635</td>\n",
              "      <td>-0.106893</td>\n",
              "      <td>-0.112524</td>\n",
              "      <td>-0.026297</td>\n",
              "      <td>-0.001618</td>\n",
              "      <td>0.178445</td>\n",
              "      <td>-0.012231</td>\n",
              "      <td>-0.274742</td>\n",
              "      <td>-0.061944</td>\n",
              "      <td>0.029341</td>\n",
              "    </tr>\n",
              "    <tr>\n",
              "      <th>1</th>\n",
              "      <td>-0.076368</td>\n",
              "      <td>0.148687</td>\n",
              "      <td>-0.058655</td>\n",
              "      <td>-0.157428</td>\n",
              "      <td>-0.003549</td>\n",
              "      <td>-0.076084</td>\n",
              "      <td>0.054584</td>\n",
              "      <td>-0.117375</td>\n",
              "      <td>0.074852</td>\n",
              "      <td>-0.928482</td>\n",
              "      <td>-0.047066</td>\n",
              "      <td>0.001696</td>\n",
              "      <td>-0.074007</td>\n",
              "      <td>-0.062746</td>\n",
              "      <td>0.120129</td>\n",
              "      <td>0.168230</td>\n",
              "      <td>-0.289644</td>\n",
              "      <td>-0.031182</td>\n",
              "      <td>-0.011097</td>\n",
              "      <td>-0.121397</td>\n",
              "      <td>-0.135411</td>\n",
              "      <td>-0.191753</td>\n",
              "      <td>-0.017601</td>\n",
              "      <td>0.203478</td>\n",
              "      <td>-0.161718</td>\n",
              "      <td>0.090443</td>\n",
              "      <td>0.028583</td>\n",
              "      <td>0.086308</td>\n",
              "      <td>-0.134160</td>\n",
              "      <td>-0.085224</td>\n",
              "      <td>-0.094764</td>\n",
              "      <td>0.060291</td>\n",
              "      <td>-0.062539</td>\n",
              "      <td>0.042310</td>\n",
              "      <td>-0.042176</td>\n",
              "      <td>0.067881</td>\n",
              "      <td>-0.052165</td>\n",
              "      <td>0.041958</td>\n",
              "      <td>-0.004361</td>\n",
              "      <td>0.167184</td>\n",
              "      <td>...</td>\n",
              "      <td>-0.106220</td>\n",
              "      <td>-0.100515</td>\n",
              "      <td>0.034894</td>\n",
              "      <td>-0.012409</td>\n",
              "      <td>0.026067</td>\n",
              "      <td>-0.067313</td>\n",
              "      <td>0.107850</td>\n",
              "      <td>0.034750</td>\n",
              "      <td>0.174190</td>\n",
              "      <td>-0.012373</td>\n",
              "      <td>0.014055</td>\n",
              "      <td>0.074457</td>\n",
              "      <td>-0.157993</td>\n",
              "      <td>-0.013718</td>\n",
              "      <td>-0.178949</td>\n",
              "      <td>0.143486</td>\n",
              "      <td>-1.046183</td>\n",
              "      <td>0.097376</td>\n",
              "      <td>-0.067548</td>\n",
              "      <td>-0.033097</td>\n",
              "      <td>-0.009753</td>\n",
              "      <td>0.004200</td>\n",
              "      <td>0.048203</td>\n",
              "      <td>-0.009352</td>\n",
              "      <td>0.009960</td>\n",
              "      <td>0.164236</td>\n",
              "      <td>-0.109522</td>\n",
              "      <td>-0.108427</td>\n",
              "      <td>-0.026720</td>\n",
              "      <td>0.119548</td>\n",
              "      <td>-0.400516</td>\n",
              "      <td>-0.105114</td>\n",
              "      <td>0.056700</td>\n",
              "      <td>0.052381</td>\n",
              "      <td>0.106906</td>\n",
              "      <td>-0.183209</td>\n",
              "      <td>0.059519</td>\n",
              "      <td>-0.223341</td>\n",
              "      <td>-0.119994</td>\n",
              "      <td>-0.040991</td>\n",
              "    </tr>\n",
              "    <tr>\n",
              "      <th>2</th>\n",
              "      <td>-0.065804</td>\n",
              "      <td>0.188262</td>\n",
              "      <td>-0.208724</td>\n",
              "      <td>-0.161652</td>\n",
              "      <td>0.003845</td>\n",
              "      <td>-0.058900</td>\n",
              "      <td>-0.194206</td>\n",
              "      <td>-0.061087</td>\n",
              "      <td>0.022911</td>\n",
              "      <td>-0.797878</td>\n",
              "      <td>-0.182133</td>\n",
              "      <td>-0.012979</td>\n",
              "      <td>0.091481</td>\n",
              "      <td>0.030917</td>\n",
              "      <td>0.047053</td>\n",
              "      <td>0.047946</td>\n",
              "      <td>-0.167418</td>\n",
              "      <td>0.189820</td>\n",
              "      <td>0.038910</td>\n",
              "      <td>0.053688</td>\n",
              "      <td>-0.027311</td>\n",
              "      <td>0.049619</td>\n",
              "      <td>0.016062</td>\n",
              "      <td>-0.053355</td>\n",
              "      <td>-0.143256</td>\n",
              "      <td>0.036068</td>\n",
              "      <td>-0.057737</td>\n",
              "      <td>-0.123490</td>\n",
              "      <td>0.055174</td>\n",
              "      <td>0.142733</td>\n",
              "      <td>0.094385</td>\n",
              "      <td>0.247464</td>\n",
              "      <td>-0.093732</td>\n",
              "      <td>0.116089</td>\n",
              "      <td>-0.347070</td>\n",
              "      <td>0.009817</td>\n",
              "      <td>-0.011419</td>\n",
              "      <td>-0.021043</td>\n",
              "      <td>0.013172</td>\n",
              "      <td>0.123036</td>\n",
              "      <td>...</td>\n",
              "      <td>-0.013121</td>\n",
              "      <td>-0.043517</td>\n",
              "      <td>0.043174</td>\n",
              "      <td>0.002950</td>\n",
              "      <td>-0.134849</td>\n",
              "      <td>-0.051595</td>\n",
              "      <td>-0.139325</td>\n",
              "      <td>0.011412</td>\n",
              "      <td>-0.084406</td>\n",
              "      <td>-0.024539</td>\n",
              "      <td>-0.075049</td>\n",
              "      <td>-0.113247</td>\n",
              "      <td>-0.010535</td>\n",
              "      <td>-0.000021</td>\n",
              "      <td>-0.092357</td>\n",
              "      <td>-0.070898</td>\n",
              "      <td>-1.068272</td>\n",
              "      <td>0.042078</td>\n",
              "      <td>-0.148169</td>\n",
              "      <td>0.138523</td>\n",
              "      <td>-0.064990</td>\n",
              "      <td>0.014196</td>\n",
              "      <td>-0.007171</td>\n",
              "      <td>0.084843</td>\n",
              "      <td>0.037323</td>\n",
              "      <td>0.148682</td>\n",
              "      <td>0.000040</td>\n",
              "      <td>-0.018863</td>\n",
              "      <td>0.006714</td>\n",
              "      <td>-0.117217</td>\n",
              "      <td>0.010357</td>\n",
              "      <td>-0.101688</td>\n",
              "      <td>-0.013859</td>\n",
              "      <td>0.106046</td>\n",
              "      <td>0.125163</td>\n",
              "      <td>0.168526</td>\n",
              "      <td>0.032519</td>\n",
              "      <td>-0.136656</td>\n",
              "      <td>0.052268</td>\n",
              "      <td>-0.103666</td>\n",
              "    </tr>\n",
              "    <tr>\n",
              "      <th>3</th>\n",
              "      <td>-0.034208</td>\n",
              "      <td>0.045705</td>\n",
              "      <td>-0.000197</td>\n",
              "      <td>-0.171430</td>\n",
              "      <td>-0.060930</td>\n",
              "      <td>-0.096957</td>\n",
              "      <td>-0.081918</td>\n",
              "      <td>0.024665</td>\n",
              "      <td>-0.014616</td>\n",
              "      <td>-0.754523</td>\n",
              "      <td>-0.135327</td>\n",
              "      <td>0.012887</td>\n",
              "      <td>0.056321</td>\n",
              "      <td>-0.121038</td>\n",
              "      <td>-0.048627</td>\n",
              "      <td>0.069380</td>\n",
              "      <td>-0.059485</td>\n",
              "      <td>0.033872</td>\n",
              "      <td>-0.052954</td>\n",
              "      <td>0.053419</td>\n",
              "      <td>0.019448</td>\n",
              "      <td>-0.038490</td>\n",
              "      <td>0.101193</td>\n",
              "      <td>-0.098182</td>\n",
              "      <td>0.030148</td>\n",
              "      <td>0.117174</td>\n",
              "      <td>0.002556</td>\n",
              "      <td>0.065339</td>\n",
              "      <td>0.009910</td>\n",
              "      <td>0.086257</td>\n",
              "      <td>0.176449</td>\n",
              "      <td>0.130957</td>\n",
              "      <td>0.036352</td>\n",
              "      <td>0.062016</td>\n",
              "      <td>-0.402928</td>\n",
              "      <td>0.076029</td>\n",
              "      <td>0.004029</td>\n",
              "      <td>0.007263</td>\n",
              "      <td>-0.064948</td>\n",
              "      <td>0.157893</td>\n",
              "      <td>...</td>\n",
              "      <td>-0.006978</td>\n",
              "      <td>-0.109890</td>\n",
              "      <td>0.111770</td>\n",
              "      <td>0.107805</td>\n",
              "      <td>0.007336</td>\n",
              "      <td>-0.071402</td>\n",
              "      <td>-0.077680</td>\n",
              "      <td>0.020023</td>\n",
              "      <td>-0.130708</td>\n",
              "      <td>0.098009</td>\n",
              "      <td>-0.019248</td>\n",
              "      <td>-0.062478</td>\n",
              "      <td>0.003291</td>\n",
              "      <td>0.144110</td>\n",
              "      <td>-0.037476</td>\n",
              "      <td>-0.021478</td>\n",
              "      <td>-0.805731</td>\n",
              "      <td>0.012863</td>\n",
              "      <td>0.059976</td>\n",
              "      <td>0.138287</td>\n",
              "      <td>-0.000703</td>\n",
              "      <td>0.000254</td>\n",
              "      <td>0.022524</td>\n",
              "      <td>0.020862</td>\n",
              "      <td>0.044863</td>\n",
              "      <td>-0.034708</td>\n",
              "      <td>0.002827</td>\n",
              "      <td>0.036302</td>\n",
              "      <td>-0.020067</td>\n",
              "      <td>-0.118084</td>\n",
              "      <td>-0.032944</td>\n",
              "      <td>-0.082572</td>\n",
              "      <td>0.061540</td>\n",
              "      <td>-0.028701</td>\n",
              "      <td>-0.019749</td>\n",
              "      <td>0.240793</td>\n",
              "      <td>-0.096363</td>\n",
              "      <td>-0.122852</td>\n",
              "      <td>-0.041779</td>\n",
              "      <td>-0.049481</td>\n",
              "    </tr>\n",
              "    <tr>\n",
              "      <th>4</th>\n",
              "      <td>-0.107266</td>\n",
              "      <td>0.097823</td>\n",
              "      <td>-0.100959</td>\n",
              "      <td>-0.044240</td>\n",
              "      <td>-0.094922</td>\n",
              "      <td>-0.049319</td>\n",
              "      <td>0.104563</td>\n",
              "      <td>0.048929</td>\n",
              "      <td>0.025315</td>\n",
              "      <td>-0.883560</td>\n",
              "      <td>-0.003587</td>\n",
              "      <td>-0.023322</td>\n",
              "      <td>-0.037468</td>\n",
              "      <td>-0.048457</td>\n",
              "      <td>0.086830</td>\n",
              "      <td>0.083023</td>\n",
              "      <td>-0.203557</td>\n",
              "      <td>0.030975</td>\n",
              "      <td>-0.057466</td>\n",
              "      <td>-0.054935</td>\n",
              "      <td>-0.002285</td>\n",
              "      <td>-0.022761</td>\n",
              "      <td>0.039996</td>\n",
              "      <td>0.090564</td>\n",
              "      <td>-0.094157</td>\n",
              "      <td>0.058614</td>\n",
              "      <td>0.016360</td>\n",
              "      <td>0.000003</td>\n",
              "      <td>-0.031906</td>\n",
              "      <td>0.113934</td>\n",
              "      <td>0.016454</td>\n",
              "      <td>0.305550</td>\n",
              "      <td>-0.000093</td>\n",
              "      <td>-0.004877</td>\n",
              "      <td>-0.356293</td>\n",
              "      <td>0.044580</td>\n",
              "      <td>0.020696</td>\n",
              "      <td>0.019690</td>\n",
              "      <td>-0.039296</td>\n",
              "      <td>0.233968</td>\n",
              "      <td>...</td>\n",
              "      <td>0.003145</td>\n",
              "      <td>-0.128399</td>\n",
              "      <td>0.011546</td>\n",
              "      <td>0.006410</td>\n",
              "      <td>-0.132167</td>\n",
              "      <td>0.060463</td>\n",
              "      <td>-0.027370</td>\n",
              "      <td>0.121332</td>\n",
              "      <td>-0.003878</td>\n",
              "      <td>-0.055843</td>\n",
              "      <td>-0.133860</td>\n",
              "      <td>-0.035754</td>\n",
              "      <td>-0.043740</td>\n",
              "      <td>0.021324</td>\n",
              "      <td>-0.114019</td>\n",
              "      <td>0.021098</td>\n",
              "      <td>-0.922580</td>\n",
              "      <td>-0.153251</td>\n",
              "      <td>-0.054065</td>\n",
              "      <td>0.111974</td>\n",
              "      <td>-0.007964</td>\n",
              "      <td>-0.065087</td>\n",
              "      <td>0.060382</td>\n",
              "      <td>0.040139</td>\n",
              "      <td>-0.064603</td>\n",
              "      <td>0.219110</td>\n",
              "      <td>-0.073252</td>\n",
              "      <td>0.009338</td>\n",
              "      <td>-0.008619</td>\n",
              "      <td>0.059100</td>\n",
              "      <td>0.101922</td>\n",
              "      <td>-0.070292</td>\n",
              "      <td>0.009434</td>\n",
              "      <td>-0.084649</td>\n",
              "      <td>0.128774</td>\n",
              "      <td>0.291641</td>\n",
              "      <td>-0.016530</td>\n",
              "      <td>-0.101362</td>\n",
              "      <td>-0.066211</td>\n",
              "      <td>-0.088439</td>\n",
              "    </tr>\n",
              "    <tr>\n",
              "      <th>...</th>\n",
              "      <td>...</td>\n",
              "      <td>...</td>\n",
              "      <td>...</td>\n",
              "      <td>...</td>\n",
              "      <td>...</td>\n",
              "      <td>...</td>\n",
              "      <td>...</td>\n",
              "      <td>...</td>\n",
              "      <td>...</td>\n",
              "      <td>...</td>\n",
              "      <td>...</td>\n",
              "      <td>...</td>\n",
              "      <td>...</td>\n",
              "      <td>...</td>\n",
              "      <td>...</td>\n",
              "      <td>...</td>\n",
              "      <td>...</td>\n",
              "      <td>...</td>\n",
              "      <td>...</td>\n",
              "      <td>...</td>\n",
              "      <td>...</td>\n",
              "      <td>...</td>\n",
              "      <td>...</td>\n",
              "      <td>...</td>\n",
              "      <td>...</td>\n",
              "      <td>...</td>\n",
              "      <td>...</td>\n",
              "      <td>...</td>\n",
              "      <td>...</td>\n",
              "      <td>...</td>\n",
              "      <td>...</td>\n",
              "      <td>...</td>\n",
              "      <td>...</td>\n",
              "      <td>...</td>\n",
              "      <td>...</td>\n",
              "      <td>...</td>\n",
              "      <td>...</td>\n",
              "      <td>...</td>\n",
              "      <td>...</td>\n",
              "      <td>...</td>\n",
              "      <td>...</td>\n",
              "      <td>...</td>\n",
              "      <td>...</td>\n",
              "      <td>...</td>\n",
              "      <td>...</td>\n",
              "      <td>...</td>\n",
              "      <td>...</td>\n",
              "      <td>...</td>\n",
              "      <td>...</td>\n",
              "      <td>...</td>\n",
              "      <td>...</td>\n",
              "      <td>...</td>\n",
              "      <td>...</td>\n",
              "      <td>...</td>\n",
              "      <td>...</td>\n",
              "      <td>...</td>\n",
              "      <td>...</td>\n",
              "      <td>...</td>\n",
              "      <td>...</td>\n",
              "      <td>...</td>\n",
              "      <td>...</td>\n",
              "      <td>...</td>\n",
              "      <td>...</td>\n",
              "      <td>...</td>\n",
              "      <td>...</td>\n",
              "      <td>...</td>\n",
              "      <td>...</td>\n",
              "      <td>...</td>\n",
              "      <td>...</td>\n",
              "      <td>...</td>\n",
              "      <td>...</td>\n",
              "      <td>...</td>\n",
              "      <td>...</td>\n",
              "      <td>...</td>\n",
              "      <td>...</td>\n",
              "      <td>...</td>\n",
              "      <td>...</td>\n",
              "      <td>...</td>\n",
              "      <td>...</td>\n",
              "      <td>...</td>\n",
              "      <td>...</td>\n",
              "    </tr>\n",
              "    <tr>\n",
              "      <th>420</th>\n",
              "      <td>-0.094079</td>\n",
              "      <td>0.045277</td>\n",
              "      <td>-0.121415</td>\n",
              "      <td>-0.227621</td>\n",
              "      <td>-0.116813</td>\n",
              "      <td>-0.094409</td>\n",
              "      <td>-0.067821</td>\n",
              "      <td>0.019452</td>\n",
              "      <td>-0.103166</td>\n",
              "      <td>-0.824298</td>\n",
              "      <td>0.020195</td>\n",
              "      <td>0.145238</td>\n",
              "      <td>-0.012041</td>\n",
              "      <td>-0.048415</td>\n",
              "      <td>0.025780</td>\n",
              "      <td>0.201738</td>\n",
              "      <td>-0.171450</td>\n",
              "      <td>-0.061806</td>\n",
              "      <td>-0.050531</td>\n",
              "      <td>0.050198</td>\n",
              "      <td>0.075207</td>\n",
              "      <td>-0.055368</td>\n",
              "      <td>-0.031662</td>\n",
              "      <td>0.078930</td>\n",
              "      <td>-0.041312</td>\n",
              "      <td>0.158356</td>\n",
              "      <td>-0.131652</td>\n",
              "      <td>0.045687</td>\n",
              "      <td>-0.071028</td>\n",
              "      <td>0.131939</td>\n",
              "      <td>0.074429</td>\n",
              "      <td>0.189264</td>\n",
              "      <td>0.073782</td>\n",
              "      <td>0.126890</td>\n",
              "      <td>-0.423165</td>\n",
              "      <td>0.096515</td>\n",
              "      <td>0.059476</td>\n",
              "      <td>0.096338</td>\n",
              "      <td>0.042321</td>\n",
              "      <td>0.208699</td>\n",
              "      <td>...</td>\n",
              "      <td>-0.067459</td>\n",
              "      <td>0.004336</td>\n",
              "      <td>0.040305</td>\n",
              "      <td>0.178499</td>\n",
              "      <td>-0.163476</td>\n",
              "      <td>-0.189891</td>\n",
              "      <td>0.009503</td>\n",
              "      <td>0.075293</td>\n",
              "      <td>-0.004632</td>\n",
              "      <td>0.101399</td>\n",
              "      <td>-0.169645</td>\n",
              "      <td>-0.099268</td>\n",
              "      <td>-0.026713</td>\n",
              "      <td>0.153300</td>\n",
              "      <td>-0.089283</td>\n",
              "      <td>-0.049702</td>\n",
              "      <td>-1.039174</td>\n",
              "      <td>-0.007726</td>\n",
              "      <td>0.178754</td>\n",
              "      <td>0.072747</td>\n",
              "      <td>-0.034899</td>\n",
              "      <td>-0.033107</td>\n",
              "      <td>-0.020310</td>\n",
              "      <td>-0.040657</td>\n",
              "      <td>0.039423</td>\n",
              "      <td>0.218317</td>\n",
              "      <td>-0.048600</td>\n",
              "      <td>-0.073829</td>\n",
              "      <td>-0.000636</td>\n",
              "      <td>0.012256</td>\n",
              "      <td>-0.048683</td>\n",
              "      <td>-0.039020</td>\n",
              "      <td>-0.071929</td>\n",
              "      <td>-0.091603</td>\n",
              "      <td>0.107000</td>\n",
              "      <td>0.385754</td>\n",
              "      <td>-0.140584</td>\n",
              "      <td>-0.078597</td>\n",
              "      <td>0.143009</td>\n",
              "      <td>-0.130202</td>\n",
              "    </tr>\n",
              "    <tr>\n",
              "      <th>421</th>\n",
              "      <td>0.089527</td>\n",
              "      <td>-0.009544</td>\n",
              "      <td>-0.087476</td>\n",
              "      <td>-0.115074</td>\n",
              "      <td>0.001598</td>\n",
              "      <td>-0.067845</td>\n",
              "      <td>-0.151309</td>\n",
              "      <td>-0.017067</td>\n",
              "      <td>0.049263</td>\n",
              "      <td>-0.923878</td>\n",
              "      <td>-0.163620</td>\n",
              "      <td>0.103981</td>\n",
              "      <td>-0.081996</td>\n",
              "      <td>-0.038572</td>\n",
              "      <td>-0.042277</td>\n",
              "      <td>0.105471</td>\n",
              "      <td>-0.068074</td>\n",
              "      <td>0.062790</td>\n",
              "      <td>0.040759</td>\n",
              "      <td>0.130514</td>\n",
              "      <td>-0.013900</td>\n",
              "      <td>0.092284</td>\n",
              "      <td>0.139863</td>\n",
              "      <td>-0.109373</td>\n",
              "      <td>-0.248768</td>\n",
              "      <td>0.025180</td>\n",
              "      <td>-0.008419</td>\n",
              "      <td>-0.089591</td>\n",
              "      <td>0.186001</td>\n",
              "      <td>0.021343</td>\n",
              "      <td>-0.030343</td>\n",
              "      <td>0.288642</td>\n",
              "      <td>0.058087</td>\n",
              "      <td>0.153823</td>\n",
              "      <td>-0.567772</td>\n",
              "      <td>0.009832</td>\n",
              "      <td>-0.012644</td>\n",
              "      <td>-0.024459</td>\n",
              "      <td>0.044314</td>\n",
              "      <td>0.141973</td>\n",
              "      <td>...</td>\n",
              "      <td>-0.136613</td>\n",
              "      <td>-0.069167</td>\n",
              "      <td>0.025017</td>\n",
              "      <td>0.122235</td>\n",
              "      <td>0.030435</td>\n",
              "      <td>-0.089782</td>\n",
              "      <td>-0.243285</td>\n",
              "      <td>0.060005</td>\n",
              "      <td>-0.096290</td>\n",
              "      <td>0.024651</td>\n",
              "      <td>-0.020566</td>\n",
              "      <td>0.086144</td>\n",
              "      <td>-0.029968</td>\n",
              "      <td>-0.046534</td>\n",
              "      <td>-0.123521</td>\n",
              "      <td>-0.089848</td>\n",
              "      <td>-1.099389</td>\n",
              "      <td>0.039997</td>\n",
              "      <td>0.019810</td>\n",
              "      <td>0.139918</td>\n",
              "      <td>-0.043155</td>\n",
              "      <td>0.070961</td>\n",
              "      <td>0.144844</td>\n",
              "      <td>0.032898</td>\n",
              "      <td>-0.091723</td>\n",
              "      <td>0.171544</td>\n",
              "      <td>0.020477</td>\n",
              "      <td>0.141344</td>\n",
              "      <td>-0.148438</td>\n",
              "      <td>-0.117973</td>\n",
              "      <td>0.039322</td>\n",
              "      <td>-0.130955</td>\n",
              "      <td>0.022468</td>\n",
              "      <td>0.053084</td>\n",
              "      <td>0.084987</td>\n",
              "      <td>0.171528</td>\n",
              "      <td>-0.080574</td>\n",
              "      <td>-0.251680</td>\n",
              "      <td>0.046803</td>\n",
              "      <td>-0.012328</td>\n",
              "    </tr>\n",
              "    <tr>\n",
              "      <th>422</th>\n",
              "      <td>-0.133309</td>\n",
              "      <td>0.126302</td>\n",
              "      <td>0.047209</td>\n",
              "      <td>-0.149528</td>\n",
              "      <td>0.101981</td>\n",
              "      <td>-0.082338</td>\n",
              "      <td>-0.077394</td>\n",
              "      <td>-0.016434</td>\n",
              "      <td>0.059334</td>\n",
              "      <td>-1.019747</td>\n",
              "      <td>-0.104869</td>\n",
              "      <td>0.063221</td>\n",
              "      <td>-0.063590</td>\n",
              "      <td>-0.057050</td>\n",
              "      <td>0.140144</td>\n",
              "      <td>0.064460</td>\n",
              "      <td>-0.163682</td>\n",
              "      <td>0.119875</td>\n",
              "      <td>-0.096442</td>\n",
              "      <td>0.006556</td>\n",
              "      <td>-0.035632</td>\n",
              "      <td>0.003179</td>\n",
              "      <td>0.219063</td>\n",
              "      <td>-0.096370</td>\n",
              "      <td>-0.112550</td>\n",
              "      <td>0.043866</td>\n",
              "      <td>-0.006633</td>\n",
              "      <td>-0.107082</td>\n",
              "      <td>-0.064459</td>\n",
              "      <td>0.105069</td>\n",
              "      <td>0.079130</td>\n",
              "      <td>0.112087</td>\n",
              "      <td>-0.130494</td>\n",
              "      <td>0.009598</td>\n",
              "      <td>-0.455642</td>\n",
              "      <td>-0.044158</td>\n",
              "      <td>-0.061811</td>\n",
              "      <td>0.020095</td>\n",
              "      <td>-0.139411</td>\n",
              "      <td>0.038646</td>\n",
              "      <td>...</td>\n",
              "      <td>0.017247</td>\n",
              "      <td>-0.081530</td>\n",
              "      <td>0.113587</td>\n",
              "      <td>0.007825</td>\n",
              "      <td>-0.116998</td>\n",
              "      <td>0.022806</td>\n",
              "      <td>-0.147015</td>\n",
              "      <td>-0.138209</td>\n",
              "      <td>-0.050392</td>\n",
              "      <td>0.091594</td>\n",
              "      <td>-0.026606</td>\n",
              "      <td>0.014368</td>\n",
              "      <td>0.037516</td>\n",
              "      <td>0.195359</td>\n",
              "      <td>0.023712</td>\n",
              "      <td>-0.089224</td>\n",
              "      <td>-1.391421</td>\n",
              "      <td>0.062310</td>\n",
              "      <td>0.193330</td>\n",
              "      <td>0.142618</td>\n",
              "      <td>-0.193108</td>\n",
              "      <td>0.107094</td>\n",
              "      <td>0.109809</td>\n",
              "      <td>0.060308</td>\n",
              "      <td>-0.027891</td>\n",
              "      <td>0.044625</td>\n",
              "      <td>0.043069</td>\n",
              "      <td>-0.034636</td>\n",
              "      <td>0.088423</td>\n",
              "      <td>-0.162026</td>\n",
              "      <td>0.015094</td>\n",
              "      <td>-0.098247</td>\n",
              "      <td>-0.119905</td>\n",
              "      <td>0.038092</td>\n",
              "      <td>0.083172</td>\n",
              "      <td>0.126856</td>\n",
              "      <td>0.034292</td>\n",
              "      <td>0.009938</td>\n",
              "      <td>-0.072558</td>\n",
              "      <td>-0.080974</td>\n",
              "    </tr>\n",
              "    <tr>\n",
              "      <th>423</th>\n",
              "      <td>-0.023623</td>\n",
              "      <td>0.069226</td>\n",
              "      <td>-0.028697</td>\n",
              "      <td>-0.275384</td>\n",
              "      <td>0.007412</td>\n",
              "      <td>-0.141074</td>\n",
              "      <td>-0.165693</td>\n",
              "      <td>-0.065384</td>\n",
              "      <td>-0.007034</td>\n",
              "      <td>-0.910555</td>\n",
              "      <td>-0.289550</td>\n",
              "      <td>0.065934</td>\n",
              "      <td>-0.099631</td>\n",
              "      <td>-0.148195</td>\n",
              "      <td>-0.032953</td>\n",
              "      <td>0.087125</td>\n",
              "      <td>-0.251802</td>\n",
              "      <td>0.008696</td>\n",
              "      <td>0.050065</td>\n",
              "      <td>0.019432</td>\n",
              "      <td>-0.008249</td>\n",
              "      <td>-0.091870</td>\n",
              "      <td>0.124785</td>\n",
              "      <td>0.001463</td>\n",
              "      <td>-0.081190</td>\n",
              "      <td>-0.062243</td>\n",
              "      <td>-0.038129</td>\n",
              "      <td>-0.093474</td>\n",
              "      <td>0.134691</td>\n",
              "      <td>0.035486</td>\n",
              "      <td>0.005748</td>\n",
              "      <td>0.177350</td>\n",
              "      <td>0.015829</td>\n",
              "      <td>0.019750</td>\n",
              "      <td>-0.440105</td>\n",
              "      <td>0.006537</td>\n",
              "      <td>-0.015142</td>\n",
              "      <td>0.050840</td>\n",
              "      <td>-0.101169</td>\n",
              "      <td>0.174210</td>\n",
              "      <td>...</td>\n",
              "      <td>0.024722</td>\n",
              "      <td>-0.060620</td>\n",
              "      <td>-0.049919</td>\n",
              "      <td>0.205386</td>\n",
              "      <td>-0.092203</td>\n",
              "      <td>-0.012012</td>\n",
              "      <td>-0.016805</td>\n",
              "      <td>0.145077</td>\n",
              "      <td>-0.012942</td>\n",
              "      <td>-0.014844</td>\n",
              "      <td>0.061706</td>\n",
              "      <td>-0.156927</td>\n",
              "      <td>0.047328</td>\n",
              "      <td>0.195023</td>\n",
              "      <td>-0.003432</td>\n",
              "      <td>-0.151127</td>\n",
              "      <td>-1.104904</td>\n",
              "      <td>-0.124412</td>\n",
              "      <td>-0.225043</td>\n",
              "      <td>0.146161</td>\n",
              "      <td>-0.034953</td>\n",
              "      <td>0.109655</td>\n",
              "      <td>-0.111355</td>\n",
              "      <td>0.026928</td>\n",
              "      <td>0.172910</td>\n",
              "      <td>0.130026</td>\n",
              "      <td>0.052594</td>\n",
              "      <td>-0.123630</td>\n",
              "      <td>0.031815</td>\n",
              "      <td>-0.060302</td>\n",
              "      <td>-0.101411</td>\n",
              "      <td>-0.086108</td>\n",
              "      <td>0.071862</td>\n",
              "      <td>0.110471</td>\n",
              "      <td>0.097566</td>\n",
              "      <td>0.047642</td>\n",
              "      <td>0.024165</td>\n",
              "      <td>-0.159185</td>\n",
              "      <td>0.078789</td>\n",
              "      <td>-0.102250</td>\n",
              "    </tr>\n",
              "    <tr>\n",
              "      <th>424</th>\n",
              "      <td>-0.085177</td>\n",
              "      <td>0.103040</td>\n",
              "      <td>-0.101300</td>\n",
              "      <td>-0.111170</td>\n",
              "      <td>-0.052819</td>\n",
              "      <td>-0.030521</td>\n",
              "      <td>-0.124088</td>\n",
              "      <td>-0.050721</td>\n",
              "      <td>0.067373</td>\n",
              "      <td>-0.986455</td>\n",
              "      <td>-0.090980</td>\n",
              "      <td>-0.020788</td>\n",
              "      <td>0.104943</td>\n",
              "      <td>-0.046944</td>\n",
              "      <td>-0.076036</td>\n",
              "      <td>0.119250</td>\n",
              "      <td>-0.067027</td>\n",
              "      <td>0.139096</td>\n",
              "      <td>-0.117303</td>\n",
              "      <td>-0.049179</td>\n",
              "      <td>-0.067043</td>\n",
              "      <td>-0.038235</td>\n",
              "      <td>0.127760</td>\n",
              "      <td>-0.136906</td>\n",
              "      <td>-0.138134</td>\n",
              "      <td>-0.035392</td>\n",
              "      <td>0.076679</td>\n",
              "      <td>-0.025736</td>\n",
              "      <td>0.184270</td>\n",
              "      <td>-0.022004</td>\n",
              "      <td>0.009641</td>\n",
              "      <td>0.219391</td>\n",
              "      <td>0.052262</td>\n",
              "      <td>0.013238</td>\n",
              "      <td>-0.753549</td>\n",
              "      <td>0.120237</td>\n",
              "      <td>0.055473</td>\n",
              "      <td>-0.062810</td>\n",
              "      <td>-0.065856</td>\n",
              "      <td>0.011825</td>\n",
              "      <td>...</td>\n",
              "      <td>-0.205191</td>\n",
              "      <td>-0.145528</td>\n",
              "      <td>-0.046003</td>\n",
              "      <td>0.059172</td>\n",
              "      <td>-0.041387</td>\n",
              "      <td>-0.033641</td>\n",
              "      <td>-0.079866</td>\n",
              "      <td>0.006977</td>\n",
              "      <td>-0.169181</td>\n",
              "      <td>-0.054079</td>\n",
              "      <td>-0.207141</td>\n",
              "      <td>-0.133590</td>\n",
              "      <td>-0.065553</td>\n",
              "      <td>0.072786</td>\n",
              "      <td>-0.056238</td>\n",
              "      <td>-0.064119</td>\n",
              "      <td>-1.386991</td>\n",
              "      <td>0.037107</td>\n",
              "      <td>0.065603</td>\n",
              "      <td>0.087003</td>\n",
              "      <td>-0.319025</td>\n",
              "      <td>0.038997</td>\n",
              "      <td>0.033241</td>\n",
              "      <td>-0.137091</td>\n",
              "      <td>0.136147</td>\n",
              "      <td>0.095679</td>\n",
              "      <td>-0.013974</td>\n",
              "      <td>0.051628</td>\n",
              "      <td>-0.057533</td>\n",
              "      <td>-0.122338</td>\n",
              "      <td>0.028054</td>\n",
              "      <td>0.010017</td>\n",
              "      <td>-0.083869</td>\n",
              "      <td>-0.013579</td>\n",
              "      <td>0.174762</td>\n",
              "      <td>0.119727</td>\n",
              "      <td>0.049611</td>\n",
              "      <td>-0.257038</td>\n",
              "      <td>-0.052309</td>\n",
              "      <td>-0.065951</td>\n",
              "    </tr>\n",
              "  </tbody>\n",
              "</table>\n",
              "<p>425 rows × 300 columns</p>\n",
              "</div>\n",
              "      <button class=\"colab-df-convert\" onclick=\"convertToInteractive('df-0af3d78d-120b-431d-9c28-66b867602aa8')\"\n",
              "              title=\"Convert this dataframe to an interactive table.\"\n",
              "              style=\"display:none;\">\n",
              "        \n",
              "  <svg xmlns=\"http://www.w3.org/2000/svg\" height=\"24px\"viewBox=\"0 0 24 24\"\n",
              "       width=\"24px\">\n",
              "    <path d=\"M0 0h24v24H0V0z\" fill=\"none\"/>\n",
              "    <path d=\"M18.56 5.44l.94 2.06.94-2.06 2.06-.94-2.06-.94-.94-2.06-.94 2.06-2.06.94zm-11 1L8.5 8.5l.94-2.06 2.06-.94-2.06-.94L8.5 2.5l-.94 2.06-2.06.94zm10 10l.94 2.06.94-2.06 2.06-.94-2.06-.94-.94-2.06-.94 2.06-2.06.94z\"/><path d=\"M17.41 7.96l-1.37-1.37c-.4-.4-.92-.59-1.43-.59-.52 0-1.04.2-1.43.59L10.3 9.45l-7.72 7.72c-.78.78-.78 2.05 0 2.83L4 21.41c.39.39.9.59 1.41.59.51 0 1.02-.2 1.41-.59l7.78-7.78 2.81-2.81c.8-.78.8-2.07 0-2.86zM5.41 20L4 18.59l7.72-7.72 1.47 1.35L5.41 20z\"/>\n",
              "  </svg>\n",
              "      </button>\n",
              "      \n",
              "  <style>\n",
              "    .colab-df-container {\n",
              "      display:flex;\n",
              "      flex-wrap:wrap;\n",
              "      gap: 12px;\n",
              "    }\n",
              "\n",
              "    .colab-df-convert {\n",
              "      background-color: #E8F0FE;\n",
              "      border: none;\n",
              "      border-radius: 50%;\n",
              "      cursor: pointer;\n",
              "      display: none;\n",
              "      fill: #1967D2;\n",
              "      height: 32px;\n",
              "      padding: 0 0 0 0;\n",
              "      width: 32px;\n",
              "    }\n",
              "\n",
              "    .colab-df-convert:hover {\n",
              "      background-color: #E2EBFA;\n",
              "      box-shadow: 0px 1px 2px rgba(60, 64, 67, 0.3), 0px 1px 3px 1px rgba(60, 64, 67, 0.15);\n",
              "      fill: #174EA6;\n",
              "    }\n",
              "\n",
              "    [theme=dark] .colab-df-convert {\n",
              "      background-color: #3B4455;\n",
              "      fill: #D2E3FC;\n",
              "    }\n",
              "\n",
              "    [theme=dark] .colab-df-convert:hover {\n",
              "      background-color: #434B5C;\n",
              "      box-shadow: 0px 1px 3px 1px rgba(0, 0, 0, 0.15);\n",
              "      filter: drop-shadow(0px 1px 2px rgba(0, 0, 0, 0.3));\n",
              "      fill: #FFFFFF;\n",
              "    }\n",
              "  </style>\n",
              "\n",
              "      <script>\n",
              "        const buttonEl =\n",
              "          document.querySelector('#df-0af3d78d-120b-431d-9c28-66b867602aa8 button.colab-df-convert');\n",
              "        buttonEl.style.display =\n",
              "          google.colab.kernel.accessAllowed ? 'block' : 'none';\n",
              "\n",
              "        async function convertToInteractive(key) {\n",
              "          const element = document.querySelector('#df-0af3d78d-120b-431d-9c28-66b867602aa8');\n",
              "          const dataTable =\n",
              "            await google.colab.kernel.invokeFunction('convertToInteractive',\n",
              "                                                     [key], {});\n",
              "          if (!dataTable) return;\n",
              "\n",
              "          const docLinkHtml = 'Like what you see? Visit the ' +\n",
              "            '<a target=\"_blank\" href=https://colab.research.google.com/notebooks/data_table.ipynb>data table notebook</a>'\n",
              "            + ' to learn more about interactive tables.';\n",
              "          element.innerHTML = '';\n",
              "          dataTable['output_type'] = 'display_data';\n",
              "          await google.colab.output.renderOutput(dataTable, element);\n",
              "          const docLink = document.createElement('div');\n",
              "          docLink.innerHTML = docLinkHtml;\n",
              "          element.appendChild(docLink);\n",
              "        }\n",
              "      </script>\n",
              "    </div>\n",
              "  </div>\n",
              "  "
            ],
            "text/plain": [
              "          0         1         2    ...       297       298       299\n",
              "0    0.031929  0.065908  0.000504  ... -0.274742 -0.061944  0.029341\n",
              "1   -0.076368  0.148687 -0.058655  ... -0.223341 -0.119994 -0.040991\n",
              "2   -0.065804  0.188262 -0.208724  ... -0.136656  0.052268 -0.103666\n",
              "3   -0.034208  0.045705 -0.000197  ... -0.122852 -0.041779 -0.049481\n",
              "4   -0.107266  0.097823 -0.100959  ... -0.101362 -0.066211 -0.088439\n",
              "..        ...       ...       ...  ...       ...       ...       ...\n",
              "420 -0.094079  0.045277 -0.121415  ... -0.078597  0.143009 -0.130202\n",
              "421  0.089527 -0.009544 -0.087476  ... -0.251680  0.046803 -0.012328\n",
              "422 -0.133309  0.126302  0.047209  ...  0.009938 -0.072558 -0.080974\n",
              "423 -0.023623  0.069226 -0.028697  ... -0.159185  0.078789 -0.102250\n",
              "424 -0.085177  0.103040 -0.101300  ... -0.257038 -0.052309 -0.065951\n",
              "\n",
              "[425 rows x 300 columns]"
            ]
          },
          "metadata": {},
          "execution_count": 266
        }
      ],
      "source": [
        "df = pd.DataFrame(b)\n",
        "df"
      ]
    },
    {
      "cell_type": "code",
      "execution_count": null,
      "metadata": {
        "id": "OKILOx6COk6w"
      },
      "outputs": [],
      "source": [
        "new_df = pd.concat([df_latest,df],axis=1)"
      ]
    },
    {
      "cell_type": "code",
      "execution_count": null,
      "metadata": {
        "id": "CTONOntNRbp9"
      },
      "outputs": [],
      "source": [
        "new_df.drop(['Description'],axis=1,inplace=True)"
      ]
    },
    {
      "cell_type": "code",
      "execution_count": null,
      "metadata": {
        "colab": {
          "base_uri": "https://localhost:8080/"
        },
        "id": "5uwLTrKfRX5L",
        "outputId": "2d22a6ad-ebb8-481e-b4f3-0b5b8fc5a8d2"
      },
      "outputs": [
        {
          "output_type": "execute_result",
          "data": {
            "text/plain": [
              "(425, 394)"
            ]
          },
          "metadata": {},
          "execution_count": 269
        }
      ],
      "source": [
        "new_df.shape"
      ]
    },
    {
      "cell_type": "code",
      "execution_count": null,
      "metadata": {
        "colab": {
          "base_uri": "https://localhost:8080/"
        },
        "id": "eQYR9LmOSdj0",
        "outputId": "fd98ad79-8cc0-4be3-c5fd-04b03d49bd62"
      },
      "outputs": [
        {
          "output_type": "stream",
          "name": "stdout",
          "text": [
            "<class 'pandas.core.frame.DataFrame'>\n",
            "RangeIndex: 425 entries, 0 to 424\n",
            "Columns: 394 entries, Potential_Accident_Level to 299\n",
            "dtypes: float64(300), int64(2), uint8(92)\n",
            "memory usage: 1.0 MB\n"
          ]
        }
      ],
      "source": [
        "new_df.info()"
      ]
    },
    {
      "cell_type": "code",
      "execution_count": null,
      "metadata": {
        "id": "diENMuu0SVbN"
      },
      "outputs": [],
      "source": [
        "df_final = new_df.copy()"
      ]
    },
    {
      "cell_type": "code",
      "source": [
        "X = df_final.copy()"
      ],
      "metadata": {
        "id": "M5rwKhgqzd6I"
      },
      "execution_count": null,
      "outputs": []
    },
    {
      "cell_type": "code",
      "source": [
        "X.info()"
      ],
      "metadata": {
        "colab": {
          "base_uri": "https://localhost:8080/"
        },
        "id": "idXT8sGkzi8l",
        "outputId": "7f46d1fd-40a5-4b6b-b399-105cf76ffd79"
      },
      "execution_count": null,
      "outputs": [
        {
          "output_type": "stream",
          "name": "stdout",
          "text": [
            "<class 'pandas.core.frame.DataFrame'>\n",
            "RangeIndex: 425 entries, 0 to 424\n",
            "Columns: 394 entries, Potential_Accident_Level to 299\n",
            "dtypes: float64(300), int64(2), uint8(92)\n",
            "memory usage: 1.0 MB\n"
          ]
        }
      ]
    },
    {
      "cell_type": "code",
      "source": [
        "y.value_counts()"
      ],
      "metadata": {
        "colab": {
          "base_uri": "https://localhost:8080/"
        },
        "id": "6LPOcVGdzkcO",
        "outputId": "540a5439-938f-417f-f057-33bf3a931aaa"
      },
      "execution_count": null,
      "outputs": [
        {
          "output_type": "execute_result",
          "data": {
            "text/plain": [
              "1    316\n",
              "2     40\n",
              "3     31\n",
              "4     30\n",
              "5      8\n",
              "Name: Accident_Level, dtype: int64"
            ]
          },
          "metadata": {},
          "execution_count": 274
        }
      ]
    },
    {
      "cell_type": "code",
      "source": [
        ""
      ],
      "metadata": {
        "id": "aspR9IXPzuf2"
      },
      "execution_count": null,
      "outputs": []
    },
    {
      "cell_type": "code",
      "source": [
        "X.drop('Accident_Level',axis=1,inplace=True)"
      ],
      "metadata": {
        "id": "azLlxcDIzwda"
      },
      "execution_count": null,
      "outputs": []
    },
    {
      "cell_type": "code",
      "source": [
        "X_tr, X_te, y_tr, y_te = train_test_split(X, y, test_size=0.20,random_state=88)"
      ],
      "metadata": {
        "id": "Y7d6ksWKz2l8"
      },
      "execution_count": null,
      "outputs": []
    },
    {
      "cell_type": "code",
      "source": [
        "#Random Classifier"
      ],
      "metadata": {
        "id": "z1Z8hqUZ_6Z7"
      },
      "execution_count": null,
      "outputs": []
    },
    {
      "cell_type": "code",
      "source": [
        "\n",
        "rf_glove =  RandomForestClassifier()"
      ],
      "metadata": {
        "id": "O1_s5Mmqz7hQ"
      },
      "execution_count": null,
      "outputs": []
    },
    {
      "cell_type": "code",
      "source": [
        "rf_glove.fit(X_tr,y_tr)"
      ],
      "metadata": {
        "colab": {
          "base_uri": "https://localhost:8080/"
        },
        "id": "uvmadQRSz-dd",
        "outputId": "8d75bda1-12d6-4635-da75-5cfeb9c4aa5f"
      },
      "execution_count": null,
      "outputs": [
        {
          "output_type": "stream",
          "name": "stderr",
          "text": [
            "/usr/local/lib/python3.7/dist-packages/sklearn/utils/validation.py:1692: FutureWarning: Feature names only support names that are all strings. Got feature names with dtypes: ['int', 'str']. An error will be raised in 1.2.\n",
            "  FutureWarning,\n"
          ]
        },
        {
          "output_type": "execute_result",
          "data": {
            "text/plain": [
              "RandomForestClassifier()"
            ]
          },
          "metadata": {},
          "execution_count": 279
        }
      ]
    },
    {
      "cell_type": "code",
      "source": [
        "rf_glove.score(X_tr,y_tr)"
      ],
      "metadata": {
        "colab": {
          "base_uri": "https://localhost:8080/"
        },
        "id": "n-jXCBGF0Daa",
        "outputId": "8433c6e5-f362-4936-b839-0b4d8fa99c5f"
      },
      "execution_count": null,
      "outputs": [
        {
          "output_type": "stream",
          "name": "stderr",
          "text": [
            "/usr/local/lib/python3.7/dist-packages/sklearn/utils/validation.py:1692: FutureWarning: Feature names only support names that are all strings. Got feature names with dtypes: ['int', 'str']. An error will be raised in 1.2.\n",
            "  FutureWarning,\n"
          ]
        },
        {
          "output_type": "execute_result",
          "data": {
            "text/plain": [
              "0.9970588235294118"
            ]
          },
          "metadata": {},
          "execution_count": 280
        }
      ]
    },
    {
      "cell_type": "code",
      "source": [
        "rf_glove.score(X_te,y_te)"
      ],
      "metadata": {
        "colab": {
          "base_uri": "https://localhost:8080/"
        },
        "id": "3lItiMf50FiZ",
        "outputId": "a53a6dca-edc5-452f-e31f-214ae3232793"
      },
      "execution_count": null,
      "outputs": [
        {
          "output_type": "stream",
          "name": "stderr",
          "text": [
            "/usr/local/lib/python3.7/dist-packages/sklearn/utils/validation.py:1692: FutureWarning: Feature names only support names that are all strings. Got feature names with dtypes: ['int', 'str']. An error will be raised in 1.2.\n",
            "  FutureWarning,\n"
          ]
        },
        {
          "output_type": "execute_result",
          "data": {
            "text/plain": [
              "0.7176470588235294"
            ]
          },
          "metadata": {},
          "execution_count": 281
        }
      ]
    },
    {
      "cell_type": "code",
      "source": [
        "get_accuracy('RandomForestClassifier GloVe',rf_glove.score(X_te,y_te))"
      ],
      "metadata": {
        "colab": {
          "base_uri": "https://localhost:8080/"
        },
        "id": "EReYHFKjaLOu",
        "outputId": "41bdc0cb-8835-4623-d0a0-46ee2ba8e3bc"
      },
      "execution_count": null,
      "outputs": [
        {
          "output_type": "stream",
          "name": "stdout",
          "text": [
            "                          Model  accuracy\n",
            "0        RandomForestClassifier  0.800000\n",
            "1  RandomForestClassifier GloVe  0.717647\n"
          ]
        },
        {
          "output_type": "stream",
          "name": "stderr",
          "text": [
            "/usr/local/lib/python3.7/dist-packages/sklearn/utils/validation.py:1692: FutureWarning: Feature names only support names that are all strings. Got feature names with dtypes: ['int', 'str']. An error will be raised in 1.2.\n",
            "  FutureWarning,\n"
          ]
        }
      ]
    },
    {
      "cell_type": "code",
      "source": [
        "pred = rf_glove.predict(X_te)\n",
        "pred = pred.astype(int)\n",
        "pred"
      ],
      "metadata": {
        "colab": {
          "base_uri": "https://localhost:8080/"
        },
        "id": "i5VXJqzM0cUX",
        "outputId": "0db2bb7b-2520-48dd-cef2-078112a164a5"
      },
      "execution_count": null,
      "outputs": [
        {
          "output_type": "stream",
          "name": "stderr",
          "text": [
            "/usr/local/lib/python3.7/dist-packages/sklearn/utils/validation.py:1692: FutureWarning: Feature names only support names that are all strings. Got feature names with dtypes: ['int', 'str']. An error will be raised in 1.2.\n",
            "  FutureWarning,\n"
          ]
        },
        {
          "output_type": "execute_result",
          "data": {
            "text/plain": [
              "array([1, 1, 1, 1, 1, 1, 1, 1, 1, 1, 1, 1, 1, 1, 1, 1, 1, 1, 1, 1, 1, 1,\n",
              "       1, 1, 1, 1, 1, 1, 1, 1, 1, 1, 1, 1, 1, 1, 1, 1, 1, 1, 1, 1, 1, 1,\n",
              "       1, 1, 1, 1, 1, 1, 1, 1, 1, 1, 1, 1, 1, 1, 1, 1, 1, 1, 1, 1, 1, 1,\n",
              "       1, 1, 1, 1, 1, 1, 1, 1, 1, 1, 1, 1, 1, 1, 1, 1, 1, 1, 1])"
            ]
          },
          "metadata": {},
          "execution_count": 283
        }
      ]
    },
    {
      "cell_type": "code",
      "source": [
        "from sklearn.metrics import classification_report\n",
        "\n",
        "print(classification_report(y_te, pred))"
      ],
      "metadata": {
        "colab": {
          "base_uri": "https://localhost:8080/"
        },
        "id": "WTKIPSbn0P1O",
        "outputId": "16150ce2-5bdc-4f64-aa60-7c74b2248f0a"
      },
      "execution_count": null,
      "outputs": [
        {
          "output_type": "stream",
          "name": "stdout",
          "text": [
            "              precision    recall  f1-score   support\n",
            "\n",
            "           1       0.72      1.00      0.84        61\n",
            "           2       0.00      0.00      0.00        11\n",
            "           3       0.00      0.00      0.00         4\n",
            "           4       0.00      0.00      0.00         6\n",
            "           5       0.00      0.00      0.00         3\n",
            "\n",
            "    accuracy                           0.72        85\n",
            "   macro avg       0.14      0.20      0.17        85\n",
            "weighted avg       0.52      0.72      0.60        85\n",
            "\n"
          ]
        },
        {
          "output_type": "stream",
          "name": "stderr",
          "text": [
            "/usr/local/lib/python3.7/dist-packages/sklearn/metrics/_classification.py:1318: UndefinedMetricWarning: Precision and F-score are ill-defined and being set to 0.0 in labels with no predicted samples. Use `zero_division` parameter to control this behavior.\n",
            "  _warn_prf(average, modifier, msg_start, len(result))\n",
            "/usr/local/lib/python3.7/dist-packages/sklearn/metrics/_classification.py:1318: UndefinedMetricWarning: Precision and F-score are ill-defined and being set to 0.0 in labels with no predicted samples. Use `zero_division` parameter to control this behavior.\n",
            "  _warn_prf(average, modifier, msg_start, len(result))\n",
            "/usr/local/lib/python3.7/dist-packages/sklearn/metrics/_classification.py:1318: UndefinedMetricWarning: Precision and F-score are ill-defined and being set to 0.0 in labels with no predicted samples. Use `zero_division` parameter to control this behavior.\n",
            "  _warn_prf(average, modifier, msg_start, len(result))\n"
          ]
        }
      ]
    },
    {
      "cell_type": "code",
      "source": [
        "#BaggingClassifier"
      ],
      "metadata": {
        "id": "Usa231DO_8bI"
      },
      "execution_count": null,
      "outputs": []
    },
    {
      "cell_type": "code",
      "source": [
        "from sklearn.ensemble import BaggingClassifier\n",
        "bgcl_glove=BaggingClassifier()"
      ],
      "metadata": {
        "id": "Jn3dykz88wwX"
      },
      "execution_count": null,
      "outputs": []
    },
    {
      "cell_type": "markdown",
      "source": [
        ""
      ],
      "metadata": {
        "id": "3pxJYXKh86xL"
      }
    },
    {
      "cell_type": "code",
      "source": [
        "bgcl_glove.fit(X_tr,y_tr)"
      ],
      "metadata": {
        "colab": {
          "base_uri": "https://localhost:8080/"
        },
        "id": "xCf7P05W87cA",
        "outputId": "0b787f09-052e-4e89-854b-e0a5fccaa718"
      },
      "execution_count": null,
      "outputs": [
        {
          "output_type": "stream",
          "name": "stderr",
          "text": [
            "/usr/local/lib/python3.7/dist-packages/sklearn/utils/validation.py:1692: FutureWarning: Feature names only support names that are all strings. Got feature names with dtypes: ['int', 'str']. An error will be raised in 1.2.\n",
            "  FutureWarning,\n"
          ]
        },
        {
          "output_type": "execute_result",
          "data": {
            "text/plain": [
              "BaggingClassifier()"
            ]
          },
          "metadata": {},
          "execution_count": 287
        }
      ]
    },
    {
      "cell_type": "code",
      "source": [
        "bgcl_glove.score(X_tr,y_tr)"
      ],
      "metadata": {
        "colab": {
          "base_uri": "https://localhost:8080/"
        },
        "id": "phRGZZQM8_SL",
        "outputId": "7b9c2f70-02ae-4625-9609-e4b9212681c4"
      },
      "execution_count": null,
      "outputs": [
        {
          "output_type": "stream",
          "name": "stderr",
          "text": [
            "/usr/local/lib/python3.7/dist-packages/sklearn/utils/validation.py:1692: FutureWarning: Feature names only support names that are all strings. Got feature names with dtypes: ['int', 'str']. An error will be raised in 1.2.\n",
            "  FutureWarning,\n"
          ]
        },
        {
          "output_type": "execute_result",
          "data": {
            "text/plain": [
              "0.9794117647058823"
            ]
          },
          "metadata": {},
          "execution_count": 288
        }
      ]
    },
    {
      "cell_type": "code",
      "source": [
        "bgcl_glove.score(X_te,y_te)"
      ],
      "metadata": {
        "colab": {
          "base_uri": "https://localhost:8080/"
        },
        "id": "iviC4FFZ9G_b",
        "outputId": "6f58aa58-5365-433c-857c-de661a687682"
      },
      "execution_count": null,
      "outputs": [
        {
          "output_type": "stream",
          "name": "stderr",
          "text": [
            "/usr/local/lib/python3.7/dist-packages/sklearn/utils/validation.py:1692: FutureWarning: Feature names only support names that are all strings. Got feature names with dtypes: ['int', 'str']. An error will be raised in 1.2.\n",
            "  FutureWarning,\n"
          ]
        },
        {
          "output_type": "execute_result",
          "data": {
            "text/plain": [
              "0.6823529411764706"
            ]
          },
          "metadata": {},
          "execution_count": 289
        }
      ]
    },
    {
      "cell_type": "code",
      "source": [
        "get_accuracy('BaggingClassifier',bgcl_glove.score(X_te,y_te))"
      ],
      "metadata": {
        "colab": {
          "base_uri": "https://localhost:8080/"
        },
        "id": "YbuHT1yq9LG1",
        "outputId": "8b5ed6fb-5c5e-4c0d-c85e-8b8a094a2d41"
      },
      "execution_count": null,
      "outputs": [
        {
          "output_type": "stream",
          "name": "stdout",
          "text": [
            "                          Model  accuracy\n",
            "0        RandomForestClassifier  0.800000\n",
            "1  RandomForestClassifier GloVe  0.717647\n",
            "2             BaggingClassifier  0.682353\n"
          ]
        },
        {
          "output_type": "stream",
          "name": "stderr",
          "text": [
            "/usr/local/lib/python3.7/dist-packages/sklearn/utils/validation.py:1692: FutureWarning: Feature names only support names that are all strings. Got feature names with dtypes: ['int', 'str']. An error will be raised in 1.2.\n",
            "  FutureWarning,\n"
          ]
        }
      ]
    },
    {
      "cell_type": "code",
      "source": [
        ""
      ],
      "metadata": {
        "id": "NnA89y8q9Q0d"
      },
      "execution_count": null,
      "outputs": []
    },
    {
      "cell_type": "code",
      "source": [
        "from keras.preprocessing.text import Tokenizer\n",
        "from keras.preprocessing.sequence import pad_sequences\n",
        "X = df_latest['Description'].values\n",
        "y = df_latest['Accident_Level'].values\n",
        "X_train, X_test, y_train, y_test = train_test_split(X, y, test_size=.3, random_state=20)\n",
        "\n",
        "max_len = 32\n",
        "tokenizer = Tokenizer(num_words)\n",
        "tokenizer.fit_on_texts(X_train)\n",
        "\n",
        "X_train = tokenizer.texts_to_sequences(X_train)\n",
        "X_train = pad_sequences(X_train, maxlen=max_len, truncating='post', padding='post')\n",
        "\n",
        "X_test = tokenizer.texts_to_sequences(X_test)\n",
        "X_test = pad_sequences(X_test, maxlen=max_len, truncating='post', padding='post')\n",
        "\n",
        "word_index = tokenizer.word_index\n",
        "print(\"Number of unique words: {}\".format(len(word_index)))\n",
        "\n",
        "embedding = {}\n",
        "with open(\"glove.6B.300d.txt\", encoding='utf-8') as file:\n",
        "    for line in file:\n",
        "        values = line.split()\n",
        "        word = values[0]\n",
        "        vectors = np.asarray(values[1:], 'float32')\n",
        "        embedding[word] = vectors\n",
        "file.close()\n",
        "\n",
        "embedding_matrix = np.zeros((num_words, 300))\n",
        "for i, word in tokenizer.index_word.items():\n",
        "    if i < (num_words+1):\n",
        "        vector = embedding.get(word)\n",
        "        if vector is not None:\n",
        "            embedding_matrix[i] = vector\n",
        "\n",
        "embedding_matrix.shape"
      ],
      "metadata": {
        "colab": {
          "base_uri": "https://localhost:8080/"
        },
        "id": "o-RMhb26KFhI",
        "outputId": "e150b788-0fe7-4231-c020-84c16001b6f6"
      },
      "execution_count": null,
      "outputs": [
        {
          "output_type": "stream",
          "name": "stdout",
          "text": [
            "Number of unique words: 2852\n"
          ]
        },
        {
          "output_type": "execute_result",
          "data": {
            "text/plain": [
              "(14120, 300)"
            ]
          },
          "metadata": {},
          "execution_count": 291
        }
      ]
    },
    {
      "cell_type": "code",
      "source": [
        "print(X_train.shape, y_train.shape)\n",
        "print(X_test.shape, y_test.shape)"
      ],
      "metadata": {
        "colab": {
          "base_uri": "https://localhost:8080/"
        },
        "id": "oQdq6ENEKO4b",
        "outputId": "a9cbe166-d0af-4ad7-ebec-00e9d7761c00"
      },
      "execution_count": null,
      "outputs": [
        {
          "output_type": "stream",
          "name": "stdout",
          "text": [
            "(297, 32) (297,)\n",
            "(128, 32) (128,)\n"
          ]
        }
      ]
    },
    {
      "cell_type": "code",
      "source": [
        "from keras.layers import Embedding, LSTM, Dense, Dropout, Bidirectional, SimpleRNN\n",
        "from keras.initializers import Constant\n",
        "lstm_model = Sequential()\n",
        "\n",
        "lstm_model.add(Embedding(input_dim=num_words, output_dim=300, embeddings_initializer=Constant(embedding_matrix), \n",
        "                    input_length=max_len, trainable=False))\n",
        "lstm_model.add(LSTM(64, dropout=0.1))\n",
        "lstm_model.add(Dense(num_words, activation='softmax'))\n",
        "\n",
        "lstm_model.compile(loss='sparse_categorical_crossentropy', optimizer='adam', metrics=['accuracy'])\n",
        "\n",
        "lstm_model.summary()"
      ],
      "metadata": {
        "colab": {
          "base_uri": "https://localhost:8080/"
        },
        "id": "VAPVuf_6O6VP",
        "outputId": "1962bfc6-a567-4c74-8c66-4277ffefefed"
      },
      "execution_count": null,
      "outputs": [
        {
          "output_type": "stream",
          "name": "stdout",
          "text": [
            "Model: \"sequential_4\"\n",
            "_________________________________________________________________\n",
            " Layer (type)                Output Shape              Param #   \n",
            "=================================================================\n",
            " embedding_4 (Embedding)     (None, 32, 300)           4236000   \n",
            "                                                                 \n",
            " lstm_6 (LSTM)               (None, 64)                93440     \n",
            "                                                                 \n",
            " dense_4 (Dense)             (None, 14120)             917800    \n",
            "                                                                 \n",
            "=================================================================\n",
            "Total params: 5,247,240\n",
            "Trainable params: 1,011,240\n",
            "Non-trainable params: 4,236,000\n",
            "_________________________________________________________________\n"
          ]
        }
      ]
    },
    {
      "cell_type": "code",
      "source": [
        "history = lstm_model.fit(X_train, y_train, epochs=4, batch_size=1024, validation_data=(X_test, y_test))\n"
      ],
      "metadata": {
        "colab": {
          "base_uri": "https://localhost:8080/"
        },
        "id": "cb9KOC7fO8Vu",
        "outputId": "9f64c32b-ae7f-4062-c31a-654d61b4be1e"
      },
      "execution_count": null,
      "outputs": [
        {
          "output_type": "stream",
          "name": "stdout",
          "text": [
            "Epoch 1/4\n",
            "1/1 [==============================] - 3s 3s/step - loss: 9.5673 - accuracy: 0.0000e+00 - val_loss: 9.5349 - val_accuracy: 0.0156\n",
            "Epoch 2/4\n",
            "1/1 [==============================] - 0s 70ms/step - loss: 9.5369 - accuracy: 0.0000e+00 - val_loss: 9.5020 - val_accuracy: 0.2656\n",
            "Epoch 3/4\n",
            "1/1 [==============================] - 0s 76ms/step - loss: 9.5060 - accuracy: 0.2323 - val_loss: 9.4664 - val_accuracy: 0.5703\n",
            "Epoch 4/4\n",
            "1/1 [==============================] - 0s 71ms/step - loss: 9.4726 - accuracy: 0.5657 - val_loss: 9.4264 - val_accuracy: 0.6953\n"
          ]
        }
      ]
    },
    {
      "cell_type": "code",
      "source": [
        "print(classification_report(y_test, np.argmax(lstm_model.predict(X_test), axis=-1)))\n"
      ],
      "metadata": {
        "colab": {
          "base_uri": "https://localhost:8080/"
        },
        "id": "pnFAk34nPBis",
        "outputId": "d45288ce-4999-495e-d939-afd1241d7833"
      },
      "execution_count": null,
      "outputs": [
        {
          "output_type": "stream",
          "name": "stdout",
          "text": [
            "              precision    recall  f1-score   support\n",
            "\n",
            "           1       0.77      0.90      0.83        98\n",
            "           2       0.00      0.00      0.00        11\n",
            "           3       0.00      0.00      0.00         8\n",
            "           4       0.00      0.00      0.00         9\n",
            "           5       0.33      0.50      0.40         2\n",
            "\n",
            "    accuracy                           0.70       128\n",
            "   macro avg       0.22      0.28      0.25       128\n",
            "weighted avg       0.59      0.70      0.64       128\n",
            "\n"
          ]
        },
        {
          "output_type": "stream",
          "name": "stderr",
          "text": [
            "/usr/local/lib/python3.7/dist-packages/sklearn/metrics/_classification.py:1318: UndefinedMetricWarning: Precision and F-score are ill-defined and being set to 0.0 in labels with no predicted samples. Use `zero_division` parameter to control this behavior.\n",
            "  _warn_prf(average, modifier, msg_start, len(result))\n",
            "/usr/local/lib/python3.7/dist-packages/sklearn/metrics/_classification.py:1318: UndefinedMetricWarning: Precision and F-score are ill-defined and being set to 0.0 in labels with no predicted samples. Use `zero_division` parameter to control this behavior.\n",
            "  _warn_prf(average, modifier, msg_start, len(result))\n",
            "/usr/local/lib/python3.7/dist-packages/sklearn/metrics/_classification.py:1318: UndefinedMetricWarning: Precision and F-score are ill-defined and being set to 0.0 in labels with no predicted samples. Use `zero_division` parameter to control this behavior.\n",
            "  _warn_prf(average, modifier, msg_start, len(result))\n"
          ]
        }
      ]
    },
    {
      "cell_type": "code",
      "source": [
        "biLSTM = Sequential()\n",
        "import tensorflow as tf\n",
        "biLSTM.add(Embedding(input_dim=num_words, output_dim=300, \n",
        "                    embeddings_initializer=Constant(embedding_matrix), \n",
        "        input_length=max_len, trainable=False))\n",
        "biLSTM.add(Bidirectional(LSTM(units=64, recurrent_dropout = 0.3, dropout = 0.3, \n",
        "                             return_sequences = True)))\n",
        "biLSTM.add(Bidirectional(LSTM(units=32, recurrent_dropout = 0.1, dropout = 0.1)))\n",
        "biLSTM.add(Dense(num_words, activation='softmax'))\n"
      ],
      "metadata": {
        "id": "twscvTx7PPiY",
        "colab": {
          "base_uri": "https://localhost:8080/"
        },
        "outputId": "53c91ff5-8c3f-4b3e-dcf7-d6b9b3e412fe"
      },
      "execution_count": null,
      "outputs": [
        {
          "output_type": "stream",
          "name": "stdout",
          "text": [
            "WARNING:tensorflow:Layer lstm_7 will not use cuDNN kernels since it doesn't meet the criteria. It will use a generic GPU kernel as fallback when running on GPU.\n",
            "WARNING:tensorflow:Layer lstm_7 will not use cuDNN kernels since it doesn't meet the criteria. It will use a generic GPU kernel as fallback when running on GPU.\n",
            "WARNING:tensorflow:Layer lstm_7 will not use cuDNN kernels since it doesn't meet the criteria. It will use a generic GPU kernel as fallback when running on GPU.\n",
            "WARNING:tensorflow:Layer lstm_8 will not use cuDNN kernels since it doesn't meet the criteria. It will use a generic GPU kernel as fallback when running on GPU.\n",
            "WARNING:tensorflow:Layer lstm_8 will not use cuDNN kernels since it doesn't meet the criteria. It will use a generic GPU kernel as fallback when running on GPU.\n",
            "WARNING:tensorflow:Layer lstm_8 will not use cuDNN kernels since it doesn't meet the criteria. It will use a generic GPU kernel as fallback when running on GPU.\n"
          ]
        }
      ]
    },
    {
      "cell_type": "code",
      "source": [
        "biLSTM.compile(optimizer=tf.keras.optimizers.Adam(learning_rate= 0.01), \n",
        "              loss='sparse_categorical_crossentropy', metrics=['accuracy'])"
      ],
      "metadata": {
        "id": "BUiantW8PPpE"
      },
      "execution_count": null,
      "outputs": []
    },
    {
      "cell_type": "code",
      "source": [
        "biLSTM.summary()"
      ],
      "metadata": {
        "colab": {
          "base_uri": "https://localhost:8080/"
        },
        "id": "5ukiifZoQpjP",
        "outputId": "79a55e89-ac08-4a88-e5a7-b0291d32022f"
      },
      "execution_count": null,
      "outputs": [
        {
          "output_type": "stream",
          "name": "stdout",
          "text": [
            "Model: \"sequential_5\"\n",
            "_________________________________________________________________\n",
            " Layer (type)                Output Shape              Param #   \n",
            "=================================================================\n",
            " embedding_5 (Embedding)     (None, 32, 300)           4236000   \n",
            "                                                                 \n",
            " bidirectional_4 (Bidirectio  (None, 32, 128)          186880    \n",
            " nal)                                                            \n",
            "                                                                 \n",
            " bidirectional_5 (Bidirectio  (None, 64)               41216     \n",
            " nal)                                                            \n",
            "                                                                 \n",
            " dense_5 (Dense)             (None, 14120)             917800    \n",
            "                                                                 \n",
            "=================================================================\n",
            "Total params: 5,381,896\n",
            "Trainable params: 1,145,896\n",
            "Non-trainable params: 4,236,000\n",
            "_________________________________________________________________\n"
          ]
        }
      ]
    },
    {
      "cell_type": "code",
      "source": [
        "history = biLSTM.fit(X_train, y_train, epochs=4, batch_size=1024, \n",
        "                    validation_data=(X_test, y_test))"
      ],
      "metadata": {
        "colab": {
          "base_uri": "https://localhost:8080/"
        },
        "id": "UUIcpl_At4t0",
        "outputId": "27a52885-f241-4ae2-8f0c-ad12191390af"
      },
      "execution_count": null,
      "outputs": [
        {
          "output_type": "stream",
          "name": "stdout",
          "text": [
            "Epoch 1/4\n",
            "1/1 [==============================] - 14s 14s/step - loss: 9.5558 - accuracy: 0.0000e+00 - val_loss: 9.2465 - val_accuracy: 0.7656\n",
            "Epoch 2/4\n",
            "1/1 [==============================] - 1s 1s/step - loss: 9.2594 - accuracy: 0.7340 - val_loss: 8.5871 - val_accuracy: 0.7656\n",
            "Epoch 3/4\n",
            "1/1 [==============================] - 1s 1s/step - loss: 8.6008 - accuracy: 0.7340 - val_loss: 7.7876 - val_accuracy: 0.7656\n",
            "Epoch 4/4\n",
            "1/1 [==============================] - 1s 1s/step - loss: 7.8058 - accuracy: 0.7340 - val_loss: 6.8017 - val_accuracy: 0.7656\n"
          ]
        }
      ]
    },
    {
      "cell_type": "code",
      "source": [
        "print(classification_report(y_test, np.argmax(biLSTM.predict(X_test), axis=-1)))"
      ],
      "metadata": {
        "colab": {
          "base_uri": "https://localhost:8080/"
        },
        "id": "yacEe_CkuGvd",
        "outputId": "ffde1e13-3062-4777-cbd3-c8ebe121004d"
      },
      "execution_count": null,
      "outputs": [
        {
          "output_type": "stream",
          "name": "stdout",
          "text": [
            "              precision    recall  f1-score   support\n",
            "\n",
            "           1       0.77      1.00      0.87        98\n",
            "           2       0.00      0.00      0.00        11\n",
            "           3       0.00      0.00      0.00         8\n",
            "           4       0.00      0.00      0.00         9\n",
            "           5       0.00      0.00      0.00         2\n",
            "\n",
            "    accuracy                           0.77       128\n",
            "   macro avg       0.15      0.20      0.17       128\n",
            "weighted avg       0.59      0.77      0.66       128\n",
            "\n"
          ]
        },
        {
          "output_type": "stream",
          "name": "stderr",
          "text": [
            "/usr/local/lib/python3.7/dist-packages/sklearn/metrics/_classification.py:1318: UndefinedMetricWarning: Precision and F-score are ill-defined and being set to 0.0 in labels with no predicted samples. Use `zero_division` parameter to control this behavior.\n",
            "  _warn_prf(average, modifier, msg_start, len(result))\n",
            "/usr/local/lib/python3.7/dist-packages/sklearn/metrics/_classification.py:1318: UndefinedMetricWarning: Precision and F-score are ill-defined and being set to 0.0 in labels with no predicted samples. Use `zero_division` parameter to control this behavior.\n",
            "  _warn_prf(average, modifier, msg_start, len(result))\n",
            "/usr/local/lib/python3.7/dist-packages/sklearn/metrics/_classification.py:1318: UndefinedMetricWarning: Precision and F-score are ill-defined and being set to 0.0 in labels with no predicted samples. Use `zero_division` parameter to control this behavior.\n",
            "  _warn_prf(average, modifier, msg_start, len(result))\n"
          ]
        }
      ]
    },
    {
      "cell_type": "markdown",
      "source": [
        "We can infer that data is imbalanced and precision, recall values are 0 for most of the classes. So, we need to balance the data with smote sampling and then use the data for model building"
      ],
      "metadata": {
        "id": "HGWFmBOTWScd"
      }
    },
    {
      "cell_type": "code",
      "source": [
        "X = df_final.copy()"
      ],
      "metadata": {
        "id": "ax3K91I6ZYc8"
      },
      "execution_count": null,
      "outputs": []
    },
    {
      "cell_type": "code",
      "source": [
        "X.drop('Accident_Level',axis=1,inplace=True)"
      ],
      "metadata": {
        "id": "OqtUZET8Br2U"
      },
      "execution_count": null,
      "outputs": []
    },
    {
      "cell_type": "code",
      "source": [
        "X.info()"
      ],
      "metadata": {
        "colab": {
          "base_uri": "https://localhost:8080/"
        },
        "id": "I3J6a2YuA0C1",
        "outputId": "6d41b72e-8fe0-48a0-f891-0abd0461e4b1"
      },
      "execution_count": null,
      "outputs": [
        {
          "output_type": "stream",
          "name": "stdout",
          "text": [
            "<class 'pandas.core.frame.DataFrame'>\n",
            "RangeIndex: 425 entries, 0 to 424\n",
            "Columns: 393 entries, Potential_Accident_Level to 299\n",
            "dtypes: float64(300), int64(1), uint8(92)\n",
            "memory usage: 1.0 MB\n"
          ]
        }
      ]
    },
    {
      "cell_type": "code",
      "source": [
        "#y.value_counts()\n",
        "y = df_latest['Accident_Level']\n",
        "y.value_counts()"
      ],
      "metadata": {
        "colab": {
          "base_uri": "https://localhost:8080/"
        },
        "id": "gEK7iT_6A71r",
        "outputId": "ac925076-fbf1-4b2c-bfca-718785eccc08"
      },
      "execution_count": null,
      "outputs": [
        {
          "output_type": "execute_result",
          "data": {
            "text/plain": [
              "1    316\n",
              "2     40\n",
              "3     31\n",
              "4     30\n",
              "5      8\n",
              "Name: Accident_Level, dtype: int64"
            ]
          },
          "metadata": {},
          "execution_count": 304
        }
      ]
    },
    {
      "cell_type": "code",
      "source": [
        "X.head(5)"
      ],
      "metadata": {
        "colab": {
          "base_uri": "https://localhost:8080/",
          "height": 334
        },
        "id": "pnF2ZKqOBXGZ",
        "outputId": "45e605fc-6df7-4d13-d71e-5049c2984305"
      },
      "execution_count": null,
      "outputs": [
        {
          "output_type": "execute_result",
          "data": {
            "text/html": [
              "\n",
              "  <div id=\"df-dba4e21e-0680-4536-a026-0a5ff938d239\">\n",
              "    <div class=\"colab-df-container\">\n",
              "      <div>\n",
              "<style scoped>\n",
              "    .dataframe tbody tr th:only-of-type {\n",
              "        vertical-align: middle;\n",
              "    }\n",
              "\n",
              "    .dataframe tbody tr th {\n",
              "        vertical-align: top;\n",
              "    }\n",
              "\n",
              "    .dataframe thead th {\n",
              "        text-align: right;\n",
              "    }\n",
              "</style>\n",
              "<table border=\"1\" class=\"dataframe\">\n",
              "  <thead>\n",
              "    <tr style=\"text-align: right;\">\n",
              "      <th></th>\n",
              "      <th>Potential_Accident_Level</th>\n",
              "      <th>Dummy_2</th>\n",
              "      <th>Dummy_3</th>\n",
              "      <th>Dummy_4</th>\n",
              "      <th>Dummy_5</th>\n",
              "      <th>Dummy_6</th>\n",
              "      <th>Dummy_7</th>\n",
              "      <th>Dummy_8</th>\n",
              "      <th>Dummy_9</th>\n",
              "      <th>Dummy_10</th>\n",
              "      <th>Dummy_11</th>\n",
              "      <th>Dummy_12</th>\n",
              "      <th>Dummy_13</th>\n",
              "      <th>Dummy_14</th>\n",
              "      <th>Dummy_15</th>\n",
              "      <th>Dummy_16</th>\n",
              "      <th>Dummy_17</th>\n",
              "      <th>Dummy_18</th>\n",
              "      <th>Dummy_19</th>\n",
              "      <th>Dummy_20</th>\n",
              "      <th>Dummy_21</th>\n",
              "      <th>Dummy_22</th>\n",
              "      <th>Dummy_23</th>\n",
              "      <th>Dummy_24</th>\n",
              "      <th>Dummy_25</th>\n",
              "      <th>Dummy_26</th>\n",
              "      <th>Dummy_27</th>\n",
              "      <th>Dummy_28</th>\n",
              "      <th>Dummy_29</th>\n",
              "      <th>Dummy_30</th>\n",
              "      <th>Dummy_31</th>\n",
              "      <th>Dummy_2017</th>\n",
              "      <th>Dummy_Country_02</th>\n",
              "      <th>Dummy_Country_03</th>\n",
              "      <th>Dummy_Bees</th>\n",
              "      <th>Dummy_Blocking and isolation of energies</th>\n",
              "      <th>Dummy_Burn</th>\n",
              "      <th>Dummy_Chemical substances</th>\n",
              "      <th>Dummy_Confined space</th>\n",
              "      <th>Dummy_Cut</th>\n",
              "      <th>...</th>\n",
              "      <th>260</th>\n",
              "      <th>261</th>\n",
              "      <th>262</th>\n",
              "      <th>263</th>\n",
              "      <th>264</th>\n",
              "      <th>265</th>\n",
              "      <th>266</th>\n",
              "      <th>267</th>\n",
              "      <th>268</th>\n",
              "      <th>269</th>\n",
              "      <th>270</th>\n",
              "      <th>271</th>\n",
              "      <th>272</th>\n",
              "      <th>273</th>\n",
              "      <th>274</th>\n",
              "      <th>275</th>\n",
              "      <th>276</th>\n",
              "      <th>277</th>\n",
              "      <th>278</th>\n",
              "      <th>279</th>\n",
              "      <th>280</th>\n",
              "      <th>281</th>\n",
              "      <th>282</th>\n",
              "      <th>283</th>\n",
              "      <th>284</th>\n",
              "      <th>285</th>\n",
              "      <th>286</th>\n",
              "      <th>287</th>\n",
              "      <th>288</th>\n",
              "      <th>289</th>\n",
              "      <th>290</th>\n",
              "      <th>291</th>\n",
              "      <th>292</th>\n",
              "      <th>293</th>\n",
              "      <th>294</th>\n",
              "      <th>295</th>\n",
              "      <th>296</th>\n",
              "      <th>297</th>\n",
              "      <th>298</th>\n",
              "      <th>299</th>\n",
              "    </tr>\n",
              "  </thead>\n",
              "  <tbody>\n",
              "    <tr>\n",
              "      <th>0</th>\n",
              "      <td>4</td>\n",
              "      <td>0</td>\n",
              "      <td>0</td>\n",
              "      <td>0</td>\n",
              "      <td>0</td>\n",
              "      <td>0</td>\n",
              "      <td>0</td>\n",
              "      <td>0</td>\n",
              "      <td>0</td>\n",
              "      <td>0</td>\n",
              "      <td>0</td>\n",
              "      <td>0</td>\n",
              "      <td>0</td>\n",
              "      <td>0</td>\n",
              "      <td>0</td>\n",
              "      <td>0</td>\n",
              "      <td>0</td>\n",
              "      <td>0</td>\n",
              "      <td>0</td>\n",
              "      <td>0</td>\n",
              "      <td>0</td>\n",
              "      <td>0</td>\n",
              "      <td>0</td>\n",
              "      <td>0</td>\n",
              "      <td>0</td>\n",
              "      <td>0</td>\n",
              "      <td>0</td>\n",
              "      <td>0</td>\n",
              "      <td>0</td>\n",
              "      <td>0</td>\n",
              "      <td>0</td>\n",
              "      <td>0</td>\n",
              "      <td>0</td>\n",
              "      <td>0</td>\n",
              "      <td>0</td>\n",
              "      <td>0</td>\n",
              "      <td>0</td>\n",
              "      <td>0</td>\n",
              "      <td>0</td>\n",
              "      <td>0</td>\n",
              "      <td>...</td>\n",
              "      <td>0.020711</td>\n",
              "      <td>-0.112482</td>\n",
              "      <td>-0.078719</td>\n",
              "      <td>0.112071</td>\n",
              "      <td>0.087575</td>\n",
              "      <td>0.059772</td>\n",
              "      <td>-0.169112</td>\n",
              "      <td>0.164174</td>\n",
              "      <td>-0.222369</td>\n",
              "      <td>0.019496</td>\n",
              "      <td>-0.014590</td>\n",
              "      <td>0.026808</td>\n",
              "      <td>-0.031191</td>\n",
              "      <td>0.058408</td>\n",
              "      <td>-0.006079</td>\n",
              "      <td>-0.100395</td>\n",
              "      <td>-1.276730</td>\n",
              "      <td>-0.017799</td>\n",
              "      <td>0.093760</td>\n",
              "      <td>0.048450</td>\n",
              "      <td>-0.031952</td>\n",
              "      <td>0.004834</td>\n",
              "      <td>-0.052919</td>\n",
              "      <td>-0.091427</td>\n",
              "      <td>0.114238</td>\n",
              "      <td>-0.020639</td>\n",
              "      <td>0.015775</td>\n",
              "      <td>0.030268</td>\n",
              "      <td>-0.068567</td>\n",
              "      <td>0.070028</td>\n",
              "      <td>-0.043635</td>\n",
              "      <td>-0.106893</td>\n",
              "      <td>-0.112524</td>\n",
              "      <td>-0.026297</td>\n",
              "      <td>-0.001618</td>\n",
              "      <td>0.178445</td>\n",
              "      <td>-0.012231</td>\n",
              "      <td>-0.274742</td>\n",
              "      <td>-0.061944</td>\n",
              "      <td>0.029341</td>\n",
              "    </tr>\n",
              "    <tr>\n",
              "      <th>1</th>\n",
              "      <td>4</td>\n",
              "      <td>1</td>\n",
              "      <td>0</td>\n",
              "      <td>0</td>\n",
              "      <td>0</td>\n",
              "      <td>0</td>\n",
              "      <td>0</td>\n",
              "      <td>0</td>\n",
              "      <td>0</td>\n",
              "      <td>0</td>\n",
              "      <td>0</td>\n",
              "      <td>0</td>\n",
              "      <td>0</td>\n",
              "      <td>0</td>\n",
              "      <td>0</td>\n",
              "      <td>0</td>\n",
              "      <td>0</td>\n",
              "      <td>0</td>\n",
              "      <td>0</td>\n",
              "      <td>0</td>\n",
              "      <td>0</td>\n",
              "      <td>0</td>\n",
              "      <td>0</td>\n",
              "      <td>0</td>\n",
              "      <td>0</td>\n",
              "      <td>0</td>\n",
              "      <td>0</td>\n",
              "      <td>0</td>\n",
              "      <td>0</td>\n",
              "      <td>0</td>\n",
              "      <td>0</td>\n",
              "      <td>0</td>\n",
              "      <td>1</td>\n",
              "      <td>0</td>\n",
              "      <td>0</td>\n",
              "      <td>0</td>\n",
              "      <td>0</td>\n",
              "      <td>0</td>\n",
              "      <td>0</td>\n",
              "      <td>0</td>\n",
              "      <td>...</td>\n",
              "      <td>-0.106220</td>\n",
              "      <td>-0.100515</td>\n",
              "      <td>0.034894</td>\n",
              "      <td>-0.012409</td>\n",
              "      <td>0.026067</td>\n",
              "      <td>-0.067313</td>\n",
              "      <td>0.107850</td>\n",
              "      <td>0.034750</td>\n",
              "      <td>0.174190</td>\n",
              "      <td>-0.012373</td>\n",
              "      <td>0.014055</td>\n",
              "      <td>0.074457</td>\n",
              "      <td>-0.157993</td>\n",
              "      <td>-0.013718</td>\n",
              "      <td>-0.178949</td>\n",
              "      <td>0.143486</td>\n",
              "      <td>-1.046183</td>\n",
              "      <td>0.097376</td>\n",
              "      <td>-0.067548</td>\n",
              "      <td>-0.033097</td>\n",
              "      <td>-0.009753</td>\n",
              "      <td>0.004200</td>\n",
              "      <td>0.048203</td>\n",
              "      <td>-0.009352</td>\n",
              "      <td>0.009960</td>\n",
              "      <td>0.164236</td>\n",
              "      <td>-0.109522</td>\n",
              "      <td>-0.108427</td>\n",
              "      <td>-0.026720</td>\n",
              "      <td>0.119548</td>\n",
              "      <td>-0.400516</td>\n",
              "      <td>-0.105114</td>\n",
              "      <td>0.056700</td>\n",
              "      <td>0.052381</td>\n",
              "      <td>0.106906</td>\n",
              "      <td>-0.183209</td>\n",
              "      <td>0.059519</td>\n",
              "      <td>-0.223341</td>\n",
              "      <td>-0.119994</td>\n",
              "      <td>-0.040991</td>\n",
              "    </tr>\n",
              "    <tr>\n",
              "      <th>2</th>\n",
              "      <td>3</td>\n",
              "      <td>0</td>\n",
              "      <td>0</td>\n",
              "      <td>0</td>\n",
              "      <td>0</td>\n",
              "      <td>1</td>\n",
              "      <td>0</td>\n",
              "      <td>0</td>\n",
              "      <td>0</td>\n",
              "      <td>0</td>\n",
              "      <td>0</td>\n",
              "      <td>0</td>\n",
              "      <td>0</td>\n",
              "      <td>0</td>\n",
              "      <td>0</td>\n",
              "      <td>0</td>\n",
              "      <td>0</td>\n",
              "      <td>0</td>\n",
              "      <td>0</td>\n",
              "      <td>0</td>\n",
              "      <td>0</td>\n",
              "      <td>0</td>\n",
              "      <td>0</td>\n",
              "      <td>0</td>\n",
              "      <td>0</td>\n",
              "      <td>0</td>\n",
              "      <td>0</td>\n",
              "      <td>0</td>\n",
              "      <td>0</td>\n",
              "      <td>0</td>\n",
              "      <td>0</td>\n",
              "      <td>0</td>\n",
              "      <td>0</td>\n",
              "      <td>0</td>\n",
              "      <td>0</td>\n",
              "      <td>0</td>\n",
              "      <td>0</td>\n",
              "      <td>0</td>\n",
              "      <td>0</td>\n",
              "      <td>0</td>\n",
              "      <td>...</td>\n",
              "      <td>-0.013121</td>\n",
              "      <td>-0.043517</td>\n",
              "      <td>0.043174</td>\n",
              "      <td>0.002950</td>\n",
              "      <td>-0.134849</td>\n",
              "      <td>-0.051595</td>\n",
              "      <td>-0.139325</td>\n",
              "      <td>0.011412</td>\n",
              "      <td>-0.084406</td>\n",
              "      <td>-0.024539</td>\n",
              "      <td>-0.075049</td>\n",
              "      <td>-0.113247</td>\n",
              "      <td>-0.010535</td>\n",
              "      <td>-0.000021</td>\n",
              "      <td>-0.092357</td>\n",
              "      <td>-0.070898</td>\n",
              "      <td>-1.068272</td>\n",
              "      <td>0.042078</td>\n",
              "      <td>-0.148169</td>\n",
              "      <td>0.138523</td>\n",
              "      <td>-0.064990</td>\n",
              "      <td>0.014196</td>\n",
              "      <td>-0.007171</td>\n",
              "      <td>0.084843</td>\n",
              "      <td>0.037323</td>\n",
              "      <td>0.148682</td>\n",
              "      <td>0.000040</td>\n",
              "      <td>-0.018863</td>\n",
              "      <td>0.006714</td>\n",
              "      <td>-0.117217</td>\n",
              "      <td>0.010357</td>\n",
              "      <td>-0.101688</td>\n",
              "      <td>-0.013859</td>\n",
              "      <td>0.106046</td>\n",
              "      <td>0.125163</td>\n",
              "      <td>0.168526</td>\n",
              "      <td>0.032519</td>\n",
              "      <td>-0.136656</td>\n",
              "      <td>0.052268</td>\n",
              "      <td>-0.103666</td>\n",
              "    </tr>\n",
              "    <tr>\n",
              "      <th>3</th>\n",
              "      <td>1</td>\n",
              "      <td>0</td>\n",
              "      <td>0</td>\n",
              "      <td>0</td>\n",
              "      <td>0</td>\n",
              "      <td>0</td>\n",
              "      <td>0</td>\n",
              "      <td>1</td>\n",
              "      <td>0</td>\n",
              "      <td>0</td>\n",
              "      <td>0</td>\n",
              "      <td>0</td>\n",
              "      <td>0</td>\n",
              "      <td>0</td>\n",
              "      <td>0</td>\n",
              "      <td>0</td>\n",
              "      <td>0</td>\n",
              "      <td>0</td>\n",
              "      <td>0</td>\n",
              "      <td>0</td>\n",
              "      <td>0</td>\n",
              "      <td>0</td>\n",
              "      <td>0</td>\n",
              "      <td>0</td>\n",
              "      <td>0</td>\n",
              "      <td>0</td>\n",
              "      <td>0</td>\n",
              "      <td>0</td>\n",
              "      <td>0</td>\n",
              "      <td>0</td>\n",
              "      <td>0</td>\n",
              "      <td>0</td>\n",
              "      <td>0</td>\n",
              "      <td>0</td>\n",
              "      <td>0</td>\n",
              "      <td>0</td>\n",
              "      <td>0</td>\n",
              "      <td>0</td>\n",
              "      <td>0</td>\n",
              "      <td>0</td>\n",
              "      <td>...</td>\n",
              "      <td>-0.006978</td>\n",
              "      <td>-0.109890</td>\n",
              "      <td>0.111770</td>\n",
              "      <td>0.107805</td>\n",
              "      <td>0.007336</td>\n",
              "      <td>-0.071402</td>\n",
              "      <td>-0.077680</td>\n",
              "      <td>0.020023</td>\n",
              "      <td>-0.130708</td>\n",
              "      <td>0.098009</td>\n",
              "      <td>-0.019248</td>\n",
              "      <td>-0.062478</td>\n",
              "      <td>0.003291</td>\n",
              "      <td>0.144110</td>\n",
              "      <td>-0.037476</td>\n",
              "      <td>-0.021478</td>\n",
              "      <td>-0.805731</td>\n",
              "      <td>0.012863</td>\n",
              "      <td>0.059976</td>\n",
              "      <td>0.138287</td>\n",
              "      <td>-0.000703</td>\n",
              "      <td>0.000254</td>\n",
              "      <td>0.022524</td>\n",
              "      <td>0.020862</td>\n",
              "      <td>0.044863</td>\n",
              "      <td>-0.034708</td>\n",
              "      <td>0.002827</td>\n",
              "      <td>0.036302</td>\n",
              "      <td>-0.020067</td>\n",
              "      <td>-0.118084</td>\n",
              "      <td>-0.032944</td>\n",
              "      <td>-0.082572</td>\n",
              "      <td>0.061540</td>\n",
              "      <td>-0.028701</td>\n",
              "      <td>-0.019749</td>\n",
              "      <td>0.240793</td>\n",
              "      <td>-0.096363</td>\n",
              "      <td>-0.122852</td>\n",
              "      <td>-0.041779</td>\n",
              "      <td>-0.049481</td>\n",
              "    </tr>\n",
              "    <tr>\n",
              "      <th>4</th>\n",
              "      <td>4</td>\n",
              "      <td>0</td>\n",
              "      <td>0</td>\n",
              "      <td>0</td>\n",
              "      <td>0</td>\n",
              "      <td>0</td>\n",
              "      <td>0</td>\n",
              "      <td>0</td>\n",
              "      <td>0</td>\n",
              "      <td>1</td>\n",
              "      <td>0</td>\n",
              "      <td>0</td>\n",
              "      <td>0</td>\n",
              "      <td>0</td>\n",
              "      <td>0</td>\n",
              "      <td>0</td>\n",
              "      <td>0</td>\n",
              "      <td>0</td>\n",
              "      <td>0</td>\n",
              "      <td>0</td>\n",
              "      <td>0</td>\n",
              "      <td>0</td>\n",
              "      <td>0</td>\n",
              "      <td>0</td>\n",
              "      <td>0</td>\n",
              "      <td>0</td>\n",
              "      <td>0</td>\n",
              "      <td>0</td>\n",
              "      <td>0</td>\n",
              "      <td>0</td>\n",
              "      <td>0</td>\n",
              "      <td>0</td>\n",
              "      <td>0</td>\n",
              "      <td>0</td>\n",
              "      <td>0</td>\n",
              "      <td>0</td>\n",
              "      <td>0</td>\n",
              "      <td>0</td>\n",
              "      <td>0</td>\n",
              "      <td>0</td>\n",
              "      <td>...</td>\n",
              "      <td>0.003145</td>\n",
              "      <td>-0.128399</td>\n",
              "      <td>0.011546</td>\n",
              "      <td>0.006410</td>\n",
              "      <td>-0.132167</td>\n",
              "      <td>0.060463</td>\n",
              "      <td>-0.027370</td>\n",
              "      <td>0.121332</td>\n",
              "      <td>-0.003878</td>\n",
              "      <td>-0.055843</td>\n",
              "      <td>-0.133860</td>\n",
              "      <td>-0.035754</td>\n",
              "      <td>-0.043740</td>\n",
              "      <td>0.021324</td>\n",
              "      <td>-0.114019</td>\n",
              "      <td>0.021098</td>\n",
              "      <td>-0.922580</td>\n",
              "      <td>-0.153251</td>\n",
              "      <td>-0.054065</td>\n",
              "      <td>0.111974</td>\n",
              "      <td>-0.007964</td>\n",
              "      <td>-0.065087</td>\n",
              "      <td>0.060382</td>\n",
              "      <td>0.040139</td>\n",
              "      <td>-0.064603</td>\n",
              "      <td>0.219110</td>\n",
              "      <td>-0.073252</td>\n",
              "      <td>0.009338</td>\n",
              "      <td>-0.008619</td>\n",
              "      <td>0.059100</td>\n",
              "      <td>0.101922</td>\n",
              "      <td>-0.070292</td>\n",
              "      <td>0.009434</td>\n",
              "      <td>-0.084649</td>\n",
              "      <td>0.128774</td>\n",
              "      <td>0.291641</td>\n",
              "      <td>-0.016530</td>\n",
              "      <td>-0.101362</td>\n",
              "      <td>-0.066211</td>\n",
              "      <td>-0.088439</td>\n",
              "    </tr>\n",
              "  </tbody>\n",
              "</table>\n",
              "<p>5 rows × 393 columns</p>\n",
              "</div>\n",
              "      <button class=\"colab-df-convert\" onclick=\"convertToInteractive('df-dba4e21e-0680-4536-a026-0a5ff938d239')\"\n",
              "              title=\"Convert this dataframe to an interactive table.\"\n",
              "              style=\"display:none;\">\n",
              "        \n",
              "  <svg xmlns=\"http://www.w3.org/2000/svg\" height=\"24px\"viewBox=\"0 0 24 24\"\n",
              "       width=\"24px\">\n",
              "    <path d=\"M0 0h24v24H0V0z\" fill=\"none\"/>\n",
              "    <path d=\"M18.56 5.44l.94 2.06.94-2.06 2.06-.94-2.06-.94-.94-2.06-.94 2.06-2.06.94zm-11 1L8.5 8.5l.94-2.06 2.06-.94-2.06-.94L8.5 2.5l-.94 2.06-2.06.94zm10 10l.94 2.06.94-2.06 2.06-.94-2.06-.94-.94-2.06-.94 2.06-2.06.94z\"/><path d=\"M17.41 7.96l-1.37-1.37c-.4-.4-.92-.59-1.43-.59-.52 0-1.04.2-1.43.59L10.3 9.45l-7.72 7.72c-.78.78-.78 2.05 0 2.83L4 21.41c.39.39.9.59 1.41.59.51 0 1.02-.2 1.41-.59l7.78-7.78 2.81-2.81c.8-.78.8-2.07 0-2.86zM5.41 20L4 18.59l7.72-7.72 1.47 1.35L5.41 20z\"/>\n",
              "  </svg>\n",
              "      </button>\n",
              "      \n",
              "  <style>\n",
              "    .colab-df-container {\n",
              "      display:flex;\n",
              "      flex-wrap:wrap;\n",
              "      gap: 12px;\n",
              "    }\n",
              "\n",
              "    .colab-df-convert {\n",
              "      background-color: #E8F0FE;\n",
              "      border: none;\n",
              "      border-radius: 50%;\n",
              "      cursor: pointer;\n",
              "      display: none;\n",
              "      fill: #1967D2;\n",
              "      height: 32px;\n",
              "      padding: 0 0 0 0;\n",
              "      width: 32px;\n",
              "    }\n",
              "\n",
              "    .colab-df-convert:hover {\n",
              "      background-color: #E2EBFA;\n",
              "      box-shadow: 0px 1px 2px rgba(60, 64, 67, 0.3), 0px 1px 3px 1px rgba(60, 64, 67, 0.15);\n",
              "      fill: #174EA6;\n",
              "    }\n",
              "\n",
              "    [theme=dark] .colab-df-convert {\n",
              "      background-color: #3B4455;\n",
              "      fill: #D2E3FC;\n",
              "    }\n",
              "\n",
              "    [theme=dark] .colab-df-convert:hover {\n",
              "      background-color: #434B5C;\n",
              "      box-shadow: 0px 1px 3px 1px rgba(0, 0, 0, 0.15);\n",
              "      filter: drop-shadow(0px 1px 2px rgba(0, 0, 0, 0.3));\n",
              "      fill: #FFFFFF;\n",
              "    }\n",
              "  </style>\n",
              "\n",
              "      <script>\n",
              "        const buttonEl =\n",
              "          document.querySelector('#df-dba4e21e-0680-4536-a026-0a5ff938d239 button.colab-df-convert');\n",
              "        buttonEl.style.display =\n",
              "          google.colab.kernel.accessAllowed ? 'block' : 'none';\n",
              "\n",
              "        async function convertToInteractive(key) {\n",
              "          const element = document.querySelector('#df-dba4e21e-0680-4536-a026-0a5ff938d239');\n",
              "          const dataTable =\n",
              "            await google.colab.kernel.invokeFunction('convertToInteractive',\n",
              "                                                     [key], {});\n",
              "          if (!dataTable) return;\n",
              "\n",
              "          const docLinkHtml = 'Like what you see? Visit the ' +\n",
              "            '<a target=\"_blank\" href=https://colab.research.google.com/notebooks/data_table.ipynb>data table notebook</a>'\n",
              "            + ' to learn more about interactive tables.';\n",
              "          element.innerHTML = '';\n",
              "          dataTable['output_type'] = 'display_data';\n",
              "          await google.colab.output.renderOutput(dataTable, element);\n",
              "          const docLink = document.createElement('div');\n",
              "          docLink.innerHTML = docLinkHtml;\n",
              "          element.appendChild(docLink);\n",
              "        }\n",
              "      </script>\n",
              "    </div>\n",
              "  </div>\n",
              "  "
            ],
            "text/plain": [
              "   Potential_Accident_Level  Dummy_2  Dummy_3  ...       297       298       299\n",
              "0                         4        0        0  ... -0.274742 -0.061944  0.029341\n",
              "1                         4        1        0  ... -0.223341 -0.119994 -0.040991\n",
              "2                         3        0        0  ... -0.136656  0.052268 -0.103666\n",
              "3                         1        0        0  ... -0.122852 -0.041779 -0.049481\n",
              "4                         4        0        0  ... -0.101362 -0.066211 -0.088439\n",
              "\n",
              "[5 rows x 393 columns]"
            ]
          },
          "metadata": {},
          "execution_count": 305
        }
      ]
    },
    {
      "cell_type": "code",
      "source": [
        "Y=list(y)\n",
        "len(Y)"
      ],
      "metadata": {
        "colab": {
          "base_uri": "https://localhost:8080/"
        },
        "id": "NzdhEqdIB4T2",
        "outputId": "62fdd57c-53f7-4d91-da63-e05d3e302d7e"
      },
      "execution_count": null,
      "outputs": [
        {
          "output_type": "execute_result",
          "data": {
            "text/plain": [
              "425"
            ]
          },
          "metadata": {},
          "execution_count": 306
        }
      ]
    },
    {
      "cell_type": "code",
      "source": [
        "y =np.array(Y)"
      ],
      "metadata": {
        "id": "yMuntOvTB8MO"
      },
      "execution_count": null,
      "outputs": []
    },
    {
      "cell_type": "code",
      "source": [
        "#X = np.array(glove_list)"
      ],
      "metadata": {
        "id": "rgYoMYaeGWVb"
      },
      "execution_count": null,
      "outputs": []
    },
    {
      "cell_type": "code",
      "source": [
        "X_train, X_test, Y_train, Y_test = train_test_split(X,y, test_size = 0.20, random_state = 55)\n"
      ],
      "metadata": {
        "id": "eIRTDThJB-zI"
      },
      "execution_count": null,
      "outputs": []
    },
    {
      "cell_type": "code",
      "source": [
        "from imblearn.over_sampling import SMOTE\n",
        "oversample = SMOTE()\n",
        "x_train_smote,y_train_smote = oversample.fit_resample(X_train.values, Y_train.ravel())"
      ],
      "metadata": {
        "id": "2nZVgn4ZCHps"
      },
      "execution_count": null,
      "outputs": []
    },
    {
      "cell_type": "code",
      "source": [
        "rf_glove_smote =  RandomForestClassifier()\n",
        "rf_glove_smote.fit(x_train_smote,y_train_smote)\n",
        "rf_glove_smote.score(X_test,Y_test)"
      ],
      "metadata": {
        "colab": {
          "base_uri": "https://localhost:8080/"
        },
        "id": "98WZk6n8CT5J",
        "outputId": "b91fd585-758b-4982-9444-0a2683bb46e4"
      },
      "execution_count": null,
      "outputs": [
        {
          "output_type": "execute_result",
          "data": {
            "text/plain": [
              "0.7294117647058823"
            ]
          },
          "metadata": {},
          "execution_count": 346
        }
      ]
    },
    {
      "cell_type": "code",
      "source": [
        "get_accuracy('RandomForestClassifier glove  SMOTE samping',rf_glove_smote.score(X_test,Y_test))\n"
      ],
      "metadata": {
        "colab": {
          "base_uri": "https://localhost:8080/"
        },
        "id": "U3LD0gaLCji8",
        "outputId": "921c0148-7cbb-4ff6-e4d3-06173d6699a4"
      },
      "execution_count": null,
      "outputs": [
        {
          "output_type": "stream",
          "name": "stdout",
          "text": [
            "                                         Model  accuracy\n",
            "0                       RandomForestClassifier  0.800000\n",
            "1                 RandomForestClassifier GloVe  0.717647\n",
            "2                            BaggingClassifier  0.682353\n",
            "3  RandomForestClassifier glove  SMOTE samping  0.741176\n",
            "4  RandomForestClassifier glove  SMOTE samping  0.741176\n",
            "5  RandomForestClassifier glove  SMOTE samping  0.729412\n"
          ]
        }
      ]
    },
    {
      "cell_type": "code",
      "source": [
        "rf_glove_smote.score(x_train_smote,y_train_smote)"
      ],
      "metadata": {
        "colab": {
          "base_uri": "https://localhost:8080/"
        },
        "id": "AobUuLadCsOG",
        "outputId": "9067ae5a-4fa0-4640-d492-f8564afe4fc3"
      },
      "execution_count": null,
      "outputs": [
        {
          "output_type": "execute_result",
          "data": {
            "text/plain": [
              "0.9992063492063492"
            ]
          },
          "metadata": {},
          "execution_count": 348
        }
      ]
    },
    {
      "cell_type": "code",
      "source": [
        "rf_glove_smote.score(X_test,Y_test)\n"
      ],
      "metadata": {
        "colab": {
          "base_uri": "https://localhost:8080/"
        },
        "id": "wWZwijdEC5VW",
        "outputId": "a657e641-b692-48a2-d87b-95f91b3f2da8"
      },
      "execution_count": null,
      "outputs": [
        {
          "output_type": "execute_result",
          "data": {
            "text/plain": [
              "0.7294117647058823"
            ]
          },
          "metadata": {},
          "execution_count": 349
        }
      ]
    },
    {
      "cell_type": "code",
      "source": [
        "X_test"
      ],
      "metadata": {
        "colab": {
          "base_uri": "https://localhost:8080/"
        },
        "id": "QVWnMFomC-xz",
        "outputId": "6c433afe-c0cc-4a3d-801c-f8b7e73b0820"
      },
      "execution_count": null,
      "outputs": [
        {
          "output_type": "execute_result",
          "data": {
            "text/plain": [
              "array([[-0.06065575,  0.03687173, -0.1271931 , ..., -0.12752579,\n",
              "         0.0417589 , -0.06305957],\n",
              "       [-0.07276787, -0.00588093, -0.05650224, ..., -0.18798441,\n",
              "        -0.09838579, -0.04326873],\n",
              "       [-0.13826694,  0.2238289 , -0.05635674, ..., -0.0575274 ,\n",
              "        -0.01834766, -0.19367937],\n",
              "       ...,\n",
              "       [ 0.01432012,  0.02412658,  0.00136218, ..., -0.05607494,\n",
              "        -0.0543917 , -0.06921323],\n",
              "       [-0.02567158,  0.11940107,  0.02403402, ..., -0.12330361,\n",
              "        -0.04499531,  0.00124495],\n",
              "       [-0.11081553,  0.04314537, -0.04753218, ..., -0.077704  ,\n",
              "         0.05952532, -0.01264837]])"
            ]
          },
          "metadata": {},
          "execution_count": 350
        }
      ]
    },
    {
      "cell_type": "code",
      "source": [
        "pred = rf_glove_smote.predict(X_test)\n",
        "pred = pred.astype(int)\n",
        "pred"
      ],
      "metadata": {
        "colab": {
          "base_uri": "https://localhost:8080/"
        },
        "id": "hE5e1-ZtDBvD",
        "outputId": "c073fc04-8b99-49a6-95fd-95a52643c334"
      },
      "execution_count": null,
      "outputs": [
        {
          "output_type": "execute_result",
          "data": {
            "text/plain": [
              "array([1, 1, 1, 1, 1, 1, 1, 1, 1, 1, 1, 1, 1, 1, 1, 1, 1, 1, 1, 1, 1, 1,\n",
              "       1, 1, 1, 1, 1, 1, 1, 1, 1, 1, 1, 1, 1, 1, 1, 1, 1, 1, 1, 1, 1, 1,\n",
              "       1, 1, 2, 1, 1, 1, 1, 1, 1, 1, 1, 1, 1, 1, 1, 1, 4, 1, 1, 1, 3, 1,\n",
              "       1, 1, 1, 1, 1, 1, 1, 1, 4, 1, 1, 1, 1, 1, 2, 1, 1, 1, 1])"
            ]
          },
          "metadata": {},
          "execution_count": 351
        }
      ]
    },
    {
      "cell_type": "code",
      "source": [
        "from sklearn.metrics import classification_report\n",
        "\n",
        "print(classification_report(Y_test, pred))"
      ],
      "metadata": {
        "colab": {
          "base_uri": "https://localhost:8080/"
        },
        "id": "sAbuyj3RDIqH",
        "outputId": "deeea37e-92a2-48d2-de72-d9345dc9e6ff"
      },
      "execution_count": null,
      "outputs": [
        {
          "output_type": "stream",
          "name": "stdout",
          "text": [
            "              precision    recall  f1-score   support\n",
            "\n",
            "           1       0.76      0.95      0.85        64\n",
            "           2       0.00      0.00      0.00         6\n",
            "           3       0.00      0.00      0.00         8\n",
            "           4       0.50      0.20      0.29         5\n",
            "           5       0.00      0.00      0.00         2\n",
            "\n",
            "    accuracy                           0.73        85\n",
            "   macro avg       0.25      0.23      0.23        85\n",
            "weighted avg       0.60      0.73      0.65        85\n",
            "\n"
          ]
        },
        {
          "output_type": "stream",
          "name": "stderr",
          "text": [
            "/usr/local/lib/python3.7/dist-packages/sklearn/metrics/_classification.py:1318: UndefinedMetricWarning: Precision and F-score are ill-defined and being set to 0.0 in labels with no predicted samples. Use `zero_division` parameter to control this behavior.\n",
            "  _warn_prf(average, modifier, msg_start, len(result))\n",
            "/usr/local/lib/python3.7/dist-packages/sklearn/metrics/_classification.py:1318: UndefinedMetricWarning: Precision and F-score are ill-defined and being set to 0.0 in labels with no predicted samples. Use `zero_division` parameter to control this behavior.\n",
            "  _warn_prf(average, modifier, msg_start, len(result))\n",
            "/usr/local/lib/python3.7/dist-packages/sklearn/metrics/_classification.py:1318: UndefinedMetricWarning: Precision and F-score are ill-defined and being set to 0.0 in labels with no predicted samples. Use `zero_division` parameter to control this behavior.\n",
            "  _warn_prf(average, modifier, msg_start, len(result))\n"
          ]
        }
      ]
    },
    {
      "cell_type": "code",
      "source": [
        "from sklearn.ensemble import BaggingClassifier\n",
        "bgcl_glove_smote=BaggingClassifier()"
      ],
      "metadata": {
        "id": "0__wrCJ3DNyP"
      },
      "execution_count": null,
      "outputs": []
    },
    {
      "cell_type": "code",
      "source": [
        "bgcl_glove_smote.fit(x_train_smote,y_train_smote)\n"
      ],
      "metadata": {
        "colab": {
          "base_uri": "https://localhost:8080/"
        },
        "id": "YZyrLMb6DTEq",
        "outputId": "9bf86b74-3443-4dee-be70-4ba1d9e1459b"
      },
      "execution_count": null,
      "outputs": [
        {
          "output_type": "execute_result",
          "data": {
            "text/plain": [
              "BaggingClassifier()"
            ]
          },
          "metadata": {},
          "execution_count": 354
        }
      ]
    },
    {
      "cell_type": "code",
      "source": [
        "bgcl_glove_smote.score(x_train_smote,y_train_smote)"
      ],
      "metadata": {
        "colab": {
          "base_uri": "https://localhost:8080/"
        },
        "id": "DP8JEpEZDboH",
        "outputId": "8fcf4915-5c83-414e-e0bc-7e580806adfa"
      },
      "execution_count": null,
      "outputs": [
        {
          "output_type": "execute_result",
          "data": {
            "text/plain": [
              "0.9984126984126984"
            ]
          },
          "metadata": {},
          "execution_count": 355
        }
      ]
    },
    {
      "cell_type": "code",
      "source": [
        "bgcl_glove_smote.score(X_test,Y_test)"
      ],
      "metadata": {
        "colab": {
          "base_uri": "https://localhost:8080/"
        },
        "id": "Ekfz4rPoDhxm",
        "outputId": "ebaacc6c-57c4-471f-d790-8eaeedfaddbd"
      },
      "execution_count": null,
      "outputs": [
        {
          "output_type": "execute_result",
          "data": {
            "text/plain": [
              "0.6588235294117647"
            ]
          },
          "metadata": {},
          "execution_count": 356
        }
      ]
    },
    {
      "cell_type": "code",
      "source": [
        "pred = bgcl_glove_smote.predict(X_test)\n",
        "pred = pred.astype(int)\n",
        "pred"
      ],
      "metadata": {
        "colab": {
          "base_uri": "https://localhost:8080/"
        },
        "id": "dnDybgSoDnUe",
        "outputId": "83ae501b-e58c-4b0b-998b-2bd09b1569b6"
      },
      "execution_count": null,
      "outputs": [
        {
          "output_type": "execute_result",
          "data": {
            "text/plain": [
              "array([1, 1, 1, 1, 4, 1, 1, 1, 1, 1, 1, 1, 1, 1, 4, 1, 2, 1, 1, 1, 1, 1,\n",
              "       1, 1, 1, 1, 1, 1, 1, 1, 1, 1, 1, 1, 1, 1, 1, 1, 1, 1, 1, 4, 1, 1,\n",
              "       1, 1, 1, 1, 1, 1, 1, 4, 1, 1, 1, 1, 3, 1, 1, 1, 4, 4, 1, 1, 1, 1,\n",
              "       1, 1, 1, 1, 3, 1, 1, 1, 1, 1, 1, 1, 1, 1, 4, 2, 1, 1, 1])"
            ]
          },
          "metadata": {},
          "execution_count": 357
        }
      ]
    },
    {
      "cell_type": "code",
      "source": [
        "from sklearn.metrics import classification_report\n",
        "\n",
        "print(classification_report(Y_test, pred))"
      ],
      "metadata": {
        "colab": {
          "base_uri": "https://localhost:8080/"
        },
        "id": "ppbHbQBkDq_K",
        "outputId": "0628458e-d9a0-400e-9e3e-792361075be4"
      },
      "execution_count": null,
      "outputs": [
        {
          "output_type": "stream",
          "name": "stdout",
          "text": [
            "              precision    recall  f1-score   support\n",
            "\n",
            "           1       0.76      0.88      0.81        64\n",
            "           2       0.00      0.00      0.00         6\n",
            "           3       0.00      0.00      0.00         8\n",
            "           4       0.00      0.00      0.00         5\n",
            "           5       0.00      0.00      0.00         2\n",
            "\n",
            "    accuracy                           0.66        85\n",
            "   macro avg       0.15      0.17      0.16        85\n",
            "weighted avg       0.57      0.66      0.61        85\n",
            "\n"
          ]
        },
        {
          "output_type": "stream",
          "name": "stderr",
          "text": [
            "/usr/local/lib/python3.7/dist-packages/sklearn/metrics/_classification.py:1318: UndefinedMetricWarning: Precision and F-score are ill-defined and being set to 0.0 in labels with no predicted samples. Use `zero_division` parameter to control this behavior.\n",
            "  _warn_prf(average, modifier, msg_start, len(result))\n",
            "/usr/local/lib/python3.7/dist-packages/sklearn/metrics/_classification.py:1318: UndefinedMetricWarning: Precision and F-score are ill-defined and being set to 0.0 in labels with no predicted samples. Use `zero_division` parameter to control this behavior.\n",
            "  _warn_prf(average, modifier, msg_start, len(result))\n",
            "/usr/local/lib/python3.7/dist-packages/sklearn/metrics/_classification.py:1318: UndefinedMetricWarning: Precision and F-score are ill-defined and being set to 0.0 in labels with no predicted samples. Use `zero_division` parameter to control this behavior.\n",
            "  _warn_prf(average, modifier, msg_start, len(result))\n"
          ]
        }
      ]
    }
  ],
  "metadata": {
    "colab": {
      "collapsed_sections": [],
      "name": "Cap_project_final.ipynb",
      "provenance": []
    },
    "kernelspec": {
      "display_name": "Python 3",
      "name": "python3"
    },
    "language_info": {
      "name": "python"
    },
    "accelerator": "GPU"
  },
  "nbformat": 4,
  "nbformat_minor": 0
}